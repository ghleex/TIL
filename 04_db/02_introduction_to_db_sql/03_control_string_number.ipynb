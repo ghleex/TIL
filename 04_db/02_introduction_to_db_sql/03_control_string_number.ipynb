{
 "cells": [
  {
   "cell_type": "markdown",
   "id": "rough-cookie",
   "metadata": {},
   "source": [
    "# MySQL 문자열 다루기"
   ]
  },
  {
   "cell_type": "markdown",
   "id": "tamil-north",
   "metadata": {},
   "source": [
    "## 1. `LEFT('컬럼명 또는 문자열', '문자열의 길이')`"
   ]
  },
  {
   "cell_type": "markdown",
   "id": "norman-pharmacy",
   "metadata": {},
   "source": [
    "```SQL\n",
    "SELECT LEFT('20140323', 4)\n",
    "```\n",
    "출력 값: 2014"
   ]
  },
  {
   "cell_type": "markdown",
   "id": "changing-edition",
   "metadata": {},
   "source": [
    "# 2. `RIGHT('컬럼명 또는 문자열', '문자열의 길이')`"
   ]
  },
  {
   "cell_type": "markdown",
   "id": "accepted-federal",
   "metadata": {},
   "source": [
    "```SQL\n",
    "SELECT RIGHT('20140323', 4)\n",
    "```\n",
    "출력값: 0323"
   ]
  },
  {
   "cell_type": "markdown",
   "id": "important-moore",
   "metadata": {},
   "source": [
    "# 3. `SUBSTRING('컬럼명 또는 문자열', '시작 위치', '길이')` = `SUBSTR()`"
   ]
  },
  {
   "cell_type": "markdown",
   "id": "searching-athletics",
   "metadata": {},
   "source": [
    "```SQL\n",
    "SUBSTR('20140323', 1, 4) -- 1부터 시작임\n",
    "```\n",
    "출력값: 2014"
   ]
  },
  {
   "cell_type": "markdown",
   "id": "loving-guitar",
   "metadata": {},
   "source": [
    "```SQL\n",
    "SUBSTR('20140323', 5)\n",
    "```\n",
    "출력값: 0323"
   ]
  },
  {
   "cell_type": "markdown",
   "id": "numerical-clearance",
   "metadata": {},
   "source": [
    "# 소수점 다루기"
   ]
  },
  {
   "cell_type": "markdown",
   "id": "acknowledged-patient",
   "metadata": {},
   "source": [
    "## 1. `CEIL()`: 올림"
   ]
  },
  {
   "cell_type": "markdown",
   "id": "olympic-denmark",
   "metadata": {},
   "source": [
    "```SQL\n",
    "SELECT CEIL(5.5)\n",
    "```\n",
    "출력값: 6"
   ]
  },
  {
   "cell_type": "markdown",
   "id": "dangerous-center",
   "metadata": {},
   "source": [
    "## 2. `FLOOR()`: 내림"
   ]
  },
  {
   "cell_type": "markdown",
   "id": "federal-houston",
   "metadata": {},
   "source": [
    "```SQL\n",
    "SELECT FLOOR(5.5)\n",
    "```\n",
    "출력값: 5"
   ]
  },
  {
   "cell_type": "markdown",
   "id": "found-sharp",
   "metadata": {},
   "source": [
    "## 3. `ROUND()`: 반올림"
   ]
  },
  {
   "cell_type": "markdown",
   "id": "promising-optimization",
   "metadata": {},
   "source": [
    "* 기본 형태: `ROUND(실수, 자리수)`\n",
    "```SQL\n",
    "SELECT ROUND(5.556901, 4)\n",
    "```\n",
    "출력값: 5.5569"
   ]
  }
 ],
 "metadata": {
  "kernelspec": {
   "display_name": "Python 3",
   "language": "python",
   "name": "python3"
  },
  "language_info": {
   "codemirror_mode": {
    "name": "ipython",
    "version": 3
   },
   "file_extension": ".py",
   "mimetype": "text/x-python",
   "name": "python",
   "nbconvert_exporter": "python",
   "pygments_lexer": "ipython3",
   "version": "3.8.5"
  }
 },
 "nbformat": 4,
 "nbformat_minor": 5
}
