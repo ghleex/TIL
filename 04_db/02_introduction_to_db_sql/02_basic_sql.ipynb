{
 "cells": [
  {
   "cell_type": "markdown",
   "id": "checked-panama",
   "metadata": {},
   "source": [
    "# 1. Data Table 구조 간단히 보기"
   ]
  },
  {
   "cell_type": "markdown",
   "id": "intimate-wells",
   "metadata": {},
   "source": [
    "* 데이터는 테이블(표) 형태로 저장\n",
    "* 행(row)과 열(column)\n",
    "  * 행: 개별 데이터\n",
    "  * 열: 데이터의 특성"
   ]
  },
  {
   "cell_type": "markdown",
   "id": "incomplete-speaking",
   "metadata": {},
   "source": [
    "# 2. `SELECT` / `FROM` / `LIMIT`"
   ]
  },
  {
   "cell_type": "markdown",
   "id": "tested-hostel",
   "metadata": {},
   "source": [
    "* SELECT: 데이터 가져올 컬럼\n",
    "* FROM: 데이터가 있는 테이블\n",
    "* LIMIT: 몇 개의 데이터를 볼 것인지"
   ]
  },
  {
   "cell_type": "markdown",
   "id": "sapphire-arlington",
   "metadata": {},
   "source": [
    "```SQL\n",
    "SELECT CustomerName, Address\n",
    "-- 컬럼명 대신 '*' 을 쓰게 되면 전체 컬럼의 모든 레코드 정보를 보여주게 됨\n",
    "FROM Customer\n",
    "-- 샘플 데이터만 보고자 할 경우에 유용함\n",
    "LIMIT 10\n",
    "```"
   ]
  },
  {
   "cell_type": "markdown",
   "id": "becoming-court",
   "metadata": {},
   "source": [
    "# 3. 비교연산자 / 논리연산자"
   ]
  },
  {
   "cell_type": "markdown",
   "id": "mounted-right",
   "metadata": {},
   "source": [
    "## 1. 비교연산자"
   ]
  },
  {
   "cell_type": "markdown",
   "id": "aggressive-pressure",
   "metadata": {},
   "source": [
    "* 비교연산자: 특정 컬럼이 특정 값을 가지는 데이터만 불러오기 위하여 사용\n",
    "  * 같다('='), 크다/작다\\['<(=)'/'>(=)'\\]\n",
    "  * 첫 번째\n",
    "    ```SQL\n",
    "    SELECT *\n",
    "    FROM Customers\n",
    "    WHERE Country = 'Germany'\n",
    "    ```\n",
    "  * 두 번째\n",
    "    ```SQL\n",
    "    SELECT *\n",
    "    FROM Customers\n",
    "    WHERE CustomerID < 50\n",
    "    ```\n",
    "  * 세 번째(문자를 비교하는 경우)\n",
    "    ```SQL\n",
    "    SELECT *\n",
    "    FROM Customers\n",
    "    WHERE CustomerName < 'B'\n",
    "    ```"
   ]
  },
  {
   "cell_type": "markdown",
   "id": "alien-groove",
   "metadata": {},
   "source": [
    "## 2. 논리연산자"
   ]
  },
  {
   "cell_type": "markdown",
   "id": "silver-upper",
   "metadata": {},
   "source": [
    "* 여러 개 조건을 결합하고자 할 때\n",
    "  * AND: 두 개 조건을 동시에 만족해야 하는 경우\n",
    "    ```SQL\n",
    "    SELECT *\n",
    "    FROM Customers\n",
    "    WHERE CustomerName < 'B' AND Country = 'Germany'\n",
    "    ```\n",
    "  * OR: 두 개 조건 중 하나만 만족해도 되는 경우\n",
    "    ```SQL\n",
    "    SELECT *\n",
    "    FROM Customers\n",
    "    WHERE CustomerName < 'B' OR Country = 'Germany'\n",
    "    ```"
   ]
  },
  {
   "cell_type": "markdown",
   "id": "august-burning",
   "metadata": {},
   "source": [
    "# 4. `LIKE`, `IN`, `BETWEEN`, `IS NULL`"
   ]
  },
  {
   "cell_type": "markdown",
   "id": "completed-render",
   "metadata": {},
   "source": [
    "## 1. `LIKE`"
   ]
  },
  {
   "cell_type": "markdown",
   "id": "conceptual-rebate",
   "metadata": {},
   "source": [
    "* `LIKE`를 이용하여 문자열의 패턴을 찾을 수 있음\n",
    "  * Country 가 'Br'로 시작하는 데이터를 찾는 경우\n",
    "    ```SQL\n",
    "    SELECT *\n",
    "    FROM Customers\n",
    "    WHERE Country LIKE 'Br%'\n",
    "    ```\n",
    "    * `%`(와일드카드)를 붙이면 해당 위치에 어떤 것이 들어가도 상관 없다는 의미가 됨"
   ]
  },
  {
   "cell_type": "markdown",
   "id": "cultural-atlantic",
   "metadata": {},
   "source": [
    "* Wildcard(`%`)\n",
    "  * 어떤 것이 와도 상관없는 곳을 표시할 때 사용\n",
    "    ```SQL\n",
    "    SELECT *\n",
    "    FROM Customers\n",
    "    WHERE Country LIKE '%r%'\n",
    "    ```\n",
    "    * `%r%`을 넣게 되면 앞뒤 상관 없이 문자에 'r'이 있는 모든 것을 찾게 됨"
   ]
  },
  {
   "cell_type": "markdown",
   "id": "arabic-formation",
   "metadata": {},
   "source": [
    "* 찾고자하는 값이 명확한 경우 `WHERE` 절에서 `=`를 쓰는 것이 빠름\n",
    "  * `WHERE Country = 'Brazil'` > `WHERE Country LIKE 'Brazil'`\n",
    "* 용도에 맞게 사용하는 것이 매우 중요함"
   ]
  },
  {
   "cell_type": "markdown",
   "id": "composed-cincinnati",
   "metadata": {},
   "source": [
    "* 한 글자 와일드카드(`_`) 사용\n",
    "  * 특정 문자 앞뒤로 몇 개의 문자가 나올 것임을 정할 때 사용\n",
    "  ```SQL\n",
    "  SELECT *\n",
    "  FROM Customers\n",
    "  WHERE Country LIKE 'B_____'\n",
    "  ```\n",
    "  * 위의 경우 Brazil 만 나오고 Belgium 등 'B' 이후 문자가 5개가 아닌 것은 검색되지 않음"
   ]
  },
  {
   "cell_type": "markdown",
   "id": "yellow-morgan",
   "metadata": {},
   "source": [
    "* 와일드카드 사용 예\n",
    "    ```SQL\n",
    "    WHERE COL1 LIKE 'a%'   -- 'a'로 시작하는 모든 것\n",
    "    WHERE COL1 LIKE '%a'   -- 'a'로 끝나는 모든 것\n",
    "    WHERE COL1 LIKE '%a%'  -- 'a'를 포함하는 모든 것\n",
    "    WHERE COL1 LIKE '_a%'  -- 두 번째 글자가 'a'인 것\n",
    "    WHERE COL1 LIKE 'a%o'  -- 'a'로 시작해서 'o'로 끝나는 모든 것\n",
    "    ```"
   ]
  },
  {
   "cell_type": "markdown",
   "id": "perceived-proportion",
   "metadata": {},
   "source": [
    "## 2. `IN`, `BETWEEN x AND y`"
   ]
  },
  {
   "cell_type": "markdown",
   "id": "southwest-subsection",
   "metadata": {},
   "source": [
    "* `IN`을 사용하여 결과에서 포함하고자 하는 값 목록을 지정할 수 있음\n",
    "    ```SQL\n",
    "    SELECT *\n",
    "    FROM Customers\n",
    "    WHERE Country IN ('Germany', 'France', 'Korea')\n",
    "    -- 위는 WHERE Country = 'Germany' OR Country = 'France' OR Country = 'Korea' 와 같음\n",
    "    -- 하지만 더 많은 정보를 확인코자할 때는 구문이 너무 길어지므로 `IN`을 활용하는 편이 효율적임\n",
    "    ```"
   ]
  },
  {
   "cell_type": "markdown",
   "id": "convenient-audience",
   "metadata": {},
   "source": [
    "* `BETWEEN x AND y`\n",
    "    ```SQL\n",
    "    SELECT *\n",
    "    FROM Customers\n",
    "    WHERE CustomerID BETWEEN 3 AND 5\n",
    "    -- WHERE 3 <= 'CustomerID' <= 5\n",
    "    ```"
   ]
  },
  {
   "cell_type": "markdown",
   "id": "protective-timer",
   "metadata": {},
   "source": [
    "## 3. `IS NULL`"
   ]
  },
  {
   "cell_type": "markdown",
   "id": "charged-violation",
   "metadata": {},
   "source": [
    "* 빈 데이터를 검색하기 위한 용도\n",
    "    ```SQL\n",
    "    SELECT *\n",
    "    FROM Customers\n",
    "    WHERE CustomerID IS NULL\n",
    "    ```"
   ]
  },
  {
   "cell_type": "markdown",
   "id": "finished-geography",
   "metadata": {},
   "source": [
    "* NULL, NaN(Not a Number; 숫자도 아니고 문자도 아니고, 아무 것도 아니다)"
   ]
  },
  {
   "cell_type": "markdown",
   "id": "conservative-excellence",
   "metadata": {},
   "source": [
    "* NULL 값이 아닌 행을 검색하고자 할 때는 `IS NOT NULL` 사용"
   ]
  }
 ],
 "metadata": {
  "kernelspec": {
   "display_name": "Python 3",
   "language": "python",
   "name": "python3"
  },
  "language_info": {
   "codemirror_mode": {
    "name": "ipython",
    "version": 3
   },
   "file_extension": ".py",
   "mimetype": "text/x-python",
   "name": "python",
   "nbconvert_exporter": "python",
   "pygments_lexer": "ipython3",
   "version": "3.8.5"
  }
 },
 "nbformat": 4,
 "nbformat_minor": 5
}
