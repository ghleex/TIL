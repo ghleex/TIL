{
 "cells": [
  {
   "cell_type": "markdown",
   "id": "norwegian-marine",
   "metadata": {},
   "source": [
    "# JOIN\n",
    "* 눈으로 빠르게 이해할 수 있는 곳: [SQL Joins Visualizer](https://sql-joins.leopard.in.ua/)"
   ]
  },
  {
   "cell_type": "markdown",
   "id": "earned-forth",
   "metadata": {},
   "source": [
    "## 1. `INNER JOIN`"
   ]
  },
  {
   "cell_type": "markdown",
   "id": "sunrise-absorption",
   "metadata": {},
   "source": [
    "* `JOIN` 미사용 코드 - 구식 방법\n",
    "  ```SQL\n",
    "  SELECT *\n",
    "  FROM Users, Olders\n",
    "  WHERE Users.Id = Orders.userId\n",
    "  ```"
   ]
  },
  {
   "cell_type": "markdown",
   "id": "occupational-softball",
   "metadata": {},
   "source": [
    "* `JOIN` 사용 코드\n",
    "  ```SQL\n",
    "  SELECT *\n",
    "  FROM Users -- BASE TABLE\n",
    "       INNER JOIN Orders ON Users.Id = Orders.userId\n",
    "             -- OTHER TABLE | 기준 COLUMN\n",
    "  ````\n",
    "  * 또 다른 예\n",
    "  ```SQL\n",
    "  SELECT *\n",
    "  FROM Orders\n",
    "         INNER JOIN Customers ON Orders.CustomerID = Customers.CustomerID\n",
    "         INNER JOIN Shippers ON Orders.ShipperID = Shippers.ShipperID\n",
    "  ```"
   ]
  },
  {
   "cell_type": "markdown",
   "id": "bulgarian-management",
   "metadata": {},
   "source": [
    "* `INNER JOIN`은 TABLE A와 TABLE B 두 개의 테이블이 있을 때\n",
    "  * TABLE A와 TABLE B에 모두 존재하는 데이터만 출력해줌\n",
    "  * 따라서 벤 다이어그램으로 보면 교집합에 해당하는 부분이라 볼 수 있음"
   ]
  },
  {
   "cell_type": "markdown",
   "id": "front-cassette",
   "metadata": {},
   "source": [
    "* 서로 `JOIN` key로 사용할 수 없는데 COLUMN 이름이 같은 경우가 있음\n",
    "* 관련 정보/테이블이 많아서 `JOIN`이 되는 COLUMN인지 알 수 없어지는 것\n",
    "* DB 내 모든 TABLE을 한 사람이 설계하지 않기 때문에 `JOIN` 해야하는 key 들의 이름이 서로 다른 경우가 있을 수 있음\n",
    "* 결론: ERD를 정확히 볼 줄 알아야 함"
   ]
  },
  {
   "cell_type": "markdown",
   "id": "hourly-delight",
   "metadata": {},
   "source": []
  }
 ],
 "metadata": {
  "kernelspec": {
   "display_name": "Python 3",
   "language": "python",
   "name": "python3"
  },
  "language_info": {
   "codemirror_mode": {
    "name": "ipython",
    "version": 3
   },
   "file_extension": ".py",
   "mimetype": "text/x-python",
   "name": "python",
   "nbconvert_exporter": "python",
   "pygments_lexer": "ipython3",
   "version": "3.8.5"
  }
 },
 "nbformat": 4,
 "nbformat_minor": 5
}
