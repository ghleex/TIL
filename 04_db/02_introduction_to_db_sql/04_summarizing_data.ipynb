{
 "cells": [
  {
   "cell_type": "markdown",
   "id": "failing-directory",
   "metadata": {},
   "source": [
    "# 집계함수"
   ]
  },
  {
   "cell_type": "markdown",
   "id": "exciting-heating",
   "metadata": {},
   "source": [
    "* `COUNT()`: 레코드 수 카운팅\n",
    "  * 괄호 안에 `*`을 넣으면 전체 레코드 수 카운팅\n",
    "  * 컬럼명을 넣으면 NULL이 아닌 레코드 수 카운팅\n",
    "  * `DISTINCT 컬럼명`의 형태인 경우 NULL 제외 + 중복값 제외\n",
    "```SQL\n",
    "SELECT COUNT(*)\n",
    "FROM Products\n",
    "```"
   ]
  },
  {
   "cell_type": "markdown",
   "id": "prostate-spotlight",
   "metadata": {},
   "source": [
    "* `SUM()`: 합계\n",
    "```SQL\n",
    "SELECT SUM(Price)\n",
    "FROM Products\n",
    "```"
   ]
  },
  {
   "cell_type": "markdown",
   "id": "reflected-continuity",
   "metadata": {},
   "source": [
    "* `AVG()`: 평균\n",
    "```SQL\n",
    "SELECT AVG(Price)\n",
    "FROM Products\n",
    "```\n",
    "  * NULL 값에 주의해야 함:\n",
    "    `AVG()` 함수는 기본적으로 NULL 값이 아닌 것으로 계산하므로 평균값은 전체 수가 아닌 NULL이 없는 것들의 개수로 나눈 것임\n",
    "  * NULL을 0으로 간주하고 싶다면:\n",
    "    `SUM()/COUNT(*)`를 이용해야 함"
   ]
  },
  {
   "cell_type": "markdown",
   "id": "covered-dylan",
   "metadata": {},
   "source": [
    "* `MIN()`: 최소값\n",
    "```SQL\n",
    "SELECT MIN(Price)\n",
    "FROM Products\n",
    "```"
   ]
  },
  {
   "cell_type": "markdown",
   "id": "willing-jackson",
   "metadata": {},
   "source": [
    "* `MAX()`: 최대값\n",
    "```SQL\n",
    "SELECT MAX(Price)\n",
    "FROM Products\n",
    "```"
   ]
  },
  {
   "cell_type": "markdown",
   "id": "planned-canberra",
   "metadata": {},
   "source": [
    "# GROUP BY & HAVING"
   ]
  },
  {
   "cell_type": "markdown",
   "id": "exterior-promotion",
   "metadata": {},
   "source": [
    "* `GROUP BY`: 분류\n",
    "  * `GROUP BY`에 있는 것이 `SELECT`에도 꼭 들어가야 함\n",
    "  * 예: 공급자별 평균 가격을 확인하고 싶을 때\n",
    "  ```SQL\n",
    "  SELECT SupplierID,\n",
    "         AVG(Price)\n",
    "  FROM Products\n",
    "  GROUP BY SupplierID\n",
    "  ```\n",
    "  * 예: 공급자, 공급물품별 평균 가격을 확인하고 싶을 때\n",
    "  ```SQL\n",
    "  SELECT SupplierID,\n",
    "         CategoryID,\n",
    "         AVG(Price)\n",
    "  FROM Products\n",
    "  GROUP BY SupplierID, CategoryID\n",
    "  ```"
   ]
  },
  {
   "cell_type": "markdown",
   "id": "controlling-florida",
   "metadata": {},
   "source": [
    "* `HAVING`: 특정 조건의 데이터를 필터링하고 싶을 때 사용\n",
    "  * `WHERE`는 `GROUP BY` 전에 먼저 실행\n",
    "  * `GROUP BY` 결과를 이용할 때는 `WHERE`를 쓰지 않고 `HAVING`을 사용\n",
    "  * 예: 예: 공급자, 공급물품별로 분류된 것 중 평균 가격이 100 이상인 것만을 확인하고 싶을 때\n",
    "  ```SQL\n",
    "  SELECT SupplierID,\n",
    "       CategoryID,\n",
    "       AVG(Price) AS avg_price -- `AS`는 alias. 함수 할당과 비슷한 느낌\n",
    "  FROM Products\n",
    "  GROUP BY SupplierID, CategoryID\n",
    "  HAVING avg_price >= 100\n",
    "  ```"
   ]
  }
 ],
 "metadata": {
  "kernelspec": {
   "display_name": "Python 3",
   "language": "python",
   "name": "python3"
  },
  "language_info": {
   "codemirror_mode": {
    "name": "ipython",
    "version": 3
   },
   "file_extension": ".py",
   "mimetype": "text/x-python",
   "name": "python",
   "nbconvert_exporter": "python",
   "pygments_lexer": "ipython3",
   "version": "3.8.5"
  }
 },
 "nbformat": 4,
 "nbformat_minor": 5
}
