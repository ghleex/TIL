{
 "cells": [
  {
   "cell_type": "markdown",
   "id": "positive-renewal",
   "metadata": {},
   "source": [
    "# UNION"
   ]
  },
  {
   "cell_type": "markdown",
   "id": "integrated-color",
   "metadata": {},
   "source": [
    "* 집합연산 `UNION`\n",
    "  * 중복이 있는 경우에는 중복값을 없애고 두 테이블을 합침"
   ]
  },
  {
   "cell_type": "markdown",
   "id": "israeli-evaluation",
   "metadata": {},
   "source": [
    "* 집합연산 `UNION ALL`\n",
    "  * 중복이 있는 경우 중복값까지 모두 포함하여 두 테이블을 합침"
   ]
  },
  {
   "cell_type": "markdown",
   "id": "ethical-guitar",
   "metadata": {},
   "source": [
    "* `UNION`과 `SELECT`의 차이점\n",
    "  * `SELECT`의 경우에는 중복값을 제외할 때는 `DISTINCT`를 붙이고\n",
    "    * `DISTINCT`를 사용하지 않으면 모든 값이 나오는데, 이때는 `SELECT ALL`과 같음\n",
    "  * `UNION`의 경우에는 `SELECT`와 반대로\n",
    "    * `UNION ALL`을 사용해야 모든 값이 나오고, `ALL`을 빼고 `UNION`을 사용하면 중복값이 제외됨"
   ]
  },
  {
   "cell_type": "markdown",
   "id": "included-audio",
   "metadata": {},
   "source": [
    "* 예: `Product` 테이블에서 `Price`가 5이하 또는 200 이상인 상품만 출력\n",
    "  ```SQL\n",
    "  SELECT *\n",
    "  FROM Products\n",
    "  WHERE Price <= 5\n",
    "  -- 위 테이블과 아래 테이블을 합침\n",
    "  UNION\n",
    "  \n",
    "  SELECT *\n",
    "  FROM Products\n",
    "  WHERE Price >= 200\n",
    "  ```"
   ]
  },
  {
   "cell_type": "markdown",
   "id": "otherwise-domain",
   "metadata": {},
   "source": [
    "* `LEFT JOIN`과 `RIGHT JOIN`을 같이 사용하는 경우\n",
    "  * FULL OUTER JOIN(교집합만 제외)\n",
    "  ```SQL  \n",
    "  SELECT *\n",
    "  FROM Customers -- 고객 정보는 있으나 주문 정보는 없는 경우\n",
    "         LEFT JOIN Orders ON Customers.CustomerID = Orders.CustomerID\n",
    "  UNION  \n",
    "  SELECT *\n",
    "  FROM Customers -- 주문 정보는 있으나 고객 정보는 없는 경우\n",
    "         RIGHT JOIN Orders ON Customers.CustomerID = Orders.CustomerID  \n",
    "  ```"
   ]
  }
 ],
 "metadata": {
  "kernelspec": {
   "display_name": "Python 3",
   "language": "python",
   "name": "python3"
  },
  "language_info": {
   "codemirror_mode": {
    "name": "ipython",
    "version": 3
   },
   "file_extension": ".py",
   "mimetype": "text/x-python",
   "name": "python",
   "nbconvert_exporter": "python",
   "pygments_lexer": "ipython3",
   "version": "3.8.5"
  }
 },
 "nbformat": 4,
 "nbformat_minor": 5
}
