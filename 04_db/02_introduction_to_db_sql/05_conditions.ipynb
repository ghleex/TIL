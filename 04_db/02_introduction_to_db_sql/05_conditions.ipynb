{
 "cells": [
  {
   "cell_type": "markdown",
   "id": "graphic-reason",
   "metadata": {},
   "source": [
    "# 조건문"
   ]
  },
  {
   "cell_type": "markdown",
   "id": "blond-canal",
   "metadata": {},
   "source": [
    "* `CASE` 사용하기\n",
    "    ```SQL\n",
    "    SELECT CASE\n",
    "                WHEN CategoryID = 1 AND SupplierID = 1 THEN '음료'\n",
    "                WHEN CategoryID = 2 THEN '조미료'\n",
    "                ELSE '기타'\n",
    "           END\n",
    "    FROM Products\n",
    "    ```"
   ]
  },
  {
   "cell_type": "markdown",
   "id": "burning-receiver",
   "metadata": {},
   "source": [
    "* `CASE`와 `GROUP BY` 같이 사용하기\n",
    "   * `CASE`를 이용하여 새로운 category를 만들고, 이 category를 기준으로 `GROUP BY`를 사용할 수 있음\n",
    "    ```SQL\n",
    "    SELECT CASE\n",
    "\t\t\tWHEN CategoryId = 1 THEN '음료'\n",
    "            WHEN CategoryID = 2 THEN '소스'\n",
    "            ELSE '이외'\n",
    "           END AS new_category\n",
    "         , AVG(Price)\n",
    "    FROM Products\n",
    "    GROUP BY new_category\n",
    "    ```\n",
    "    * 코드가 순서대로 해석되므로 조건을 작성할 때 순서에 유의해야 함"
   ]
  },
  {
   "cell_type": "markdown",
   "id": "handled-alpha",
   "metadata": {},
   "source": []
  }
 ],
 "metadata": {
  "kernelspec": {
   "display_name": "Python 3",
   "language": "python",
   "name": "python3"
  },
  "language_info": {
   "codemirror_mode": {
    "name": "ipython",
    "version": 3
   },
   "file_extension": ".py",
   "mimetype": "text/x-python",
   "name": "python",
   "nbconvert_exporter": "python",
   "pygments_lexer": "ipython3",
   "version": "3.8.5"
  }
 },
 "nbformat": 4,
 "nbformat_minor": 5
}
