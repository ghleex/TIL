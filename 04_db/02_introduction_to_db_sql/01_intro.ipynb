{
 "cells": [
  {
   "cell_type": "markdown",
   "metadata": {},
   "source": [
    "# 1. Intro"
   ]
  },
  {
   "cell_type": "markdown",
   "metadata": {},
   "source": [
    "* 데이터가 중요한 이유: 데이터를 가공하여 다양한 일을 할 수 있음\n",
    "  * 인터넷에 연결된 앱과 웹을 통해 소식과 지식을 전파할 수 있고\n",
    "  * 빅데이터 또는 인공지능과 같은 기술을 이용하여 대규모의 데이터로부터 통찰력있는 분석 결과를 도출할 수 있음\n",
    "* 이러한 일을 하기 위하여 데이터를 저장하고 꺼낼 수 있어야 함"
   ]
  },
  {
   "cell_type": "markdown",
   "metadata": {},
   "source": [
    "* FILE: 성능, 보안, 편의성에서 한계가 있음\n",
    "  * 파일이 가진 이와 같은 한계를 극복하기 위하여 고안된 전문화된 소프트웨어가 바로 \"데이터베이스\"임"
   ]
  },
  {
   "cell_type": "markdown",
   "metadata": {},
   "source": [
    "# 2. 데이터베이스의 본질 4가지"
   ]
  },
  {
   "cell_type": "markdown",
   "metadata": {},
   "source": [
    "* 매우 방대한 기능을 가지고 있는 정보 도구\n",
    "* 기능이 방대한 이유: 데이터 관련하여 일어날 수 있는 일이 매우 많기 때문\n",
    "* 수많은 기능 중 핵심은 복잡하지 않음"
   ]
  },
  {
   "cell_type": "markdown",
   "metadata": {},
   "source": [
    "* 데이터베이스 내의 데이터를 어떻게 입력하고 어떻게 출력하는가를 따져보는 일을 가장 먼저 해야함\n",
    "  * 데이터 입력 - 생성(CREATE), 수정(UPDATE), 삭제(DELETE) 로 구분 가능\n",
    "  * 데이터 출력 - 읽기(READ)\n",
    "* 이외 복잡한 기능은 CRUD 의 보조일 것임"
   ]
  },
  {
   "cell_type": "markdown",
   "metadata": {},
   "source": [
    "# 3. FILE vs. DATABASE"
   ]
  },
  {
   "cell_type": "markdown",
   "metadata": {},
   "source": [
    "* 개별 파일로 관리할 경우 작성자, 날짜 등으로 별도 정렬하거나 검색하려는 경우 매우 불편함(원하지 않는 결과가 나올 수도 있음)"
   ]
  },
  {
   "cell_type": "markdown",
   "metadata": {},
   "source": [
    "* 이를 해결하기 위해 스프레드시트로 작성하는 경우 정보의 정리정돈이 가능해짐\n",
    "  * 필터 기능을 이용하여 특정 조건에 해당하는 행을 확인할 수 있음"
   ]
  },
  {
   "cell_type": "markdown",
   "metadata": {},
   "source": [
    "* 전문 데이터베이스 소프트웨어: 컴퓨터 언어를 이용한 데이터의 추가, 수정, 삭제, 읽기 가능\n",
    "  * 장점: 자동화 가능. 사람이 일일이 작성하지 않고도 어떤 조건에 따라 자동으로 데이터를 생성, 수정, 삭제, 읽기할 수 있음"
   ]
  }
 ],
 "metadata": {
  "kernelspec": {
   "display_name": "Python 3.8.5 64-bit",
   "language": "python",
   "name": "python38564bit41c0f892f0d2444caf8d56aed2f67eea"
  },
  "language_info": {
   "codemirror_mode": {
    "name": "ipython",
    "version": 3
   },
   "file_extension": ".py",
   "mimetype": "text/x-python",
   "name": "python",
   "nbconvert_exporter": "python",
   "pygments_lexer": "ipython3",
   "version": "3.8.5"
  }
 },
 "nbformat": 4,
 "nbformat_minor": 4
}
