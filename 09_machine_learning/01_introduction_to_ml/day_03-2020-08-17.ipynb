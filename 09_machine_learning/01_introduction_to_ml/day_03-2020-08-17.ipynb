{
 "cells": [
  {
   "cell_type": "markdown",
   "metadata": {},
   "source": [
    "# 1. 머신러닝을 업으로 해보자"
   ]
  },
  {
   "cell_type": "markdown",
   "metadata": {},
   "source": [
    "* 아이디어 현실화 위해서는 데이터가 필요\n",
    "* 레모네이드 카페 운영\n",
    "  * 온도, 판매 수량을 데이터로 표현해야 함"
   ]
  },
  {
   "cell_type": "markdown",
   "metadata": {},
   "source": [
    "* 머신러닝으로 무언가를 하기 위해서는 그와 관련된 데이터가 반드시 필요함\n",
    "* 현실을 데이터화 할 수 있다면 복잡한 현실에서 발견하기 어려운 통찰을 단순해진 데이터로부터 찾아낼 수 있음\n",
    "* 이를 통해 현실을 변화시키는 일을 하는 것이 데이터 산업임"
   ]
  },
  {
   "cell_type": "markdown",
   "metadata": {},
   "source": [
    "* 데이터 과학(data science) vs. 데이터 공학(data engineering)\n",
    "  * 데이터 과학(data science): 데이터를 만들고 만들어진 데이터를 이용하는 일, 데이터 자체를 다룬다 볼 수 있음\n",
    "  * 데이터 공학(data engineering): 데이터를 다루는 도구를 만들고 관리하는 일, 데이터 다루는 것을 도와준다고 볼 수 있음"
   ]
  },
  {
   "cell_type": "markdown",
   "metadata": {},
   "source": [
    "# 2. 표"
   ]
  },
  {
   "cell_type": "markdown",
   "metadata": {},
   "source": [
    "* table: 행과 열에 데이터를 넣으면 정리정돈이 가능\n",
    "* 머신러닝을 투입하면 인간만이 지니고 있다고 여겨졌던 통찰력을 기계도 발휘할 수 있게 됨\n",
    "* 데이터 산업 입문 - 표에 대한 이해는 매우 중요함"
   ]
  },
  {
   "cell_type": "markdown",
   "metadata": {},
   "source": [
    "* 표의 구성\n",
    "  * 표: 데이터의 모임, dataset 이라고도 함\n",
    "  * 행(row), 열(column)  "
   ]
  },
  {
   "cell_type": "markdown",
   "metadata": {},
   "source": [
    "* 레모네이드 카페의 경우를 다시 생각해보면,\n",
    "  * 행(row): 하루 전체 사항\n",
    "  * 열(column): 하루에 다루는 속성"
   ]
  },
  {
   "cell_type": "markdown",
   "metadata": {},
   "source": [
    "* 행과 열을 부르는 다른 이름\n",
    "  * 행: 개체(instance), 관측치(observed value), 기록(record), 사례(example), 경우(case)\n",
    "  * 열: 특성(feature), 속성(attribute), 변수(variable), field"
   ]
  },
  {
   "cell_type": "markdown",
   "metadata": {},
   "source": [
    "* 데이터 한 건을 행(row)에 기록\n",
    "* 데이터의 속성을 열(column)로 구분"
   ]
  },
  {
   "cell_type": "markdown",
   "metadata": {},
   "source": [
    "# 3. 독립변수와 종속변수"
   ]
  },
  {
   "cell_type": "markdown",
   "metadata": {},
   "source": [
    "* 독립변수(independent variable), 종속변수(dependent variable) 이해하기"
   ]
  },
  {
   "cell_type": "markdown",
   "metadata": {},
   "source": [
    "* 변수(variable)\n",
    "  ```python\n",
    "    # example\n",
    "    x = 1\n",
    "    x = 2\n",
    "    temperature = 20\n",
    "    temperature = 21\n",
    "  ```"
   ]
  },
  {
   "cell_type": "markdown",
   "metadata": {},
   "source": [
    "* 독립변수: 원인이 되는 열(column)\n",
    "  * 온도 - 판매량 관계에서 \"온도\"\n",
    "  * 원인은 결과와 상관없이 일어나는 사건\n",
    "  * 판매량 때문에 온도가 달라질 수 없으니, 결과에 영향을 받지 않는 독립적인 사건"
   ]
  },
  {
   "cell_type": "markdown",
   "metadata": {},
   "source": [
    "* 종속변수: 결과가 되는 열(column)\n",
    "  * 온도 - 판매량 관계에서 \"판매량\"\n",
    "  * 원인에 종속되어 발생한 사건"
   ]
  },
  {
   "cell_type": "markdown",
   "metadata": {},
   "source": [
    "* 표를 보았을 때 표에 있는 특성 중 서로 상관관계를 가지는 특성은 무엇일까?\n",
    "* 한 쪽 특성 값이 바뀌었을 때 다른 쪽의 값도 바뀌었다면 두 개의 특성은 서로 관련이 있다고 추측가능, 상관이 있다고 하며 상관 관계라고 함"
   ]
  },
  {
   "cell_type": "markdown",
   "metadata": {},
   "source": [
    "* 각 열이 원인과 결과 관계일 때, 두 개의 열은 인과관계에 있다고 함"
   ]
  },
  {
   "cell_type": "markdown",
   "metadata": {},
   "source": [
    "* 인과관계: 상관관계를 포함함\n",
    "  * 모든 인과관계는 상관관계임\n",
    "  * 하지만 상관관계는 모두 인과관계라고 할 수 없음"
   ]
  },
  {
   "cell_type": "markdown",
   "metadata": {},
   "source": [
    "# 4. 방대한 머신러닝의 세계로"
   ]
  },
  {
   "cell_type": "markdown",
   "metadata": {},
   "source": [
    "* 고도의 심리전이 필요하다?\n",
    "  * 새로 구입한 스마트폰의 기능을 살펴보는 것처럼 머신러닝의 여러 기능을 바라보자\n",
    "* 머신러닝 세계에는 다양한 개념과 도구가 존재\n",
    "  * 지금은 설렘의 마음으로 어떤 분야가 있는지 확인하는 느낌으로 능동적으로 진행하자"
   ]
  }
 ],
 "metadata": {
  "kernelspec": {
   "display_name": "Python 3.8.5 64-bit",
   "language": "python",
   "name": "python38564bit41c0f892f0d2444caf8d56aed2f67eea"
  },
  "language_info": {
   "codemirror_mode": {
    "name": "ipython",
    "version": 3
   },
   "file_extension": ".py",
   "mimetype": "text/x-python",
   "name": "python",
   "nbconvert_exporter": "python",
   "pygments_lexer": "ipython3",
   "version": "3.8.5"
  }
 },
 "nbformat": 4,
 "nbformat_minor": 4
}
