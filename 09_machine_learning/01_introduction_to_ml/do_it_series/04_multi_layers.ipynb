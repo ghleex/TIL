{
 "cells": [
  {
   "cell_type": "markdown",
   "metadata": {},
   "source": [
    "## 배치 경사 하강법을 이용하여 성능 향상"
   ]
  },
  {
   "cell_type": "code",
   "execution_count": 1,
   "metadata": {},
   "outputs": [
    {
     "name": "stdout",
     "output_type": "stream",
     "text": [
      "(364, 30) (91, 30)\n"
     ]
    }
   ],
   "source": [
    "import numpy as np\n",
    "import matplotlib.pyplot as plt\n",
    "from sklearn.datasets import load_breast_cancer\n",
    "from sklearn.model_selection import train_test_split\n",
    "\n",
    "cancer = load_breast_cancer()\n",
    "x = cancer.data\n",
    "y = cancer.target\n",
    "x_train_all, x_test, y_train_all, y_test = train_test_split(x, y, stratify=y, test_size=0.2, random_state=42)\n",
    "x_train, x_val, y_train, y_val = train_test_split(x_train_all, y_train_all, stratify=y_train_all, test_size=0.2, random_state=42)\n",
    "\n",
    "print(x_train.shape, x_val.shape)"
   ]
  },
  {
   "cell_type": "code",
   "execution_count": 2,
   "metadata": {},
   "outputs": [],
   "source": [
    "class SingleLayer:\n",
    "    def __init__(self, learning_rate=0.1, l1=0, l2=0):\n",
    "        self.w = None\n",
    "        self.b = None\n",
    "        self.losses = []\n",
    "        self.val_losses = []\n",
    "        self.w_history = []\n",
    "        self.lr = learning_rate\n",
    "        self.l1 = l1\n",
    "        self.l2 = l2\n",
    "        \n",
    "    def forpass(self, x):\n",
    "        # 직선 방정식 계산\n",
    "        z = np.dot(x, self.w) + self.b\n",
    "        return z\n",
    "    \n",
    "    def backprop(self, x, err):\n",
    "        m = len(x)\n",
    "        # 가중치에 대한 평균 gradient 계산\n",
    "        w_grad = np.dot(x.T, err) / m\n",
    "        # 절편에 대한 평균 gradient 계산\n",
    "        b_grad = np.sum(err) / m\n",
    "        return w_grad, b_grad\n",
    "    \n",
    "    # 활성화 함수\n",
    "    def activation(self, z):\n",
    "        # 시그모이드 계산\n",
    "        a = 1 / (1 + np.exp(-z))\n",
    "        return a\n",
    "    \n",
    "    # 훈련\n",
    "    def fit(self, x, y, epochs=100, x_val=None, y_val=None):\n",
    "        # 타깃을 열 벡터로 바꾸기\n",
    "        y = y.reshape(-1, 1)\n",
    "        # 검증용 타깃을 열 벡터로 바꾸기\n",
    "        y_val = y_val.reshape(-1, 1)\n",
    "        # 샘플 개수 저장\n",
    "        m = len(x)\n",
    "        # 가중치 초기화\n",
    "        self.w = np.ones((x.shape[1], 1))\n",
    "        # 절편 초기화\n",
    "        self.b = 0\n",
    "        # 가중치 기록\n",
    "        self.w_history.append(self.w.copy())\n",
    "        # epoch만큼 반복\n",
    "        for i in range(epochs):\n",
    "            # 정방향 계산 수행\n",
    "            z = self.forpass(x)\n",
    "            # 활성화 함수 적용\n",
    "            a = self.activation(z)\n",
    "            # 오차 계산\n",
    "            err = -(y - a)\n",
    "            # 오차를 역전파하여 gradient 계산\n",
    "            w_grad, b_grad = self.backprop(x, err)\n",
    "            # gradient에서 페널티 항의 미분값 더하기\n",
    "            w_grad += (self.l1 * np.sign(self.w) + self.l2 * self.w) / m\n",
    "            # 가중치와 절편 업데이트\n",
    "            self.w -= self.lr * w_grad\n",
    "            self.b -= self.lr * b_grad\n",
    "            # 가중치 기록\n",
    "            self.w_history.append(self.w.copy())\n",
    "            # 안전한 로그 계산을 위한 클리핑\n",
    "            a = np.clip(a, 1e-10, 1 - 1e-10)\n",
    "            loss = np.sum(-(y * np.log(a) + (1 - y) * np.log(1 - a)))\n",
    "            self.losses.append((loss + self.reg_loss()) / m)\n",
    "            # 검증세트에 대한 손실 계산\n",
    "            self.update_val_loss(x_val, y_val)    \n",
    "\n",
    "    # 예측\n",
    "    def predict(self, x):\n",
    "        # 정방향 계산\n",
    "        z = self.forpass(x)\n",
    "        # 스텝 함수 적용\n",
    "        return z > 0\n",
    "    \n",
    "    # 정확도 계산\n",
    "    def score(self, x, y):\n",
    "        return np.mean(self.predict(x) == y.reshape(-1, 1))\n",
    "    \n",
    "    # 로지스틱 손실 함수 계산에 페널티 항 추가\n",
    "    def reg_loss(self):\n",
    "        return self.l1 * np.sum(np.abs(self.w)) + self.l2 / 2 * np.sum(self.w ** 2)\n",
    "    \n",
    "    # 검증 세트 손실 계산\n",
    "    def update_val_loss(self, x_val, y_val):\n",
    "        # 정방향 계산\n",
    "        z = self.forpass(x_val)\n",
    "        a = self.activation(z)\n",
    "        a = np.clip(a, 1e-10, 1 - 1e-10)\n",
    "        # 로그 손실과 규제 손실을 더하여 리스트에 추가\n",
    "        val_loss = np.sum(-(y_val * np.log(a)) + (1 - y_val) * np.log(1 - a))\n",
    "        self.val_losses.append((val_loss + self.reg_loss()) / len(y_val))"
   ]
  },
  {
   "cell_type": "code",
   "execution_count": 3,
   "metadata": {},
   "outputs": [],
   "source": [
    "# import numpy as np\n",
    "# import matplotlib.pyplot as plt\n",
    "from sklearn.preprocessing import StandardScaler\n",
    "\n",
    "scaler = StandardScaler()\n",
    "scaler.fit(x_train)\n",
    "x_train_scaled = scaler.transform(x_train)\n",
    "x_val_scaled = scaler.transform(x_val)"
   ]
  },
  {
   "cell_type": "code",
   "execution_count": 4,
   "metadata": {},
   "outputs": [
    {
     "data": {
      "text/plain": [
       "0.978021978021978"
      ]
     },
     "execution_count": 4,
     "metadata": {},
     "output_type": "execute_result"
    }
   ],
   "source": [
    "single_layer = SingleLayer(l2=0.01)\n",
    "single_layer.fit(x_train_scaled, y_train, x_val=x_val_scaled, y_val=y_val, epochs=10000)\n",
    "single_layer.score(x_val_scaled, y_val)"
   ]
  },
  {
   "cell_type": "code",
   "execution_count": 5,
   "metadata": {},
   "outputs": [
    {
     "data": {
      "image/png": "[encoded data removed]",
      "text/plain": [
       "<Figure size 432x288 with 1 Axes>"
      ]
     },
     "metadata": {
      "needs_background": "light"
     },
     "output_type": "display_data"
    }
   ],
   "source": [
    "plt.ylim(0, 0.3)\n",
    "plt.plot(single_layer.losses)\n",
    "plt.plot(single_layer.val_losses)\n",
    "plt.ylabel('loss')\n",
    "plt.xlabel('epoch')\n",
    "plt.legend(['train_loss', 'val_loss'])\n",
    "plt.show()"
   ]
  },
  {
   "cell_type": "code",
   "execution_count": 6,
   "metadata": {},
   "outputs": [
    {
     "data": {
      "image/png": "[encoded data removed]",
      "text/plain": [
       "<Figure size 432x288 with 1 Axes>"
      ]
     },
     "metadata": {
      "needs_background": "light"
     },
     "output_type": "display_data"
    }
   ],
   "source": [
    "w2 = []\n",
    "w3 = []\n",
    "for w in single_layer.w_history:\n",
    "    w2.append(w[2])\n",
    "    w3.append(w[3])\n",
    "\n",
    "plt.plot(w2, w3)\n",
    "plt.plot(w2[-1], w3[-1], 'ro')\n",
    "plt.xlabel('w[2]')\n",
    "plt.ylabel('w[3]')\n",
    "plt.show()"
   ]
  },
  {
   "cell_type": "markdown",
   "metadata": {},
   "source": [
    "## 2개 층 가진 신경망 구현"
   ]
  },
  {
   "cell_type": "code",
   "execution_count": 7,
   "metadata": {},
   "outputs": [],
   "source": [
    "class DualLayer(SingleLayer):\n",
    "    def __init__(self, units=10, learning_rate=0.1, l1=0, l2=0):\n",
    "        # 은닉층의 뉴런 개수\n",
    "        self.units = units\n",
    "        # 은닉층의 가중치\n",
    "        self.w1 = None\n",
    "        # 은닉층의 절편\n",
    "        self.b1 = None\n",
    "        # 출력층의 가중치\n",
    "        self.w2 = None\n",
    "        # 출력층의 절편\n",
    "        self.b2 = None\n",
    "        # 은닉층의 활성화 출력\n",
    "        self.a1 = None\n",
    "        # 훈련 손실\n",
    "        self.losses = []\n",
    "        # 검증 손실\n",
    "        self.val_losses = []\n",
    "        # 학습률\n",
    "        self.lr = learning_rate\n",
    "        # L1 손실 하이퍼파라미터\n",
    "        self.l1 = l1\n",
    "        # L2 손실 하이퍼파라미터\n",
    "        self.l2 = l2\n",
    "    \n",
    "    def forpass(self, x):\n",
    "        # 첫 번째 층의 선형식 계산\n",
    "        z1 = np.dot(x, self.w1) + self.b1\n",
    "        # 활성화 함수 적용\n",
    "        self.a1 = self.activation(z1)\n",
    "        # 두 번째 층의 선형식 계산\n",
    "        z2 = np.dot(self.a1, self.w2) + self.b2\n",
    "        return z2\n",
    "    \n",
    "    def backprop(self, x, err):\n",
    "        # 샘플 개수\n",
    "        m = len(x)\n",
    "        # 출력층의 가중치와 절편에 대한 gradient 계산\n",
    "        w2_grad = np.dot(self.a1.T, err) / m\n",
    "        b2_grad = np.sum(err) / m\n",
    "        # sigmoid 함수까지 gradient 계산\n",
    "        err_to_hidden = np.dot(err, self.w2.T) * self.a1 * (1 - self.a1)\n",
    "        # 은닉층의 가중치와 절편에 대한 gradient 계산\n",
    "        w1_grad = np.dot(x.T, err_to_hidden) / m\n",
    "        b1_grad = np.sum(err_to_hidden, axis=0) / m\n",
    "        \n",
    "        return w1_grad, b1_grad, w2_grad, b2_grad\n",
    "    \n",
    "    def init_weights(self, n_features):\n",
    "        # (특성 개수, 은닉층의 크기)\n",
    "        self.w1 = np.ones((n_features, self.units))\n",
    "        # 은닉층의 크기\n",
    "        self.b1 = np.zeros(self.units)\n",
    "        # (은닉층의 크기, 1)\n",
    "        self.w2 = np.ones((self.units, 1))\n",
    "        self.b2 = 0\n",
    "    \n",
    "    def fit(self, x, y, epochs=100, x_val=None, y_val=None):\n",
    "        # 타겟을 열 벡터로 바꾸기\n",
    "        y = y.reshape(-1, 1)\n",
    "        y_val = y_val.reshape(-1, 1)\n",
    "        # 샘플 개수 저장\n",
    "        m = len(x)\n",
    "        # 은닉층과 출력층의 가중치 초기화\n",
    "        self.init_weights(x.shape[1])\n",
    "        # epoch 만큼 반복\n",
    "        for i in range(epochs):\n",
    "            a = self.training(x, y, m)\n",
    "            # 안전한 로그 계산을 위한 클리핑\n",
    "            a = np.clip(a, 1e-10, 1 - 1e-10)\n",
    "            # 로그 손실과 규제 손실을 더하여 리스트에 추가\n",
    "            loss = np.sum(-(y * np.log(a) + (1 - y) * np.log(1 - a)))\n",
    "            self.losses.append((loss + self.reg_loss()) / m)\n",
    "            # 검증 세트에 대한 손실 계산\n",
    "            self.update_val_loss(x_val, y_val)\n",
    "    \n",
    "    def training(self, x, y, m):\n",
    "        # 정방향 계산\n",
    "        z = self.forpass(x)\n",
    "        # 활성화 함수\n",
    "        a = self.activation(z)\n",
    "        # 오차 계산\n",
    "        err = -(y - a)\n",
    "        # 오차를 역전파하여 gradient 계산\n",
    "        w1_grad, b1_grad, w2_grad, b2_grad = self.backprop(x, err)\n",
    "        # gradient 에서 패널티 항의 미분값 빼기\n",
    "        w1_grad += (self.l1 * np.sign(self.w1) + self.l2 * self.w1) / m\n",
    "        w2_grad += (self.l1 * np.sign(self.w2) + self.l2 * self.w2) / m\n",
    "        # 은닉층의 가중치와 절편 업데이트\n",
    "        self.w1 -= self.lr * w1_grad\n",
    "        self.b1 -= self.lr * b1_grad\n",
    "        # 출력층의 가중치와 절편 업데이트\n",
    "        self.w2 -= self.lr * w2_grad\n",
    "        self.b2 -= self.lr * b2_grad\n",
    "        \n",
    "        return a\n",
    "    \n",
    "    \n",
    "    def reg_loss(self):\n",
    "        # 은닉층과 출력층의 가중치에 규제 적용\n",
    "        return self.l1 * (np.sum(np.abs(self.w1)) + np.sum(np.abs(self.w2))) + \\\n",
    "                self.l2 / 2 * (np.sum(self.w1 ** 2) + np.sum(self.w2 ** 2))        \n",
    "        "
   ]
  },
  {
   "cell_type": "code",
   "execution_count": 8,
   "metadata": {},
   "outputs": [
    {
     "data": {
      "text/plain": [
       "0.978021978021978"
      ]
     },
     "execution_count": 8,
     "metadata": {},
     "output_type": "execute_result"
    }
   ],
   "source": [
    "dual_layer = DualLayer(l2=0.01)\n",
    "dual_layer.fit(x_train_scaled, y_train, \n",
    "               x_val=x_val_scaled, y_val=y_val, epochs=20000)\n",
    "dual_layer.score(x_val_scaled, y_val)"
   ]
  },
  {
   "cell_type": "code",
   "execution_count": 9,
   "metadata": {},
   "outputs": [
    {
     "data": {
      "image/png": "[encoded data removed]",
      "text/plain": [
       "<Figure size 432x288 with 1 Axes>"
      ]
     },
     "metadata": {
      "needs_background": "light"
     },
     "output_type": "display_data"
    }
   ],
   "source": [
    "plt.ylim(0, 0.3)\n",
    "plt.plot(dual_layer.losses)\n",
    "plt.plot(dual_layer.val_losses)\n",
    "plt.ylabel('loss')\n",
    "plt.xlabel('epoch')\n",
    "plt.legend(['train_loss', 'val_loss'])\n",
    "plt.show()"
   ]
  },
  {
   "cell_type": "markdown",
   "metadata": {},
   "source": [
    "## 가중치 초기화 개선하기"
   ]
  },
  {
   "cell_type": "code",
   "execution_count": 10,
   "metadata": {},
   "outputs": [],
   "source": [
    "class RandomInitNetwork(DualLayer):\n",
    "    def init_weights(self, n_features):\n",
    "        np.random.seed(42)\n",
    "        self.w1 = np.random.normal(0, 1, (n_features, self.units)) # (특성 개수, 은닉층의 크기)\n",
    "        self.b1 = np.zeros(self.units) # 은닉층의 크기\n",
    "        self.w2 = np.random.normal(0, 1, (self.units, 1)) # (은닉층의 크기, 1)\n",
    "        self.b2 = 0"
   ]
  },
  {
   "cell_type": "code",
   "execution_count": 11,
   "metadata": {},
   "outputs": [
    {
     "data": {
      "image/png": "[encoded data removed]",
      "text/plain": [
       "<Figure size 432x288 with 1 Axes>"
      ]
     },
     "metadata": {
      "needs_background": "light"
     },
     "output_type": "display_data"
    }
   ],
   "source": [
    "random_init_net = RandomInitNetwork(l2=0.01)\n",
    "random_init_net.fit(x_train_scaled, y_train, x_val=x_val_scaled, y_val=y_val, epochs=500)\n",
    "\n",
    "\n",
    "plt.plot(random_init_net.losses)\n",
    "plt.plot(random_init_net.val_losses)\n",
    "plt.ylabel('loss')\n",
    "plt.xlabel('epoch')\n",
    "plt.legend(['train_loss', 'val_loss'])\n",
    "plt.show()"
   ]
  },
  {
   "cell_type": "markdown",
   "metadata": {},
   "source": [
    "## 미니 배치 사용하여 모델 훈련"
   ]
  },
  {
   "cell_type": "code",
   "execution_count": 12,
   "metadata": {},
   "outputs": [],
   "source": [
    "class MinibatchNetwork(RandomInitNetwork):\n",
    "    def __init__(self, units=10, batch_size=32, learning_rate=0.1, l1=0, l2=0):\n",
    "        super().__init__(units, learning_rate, l1, l2)\n",
    "        self.batch_size = batch_size\n",
    "        \n",
    "    def fit(self, x, y, epochs=100, x_val=None, y_val=None):\n",
    "        y_val = y_val.reshape(-1, 1)\n",
    "        self.init_weights(x.shape[1])\n",
    "        np.random.seed(42)\n",
    "        # epochs만큼 반복\n",
    "        for i in range(epochs):\n",
    "            loss = 0\n",
    "            for x_batch, y_batch in self.gen_batch(x, y):\n",
    "                y_batch = y_batch.reshape(-1, 1)\n",
    "                m = len(x_batch)\n",
    "                a = self.training(x_batch, y_batch, m)\n",
    "                # 안전한 로그 계산을 위한 클리핑\n",
    "                a = np.clip(a, 1e-10, 1 - 1e-10)\n",
    "                # 로그 손실과 규제 손실을 더하여 리스트에 추가\n",
    "                loss += np.sum(-(y_batch * np.log(a) + (1 - y_batch) * np.log(1 - a)))\n",
    "            self.losses.append((loss + self.reg_loss()) / len(x))\n",
    "            # 검증 세트에 대한 손실 계산\n",
    "            self.update_val_loss(x_val, y_val)\n",
    "    \n",
    "    # 제너레이터 함수로 만듦\n",
    "    # 제너라이터를 사용하면 명시적으로 리스트를 만들지 않으면서\n",
    "    # 필요한 만큼 데이터 추출 가능해 메모리의 효율적인 사용 가능\n",
    "    def gen_batch(self, x, y):\n",
    "        length = len(x)\n",
    "        # 미니 배치 횟수\n",
    "        bins = length // self.batch_size\n",
    "        if length % self.batch_size:\n",
    "            # 나누어 떨어지지 않는 경우\n",
    "            bins += 1\n",
    "        # 인덱스 섞기\n",
    "        idxes = np.random.permutation(np.arange(len(x)))\n",
    "        x = x[idxes]\n",
    "        y = y[idxes]\n",
    "        for i in range(bins):\n",
    "            start = self.batch_size * i\n",
    "            end = self.batch_size * (i + 1)\n",
    "            # batch_size 만큼 슬라이싱하여 반환\n",
    "            yield x[start:end], y[start:end]"
   ]
  },
  {
   "cell_type": "code",
   "execution_count": 13,
   "metadata": {},
   "outputs": [
    {
     "data": {
      "text/plain": [
       "0.978021978021978"
      ]
     },
     "execution_count": 13,
     "metadata": {},
     "output_type": "execute_result"
    }
   ],
   "source": [
    "minibatch_net = MinibatchNetwork(l2=0.01, batch_size=32)\n",
    "minibatch_net.fit(x_train_scaled, y_train, x_val=x_val_scaled, y_val=y_val, epochs=500)\n",
    "minibatch_net.score(x_val_scaled, y_val)"
   ]
  },
  {
   "cell_type": "code",
   "execution_count": 14,
   "metadata": {},
   "outputs": [
    {
     "data": {
      "image/png": "[encoded data removed]",
      "text/plain": [
       "<Figure size 432x288 with 1 Axes>"
      ]
     },
     "metadata": {
      "needs_background": "light"
     },
     "output_type": "display_data"
    }
   ],
   "source": [
    "plt.plot(minibatch_net.losses)\n",
    "plt.plot(minibatch_net.val_losses)\n",
    "plt.ylabel('loss')\n",
    "plt.xlabel('iteration')\n",
    "plt.legend(['train_loss', 'val_loss'])\n",
    "plt.show()"
   ]
  },
  {
   "cell_type": "code",
   "execution_count": 15,
   "metadata": {},
   "outputs": [
    {
     "data": {
      "text/plain": [
       "0.978021978021978"
      ]
     },
     "execution_count": 15,
     "metadata": {},
     "output_type": "execute_result"
    }
   ],
   "source": [
    "minibatch_net = MinibatchNetwork(l2=0.01, batch_size=128)\n",
    "minibatch_net.fit(x_train_scaled, y_train, x_val=x_val_scaled, y_val=y_val, epochs=500)\n",
    "minibatch_net.score(x_val_scaled, y_val)"
   ]
  },
  {
   "cell_type": "code",
   "execution_count": 16,
   "metadata": {},
   "outputs": [
    {
     "data": {
      "image/png": "[encoded data removed]",
      "text/plain": [
       "<Figure size 432x288 with 1 Axes>"
      ]
     },
     "metadata": {
      "needs_background": "light"
     },
     "output_type": "display_data"
    }
   ],
   "source": [
    "plt.plot(minibatch_net.losses)\n",
    "plt.plot(minibatch_net.val_losses)\n",
    "plt.ylabel('loss')\n",
    "plt.xlabel('iteration')\n",
    "plt.legend(['train_loss', 'val_loss'])\n",
    "plt.show()"
   ]
  },
  {
   "cell_type": "code",
   "execution_count": 17,
   "metadata": {},
   "outputs": [
    {
     "data": {
      "text/plain": [
       "'\\nhidden_layer_sizes: 은닉층 크기 정의\\n은닉층의 수와 뉴런의 개수를 튜플로 정의. 기본값은 (100, )\\n10개 뉴런을 가진 2개 은닉층: (10, 10)\\n\\nactivation: 활성화 함수 지정\\n기본값: ReLU\\n\\nsolver: 경사 하강법 알고리즘 종류 지정\\n기본값: sgd\\n\\nalpha: 규제 적용 위한 매개변수. L2 규제만 지원\\n기본값: 0.0001\\n\\nbatch_size: 배치 크기\\nlearning_rate_init: 학습률 초기값\\nmax_iter: epoch 횟수\\n'"
      ]
     },
     "execution_count": 17,
     "metadata": {},
     "output_type": "execute_result"
    }
   ],
   "source": [
    "from sklearn.neural_network import MLPClassifier\n",
    "\n",
    "mlp = MLPClassifier(\n",
    "    hidden_layer_sizes=(10, ), activation='logistic', solver='sgd', alpha=0.01,\n",
    "    batch_size=32, learning_rate_init=0.1, max_iter=500\n",
    ")\n",
    "\n",
    "\"\"\"\n",
    "hidden_layer_sizes: 은닉층 크기 정의\n",
    "은닉층의 수와 뉴런의 개수를 튜플로 정의. 기본값은 (100, )\n",
    "10개 뉴런을 가진 2개 은닉층: (10, 10)\n",
    "\n",
    "activation: 활성화 함수 지정\n",
    "기본값: ReLU\n",
    "\n",
    "solver: 경사 하강법 알고리즘 종류 지정\n",
    "기본값: sgd\n",
    "\n",
    "alpha: 규제 적용 위한 매개변수. L2 규제만 지원\n",
    "기본값: 0.0001\n",
    "\n",
    "batch_size: 배치 크기\n",
    "learning_rate_init: 학습률 초기값\n",
    "max_iter: epoch 횟수\n",
    "\"\"\""
   ]
  },
  {
   "cell_type": "code",
   "execution_count": 18,
   "metadata": {},
   "outputs": [
    {
     "data": {
      "text/plain": [
       "0.989010989010989"
      ]
     },
     "execution_count": 18,
     "metadata": {},
     "output_type": "execute_result"
    }
   ],
   "source": [
    "mlp.fit(x_train_scaled, y_train)\n",
    "mlp.score(x_val_scaled, y_val)"
   ]
  },
  {
   "cell_type": "code",
   "execution_count": null,
   "metadata": {},
   "outputs": [],
   "source": []
  }
 ],
 "metadata": {
  "kernelspec": {
   "display_name": "Python 3",
   "language": "python",
   "name": "python3"
  },
  "language_info": {
   "codemirror_mode": {
    "name": "ipython",
    "version": 3
   },
   "file_extension": ".py",
   "mimetype": "text/x-python",
   "name": "python",
   "nbconvert_exporter": "python",
   "pygments_lexer": "ipython3",
   "version": "3.8.5"
  }
 },
 "nbformat": 4,
 "nbformat_minor": 4
}
