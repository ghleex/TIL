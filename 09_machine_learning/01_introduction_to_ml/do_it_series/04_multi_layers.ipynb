{
 "cells": [
  {
   "cell_type": "markdown",
   "metadata": {},
   "source": [
    "## 배치 경사 하강법을 이용하여 성능 향상"
   ]
  },
  {
   "cell_type": "code",
   "execution_count": 1,
   "metadata": {},
   "outputs": [
    {
     "name": "stdout",
     "output_type": "stream",
     "text": [
      "(364, 30) (91, 30)\n"
     ]
    }
   ],
   "source": [
    "import numpy as np\n",
    "import matplotlib.pyplot as plt\n",
    "from sklearn.datasets import load_breast_cancer\n",
    "from sklearn.model_selection import train_test_split\n",
    "\n",
    "cancer = load_breast_cancer()\n",
    "x = cancer.data\n",
    "y = cancer.target\n",
    "x_train_all, x_test, y_train_all, y_test = train_test_split(x, y, stratify=y, test_size=0.2, random_state=42)\n",
    "x_train, x_val, y_train, y_val = train_test_split(x_train_all, y_train_all, stratify=y_train_all, test_size=0.2, random_state=42)\n",
    "\n",
    "print(x_train.shape, x_val.shape)"
   ]
  },
  {
   "cell_type": "code",
   "execution_count": 2,
   "metadata": {},
   "outputs": [],
   "source": [
    "class SingleLayer:\n",
    "    def __init__(self, learning_rate=0.1, l1=0, l2=0):\n",
    "        self.w = None\n",
    "        self.b = None\n",
    "        self.losses = []\n",
    "        self.val_losses = []\n",
    "        self.w_history = []\n",
    "        self.lr = learning_rate\n",
    "        self.l1 = l1\n",
    "        self.l2 = l2\n",
    "        \n",
    "    def forpass(self, x):\n",
    "        # 직선 방정식 계산\n",
    "        z = np.dot(x, self.w) + self.b\n",
    "        return z\n",
    "    \n",
    "    def backprop(self, x, err):\n",
    "        m = len(x)\n",
    "        # 가중치에 대한 평균 gradient 계산\n",
    "        w_grad = np.dot(x.T, err) / m\n",
    "        # 절편에 대한 평균 gradient 계산\n",
    "        b_grad = np.sum(err) / m\n",
    "        return w_grad, b_grad\n",
    "    \n",
    "    # 활성화 함수\n",
    "    def activation(self, z):\n",
    "        # 시그모이드 계산\n",
    "        a = 1 / (1 + np.exp(-z))\n",
    "        return a\n",
    "    \n",
    "    # 훈련\n",
    "    def fit(self, x, y, epochs=100, x_val=None, y_val=None):\n",
    "        # 타깃을 열 벡터로 바꾸기\n",
    "        y = y.reshape(-1, 1)\n",
    "        # 검증용 타깃을 열 벡터로 바꾸기\n",
    "        y_val = y_val.reshape(-1, 1)\n",
    "        # 샘플 개수 저장\n",
    "        m = len(x)\n",
    "        # 가중치 초기화\n",
    "        self.w = np.ones((x.shape[1], 1))\n",
    "        # 절편 초기화\n",
    "        self.b = 0\n",
    "        # 가중치 기록\n",
    "        self.w_history.append(self.w.copy())\n",
    "        # epoch만큼 반복\n",
    "        for i in range(epochs):\n",
    "            # 정방향 계산 수행\n",
    "            z = self.forpass(x)\n",
    "            # 활성화 함수 적용\n",
    "            a = self.activation(z)\n",
    "            # 오차 계산\n",
    "            err = -(y - a)\n",
    "            # 오차를 역전파하여 gradient 계산\n",
    "            w_grad, b_grad = self.backprop(x, err)\n",
    "            # gradient에서 페널티 항의 미분값 더하기\n",
    "            w_grad += (self.l1 * np.sign(self.w) + self.l2 * self.w) / m\n",
    "            # 가중치와 절편 업데이트\n",
    "            self.w -= self.lr * w_grad\n",
    "            self.b -= self.lr * b_grad\n",
    "            # 가중치 기록\n",
    "            self.w_history.append(self.w.copy())\n",
    "            # 안전한 로그 계산을 위한 클리핑\n",
    "            a = np.clip(a, 1e-10, 1 - 1e-10)\n",
    "            loss = np.sum(-(y * np.log(a) + (1 - y) * np.log(1 - a)))\n",
    "            self.losses.append((loss + self.reg_loss()) / m)\n",
    "            # 검증세트에 대한 손실 계산\n",
    "            self.update_val_loss(x_val, y_val)    \n",
    "\n",
    "    # 예측\n",
    "    def predict(self, x):\n",
    "        # 정방향 계산\n",
    "        z = self.forpass(x)\n",
    "        # 스텝 함수 적용\n",
    "        return z > 0\n",
    "    \n",
    "    # 정확도 계산\n",
    "    def score(self, x, y):\n",
    "        return np.mean(self.predict(x) == y.reshape(-1, 1))\n",
    "    \n",
    "    # 로지스틱 손실 함수 계산에 페널티 항 추가\n",
    "    def reg_loss(self):\n",
    "        return self.l1 * np.sum(np.abs(self.w)) + self.l2 / 2 * np.sum(self.w ** 2)\n",
    "    \n",
    "    # 검증 세트 손실 계산\n",
    "    def update_val_loss(self, x_val, y_val):\n",
    "        # 정방향 계산\n",
    "        z = self.forpass(x_val)\n",
    "        a = self.activation(z)\n",
    "        a = np.clip(a, 1e-10, 1 - 1e-10)\n",
    "        # 로그 손실과 규제 손실을 더하여 리스트에 추가\n",
    "        val_loss = np.sum(-(y_val * np.log(a)) + (1 - y_val) * np.log(1 - a))\n",
    "        self.val_losses.append((val_loss + self.reg_loss()) / len(y_val))"
   ]
  },
  {
   "cell_type": "code",
   "execution_count": 3,
   "metadata": {},
   "outputs": [],
   "source": [
    "# import numpy as np\n",
    "# import matplotlib.pyplot as plt\n",
    "from sklearn.preprocessing import StandardScaler\n",
    "\n",
    "scaler = StandardScaler()\n",
    "scaler.fit(x_train)\n",
    "x_train_scaled = scaler.transform(x_train)\n",
    "x_val_scaled = scaler.transform(x_val)"
   ]
  },
  {
   "cell_type": "code",
   "execution_count": 4,
   "metadata": {},
   "outputs": [
    {
     "data": {
      "text/plain": [
       "0.978021978021978"
      ]
     },
     "execution_count": 4,
     "metadata": {},
     "output_type": "execute_result"
    }
   ],
   "source": [
    "single_layer = SingleLayer(l2=0.01)\n",
    "single_layer.fit(x_train_scaled, y_train, x_val=x_val_scaled, y_val=y_val, epochs=10000)\n",
    "single_layer.score(x_val_scaled, y_val)"
   ]
  },
  {
   "cell_type": "code",
   "execution_count": 5,
   "metadata": {},
   "outputs": [
    {
     "data": {
      "image/png": "[encoded data removed]",
      "text/plain": [
       "<Figure size 432x288 with 1 Axes>"
      ]
     },
     "metadata": {
      "needs_background": "light"
     },
     "output_type": "display_data"
    }
   ],
   "source": [
    "plt.ylim(0, 0.3)\n",
    "plt.plot(single_layer.losses)\n",
    "plt.plot(single_layer.val_losses)\n",
    "plt.ylabel('loss')\n",
    "plt.xlabel('epoch')\n",
    "plt.legend(['train_loss', 'val_loss'])\n",
    "plt.show()"
   ]
  },
  {
   "cell_type": "code",
   "execution_count": 6,
   "metadata": {},
   "outputs": [
    {
     "data": {
      "image/png": "[encoded data removed]",
      "text/plain": [
       "<Figure size 432x288 with 1 Axes>"
      ]
     },
     "metadata": {
      "needs_background": "light"
     },
     "output_type": "display_data"
    }
   ],
   "source": [
    "w2 = []\n",
    "w3 = []\n",
    "for w in single_layer.w_history:\n",
    "    w2.append(w[2])\n",
    "    w3.append(w[3])\n",
    "\n",
    "plt.plot(w2, w3)\n",
    "plt.plot(w2[-1], w3[-1], 'ro')\n",
    "plt.xlabel('w[2]')\n",
    "plt.ylabel('w[3]')\n",
    "plt.show()"
   ]
  },
  {
   "cell_type": "code",
   "execution_count": null,
   "metadata": {},
   "outputs": [],
   "source": []
  }
 ],
 "metadata": {
  "kernelspec": {
   "display_name": "Python 3",
   "language": "python",
   "name": "python3"
  },
  "language_info": {
   "codemirror_mode": {
    "name": "ipython",
    "version": 3
   },
   "file_extension": ".py",
   "mimetype": "text/x-python",
   "name": "python",
   "nbconvert_exporter": "python",
   "pygments_lexer": "ipython3",
   "version": "3.8.5"
  }
 },
 "nbformat": 4,
 "nbformat_minor": 4
}
