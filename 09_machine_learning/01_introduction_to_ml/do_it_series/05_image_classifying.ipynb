{
 "cells": [
  {
   "cell_type": "markdown",
   "id": "suffering-piece",
   "metadata": {},
   "source": [
    "## Multi Layers for classifying images"
   ]
  },
  {
   "cell_type": "markdown",
   "id": "loved-federal",
   "metadata": {},
   "source": [
    "* 이진 분류의 신경망: 출력층에 뉴런을 하나만 두었음.\n",
    "  * 출력층의 활성화 값이 0.5보다 크면 양성, 그렇지 않으면 음성 클래스로 분류하는 방식\n",
    "* 다중 분류의 경우는?\n",
    "  * 마지막 출력층에 여러 개 뉴런을 놓는 방법?\n",
    "  * 출력층에 분류할 클래스 개수만큼 뉴런을 배치함!\n",
    "* 다중 분류의 문제점\n",
    "  * 활성화 출력의 합이 1이 되지 않으면 비교하기 어려움\n",
    "  * 소프트맥스 함수를 적용하여 출력 강도를 정규화\n",
    "* 다중 분류에서 사용하는 손실 함수: 크로스 엔트로피(cross entropy)\n",
    "  * 이진 분류에서는 로지스틱 손실 함수를 사용함"
   ]
  },
  {
   "cell_type": "code",
   "execution_count": 1,
   "id": "internal-static",
   "metadata": {},
   "outputs": [],
   "source": [
    "import numpy as np\n",
    "import tensorflow as tf\n",
    "import matplotlib.pyplot as plt"
   ]
  },
  {
   "cell_type": "code",
   "execution_count": 2,
   "id": "removable-medline",
   "metadata": {},
   "outputs": [],
   "source": [
    "class MultiClassNetwork:\n",
    "    def __init__(self, units=10, batch_size=32, learning_rate=0.1, l1=0, l2=0):\n",
    "        # 은닉층의 뉴런 갯수\n",
    "        self.units = units\n",
    "        # 배치 크기\n",
    "        self.batch_size = batch_size\n",
    "        # 은닉층의 가중치\n",
    "        self.w1 = None\n",
    "        # 은닉층의 절편\n",
    "        self.b1 = None\n",
    "        # 출력층의 가중치\n",
    "        self.w2 = None\n",
    "        # 출력층의 절편\n",
    "        self.b2 = None\n",
    "        # 은닉층의 활성화 출력\n",
    "        self.a1 = None\n",
    "        # 훈련 손실\n",
    "        self.losses = []\n",
    "        # 검증 손실\n",
    "        self.val_losses = []\n",
    "        # 학습률\n",
    "        self.lr = learning_rate\n",
    "        # L1 손실 하이퍼파라미터\n",
    "        self.l1 = l1\n",
    "        # L2 손실 하이퍼파라미트\n",
    "        self.l2 = l2\n",
    "    \n",
    "    def forpass(self, x):\n",
    "        # 첫 번째 층의 선형 식 계산\n",
    "        z1 = np.dot(x, self.w1) + self.b1\n",
    "        # 활성화 함수 적용\n",
    "        self.a1 = self.sigmoid(z1)\n",
    "        # 두 번째 층의 선형 식 계산\n",
    "        z2 = np.dot(self.a1, self.w2) + self.b2\n",
    "        return z2\n",
    "    \n",
    "    def backprop(self, x, err):\n",
    "        # 샘플 개수\n",
    "        m = len(x)\n",
    "        # 출력층의 가중치와 절편에 대한 gradient 계산\n",
    "        w2_grad = np.dot(self.a1.T, err) / m\n",
    "        b2_grad = np.sum(err) / m\n",
    "        # 시그모이드 함수까지 gradient 계산\n",
    "        err_to_hidden = np.dot(err, self.w2.T) * self.a1 * (1 - self.a1)\n",
    "        # 인닉층의 가중치와 절편에 대한 gradient 계산\n",
    "        w1_grad = np.dot(x.T, err_to_hidden) / m\n",
    "        b1_grad = np.sum(err_to_hidden, axis=0) / m\n",
    "        return w1_grad, b1_grad, w2_grad, b2_grad\n",
    "    \n",
    "    def sigmoid(self, z):\n",
    "        # 안전한 계산을 위한 클리핑\n",
    "        z = np.clip(z, -100, None)\n",
    "        # 시그모이드 계산\n",
    "        a = 1 / (1 + np.exp(-z))\n",
    "        return a\n",
    "    \n",
    "    def softmax(self, z):\n",
    "        # 안전한 계산을 위한 클리핑\n",
    "        z = np.clip(z, -100, None)\n",
    "        exp_z = np.exp(z)\n",
    "        return exp_z / np.sum(exp_z, axis=1).reshape(-1, 1)\n",
    "    \n",
    "    def init_weights(self, n_features, n_classes):\n",
    "        # (특성 개수, 은닉층의 크기)\n",
    "        self.w1 = np.random.normal(0, 1, (n_features, self.units))\n",
    "        # 은닉층의 크기\n",
    "        self.b1 = np.zeros(self.units)\n",
    "        # (은닉층의 크기, 클래스 개수)\n",
    "        self.w2 = np.random.normal(0, 1, (self.units, n_classes))\n",
    "        self.b2 = np.zeros(n_classes)\n",
    "        \n",
    "    def fit(self, x, y, epochs=100, x_val=None, y_val=None):\n",
    "        np.random.seed(42)\n",
    "        # 은닉층과 출력층의 가중치 초기화\n",
    "        self.init_weights(x.shape[1], y.shape[1])\n",
    "        \n",
    "        for i in range(epochs):\n",
    "            loss = 0\n",
    "            print('.', end='')\n",
    "            # 제너레이터 함수에서 반환한 미니배치 순환\n",
    "            for x_batch, y_batch in self.gen_batch(x, y):\n",
    "                a = self.training(x_batch, y_batch)\n",
    "                a = np.clip(a, 1e-10, 1 - 1e-10)\n",
    "                loss += np.sum(-y_batch * np.log(a))\n",
    "            self.losses.append((loss + self.reg_loss()) / len(x))\n",
    "            self.update_val_loss(x_val, y_val)\n",
    "    \n",
    "    # 미니배치 generator 함수\n",
    "    def gen_batch(self, x, y):\n",
    "        length = len(x)\n",
    "        # 미니배치 횟수\n",
    "        bins = length // self.batch_size\n",
    "        if length % self.batch_size:\n",
    "            # 나누어 떨어지지 않는 경우\n",
    "            bins += 1\n",
    "        # 인덱스 섞기\n",
    "        idxes = np.random.permutation(np.arange(len(x)))\n",
    "        x = x[idxes]\n",
    "        y = y[idxes]\n",
    "        for i in range(bins):\n",
    "            start = self.batch_size * i\n",
    "            end = self.batch_size * (i + 1)\n",
    "            # batch_size 만큼 슬라이싱하여 반환\n",
    "            yield x[start:end], y[start:end]\n",
    "        \n",
    "    def training(self, x, y):\n",
    "        # 샘플 개수\n",
    "        m = len(x)\n",
    "        # 정방향 계산\n",
    "        z = self.forpass(x)\n",
    "        # 활성화 함수\n",
    "        a = self.softmax(z)\n",
    "        # 오차 계산\n",
    "        err = -(y - a)\n",
    "        # 오차 역전파로 gradient 계산\n",
    "        w1_grad, b1_grad, w2_grad, b2_grad = self.backprop(x, err)\n",
    "        # gradient 에서 페널티 항의 미분값을 뺌\n",
    "        w1_grad += (self.l1 * np.sign(self.w1) + self.l2 * self.w1) / m\n",
    "        w2_grad += (self.l1 * np.sign(self.w2) + self.l2 * self.w2) / m\n",
    "        # 은닉층의 가중치와 절편 업데이트\n",
    "        self.w1 -= self.lr * w1_grad\n",
    "        self.b1 -= self.lr * b1_grad\n",
    "        # 출력층의 가중치와 절편 업데이트\n",
    "        self.w2 -= self.lr * w2_grad\n",
    "        self.b2 -= self.lr * b2_grad\n",
    "        return a\n",
    "    \n",
    "    def predict(self, x):\n",
    "        # 정방향 계산\n",
    "        z = self.forpass(x)\n",
    "        # 가장 큰 값의 인덱스 반환\n",
    "        return np.argmax(z, axis=1)\n",
    "    \n",
    "    def score(self, x, y):\n",
    "        # 예측과 타깃 열 벡터를 비교하여 True 비율 반환\n",
    "        return np.mean(self.predict(x) == np.argmax(y, axis=1))\n",
    "    \n",
    "    def reg_loss(self):\n",
    "        return self.l1 * (np.sum(np.abs(self.w1)) + np.sum(np.abs(self.w2))) + \\\n",
    "                self.l2 / 2 * (np.sum(self.w1 ** 2) + np.sum(self.w2 ** 2))\n",
    "    \n",
    "    def update_val_loss(self, x_val, y_val):\n",
    "        z = self.forpass(x_val)\n",
    "        a = self.softmax(z)\n",
    "        a = np.clip(a, 1e-10, 1 - 1e-10)\n",
    "        val_loss = np.sum(-y_val * np.log(a))\n",
    "        self.val_losses.append((val_loss + self.reg_loss()) / len(y_val))"
   ]
  },
  {
   "cell_type": "code",
   "execution_count": 3,
   "id": "tender-gibson",
   "metadata": {},
   "outputs": [
    {
     "data": {
      "text/plain": [
       "'2.3.0'"
      ]
     },
     "execution_count": 3,
     "metadata": {},
     "output_type": "execute_result"
    }
   ],
   "source": [
    "tf.__version__"
   ]
  },
  {
   "cell_type": "code",
   "execution_count": 4,
   "id": "intended-paris",
   "metadata": {},
   "outputs": [],
   "source": [
    "# loading fasion MNIST dataset\n",
    "(x_train_all, y_train_all), (x_test, y_test) = tf.keras.datasets.fashion_mnist.load_data()"
   ]
  },
  {
   "cell_type": "code",
   "execution_count": 5,
   "id": "neural-manchester",
   "metadata": {},
   "outputs": [
    {
     "name": "stdout",
     "output_type": "stream",
     "text": [
      "(60000, 28, 28) (60000,)\n"
     ]
    }
   ],
   "source": [
    "# x_train_all: 3차원\n",
    "print(x_train_all.shape, y_train_all.shape)"
   ]
  },
  {
   "cell_type": "code",
   "execution_count": 6,
   "id": "surface-circle",
   "metadata": {},
   "outputs": [
    {
     "data": {
      "image/png": "[encoded data removed]",
      "text/plain": [
       "<Figure size 432x288 with 1 Axes>"
      ]
     },
     "metadata": {
      "needs_background": "light"
     },
     "output_type": "display_data"
    }
   ],
   "source": [
    "plt.imshow(x_train_all[0], cmap='gray')\n",
    "plt.show()"
   ]
  },
  {
   "cell_type": "code",
   "execution_count": 7,
   "id": "visible-congress",
   "metadata": {},
   "outputs": [
    {
     "name": "stdout",
     "output_type": "stream",
     "text": [
      "[9 0 0 3 0 2 7 2 5 5]\n"
     ]
    }
   ],
   "source": [
    "print(y_train_all[:10])"
   ]
  },
  {
   "cell_type": "code",
   "execution_count": 8,
   "id": "experienced-rapid",
   "metadata": {},
   "outputs": [
    {
     "name": "stdout",
     "output_type": "stream",
     "text": [
      "앵클부츠\n"
     ]
    }
   ],
   "source": [
    "class_names = [\n",
    "    '티셔츠/윗도리', '바지', '스웨터', '드레스', '코트',\n",
    "    '샌들', '셔츠', '스니커즈', '가방', '앵클부츠'\n",
    "]\n",
    "\n",
    "print(class_names[y_train_all[0]])"
   ]
  },
  {
   "cell_type": "code",
   "execution_count": 9,
   "id": "finished-villa",
   "metadata": {},
   "outputs": [
    {
     "data": {
      "text/plain": [
       "array([6000, 6000, 6000, 6000, 6000, 6000, 6000, 6000, 6000, 6000],\n",
       "      dtype=int64)"
      ]
     },
     "execution_count": 9,
     "metadata": {},
     "output_type": "execute_result"
    }
   ],
   "source": [
    "# 타깃 분포 확인\n",
    "np.bincount(y_train_all)"
   ]
  },
  {
   "cell_type": "code",
   "execution_count": 10,
   "id": "interior-supplier",
   "metadata": {},
   "outputs": [
    {
     "name": "stdout",
     "output_type": "stream",
     "text": [
      "[4800 4800 4800 4800 4800 4800 4800 4800 4800 4800]\n",
      "[1200 1200 1200 1200 1200 1200 1200 1200 1200 1200]\n"
     ]
    }
   ],
   "source": [
    "# 훈련 세트 / 검증 세트 분리\n",
    "from sklearn.model_selection import train_test_split\n",
    "\n",
    "x_train, x_val, y_train, y_val = train_test_split(\n",
    "    x_train_all, y_train_all, stratify=y_train_all, test_size=0.2, random_state=42\n",
    ")\n",
    "\n",
    "print(np.bincount(y_train))\n",
    "print(np.bincount(y_val))"
   ]
  },
  {
   "cell_type": "code",
   "execution_count": 11,
   "id": "finished-warrant",
   "metadata": {},
   "outputs": [
    {
     "name": "stdout",
     "output_type": "stream",
     "text": [
      "(48000, 784) (12000, 784)\n"
     ]
    }
   ],
   "source": [
    "# 입력 데이터 정규화\n",
    "x_train = x_train / 255\n",
    "x_val = x_val / 255\n",
    "\n",
    "# 훈련 세트와 검증 세트의 차원 변경\n",
    "x_train = x_train.reshape(-1, 784)\n",
    "x_val = x_val.reshape(-1, 784)\n",
    "\n",
    "print(x_train.shape, x_val.shape)"
   ]
  },
  {
   "cell_type": "code",
   "execution_count": 12,
   "id": "whole-fusion",
   "metadata": {},
   "outputs": [
    {
     "data": {
      "text/plain": [
       "array([[1., 0., 0., 0.],\n",
       "       [0., 1., 0., 0.],\n",
       "       [0., 0., 0., 1.]], dtype=float32)"
      ]
     },
     "execution_count": 12,
     "metadata": {},
     "output_type": "execute_result"
    }
   ],
   "source": [
    "# 원-핫 인코딩 예제\n",
    "tf.keras.utils.to_categorical([0, 1, 3])"
   ]
  },
  {
   "cell_type": "code",
   "execution_count": 13,
   "id": "geological-bulgarian",
   "metadata": {},
   "outputs": [
    {
     "name": "stdout",
     "output_type": "stream",
     "text": [
      "(48000, 10) (12000, 10)\n",
      "6 [0. 0. 0. 0. 0. 0. 1. 0. 0. 0.]\n"
     ]
    }
   ],
   "source": [
    "y_train_encoded = tf.keras.utils.to_categorical(y_train)\n",
    "y_val_encoded = tf.keras.utils.to_categorical(y_val)\n",
    "\n",
    "print(y_train_encoded.shape, y_val_encoded.shape)\n",
    "print(y_train[0], y_train_encoded[0])"
   ]
  },
  {
   "cell_type": "code",
   "execution_count": 14,
   "id": "binary-beaver",
   "metadata": {},
   "outputs": [
    {
     "name": "stdout",
     "output_type": "stream",
     "text": [
      "........................................"
     ]
    }
   ],
   "source": [
    "fc = MultiClassNetwork(units=100, batch_size=256)\n",
    "fc.fit(x_train, y_train_encoded, x_val=x_val, y_val=y_val_encoded, epochs=40)"
   ]
  },
  {
   "cell_type": "code",
   "execution_count": 15,
   "id": "thousand-scenario",
   "metadata": {},
   "outputs": [
    {
     "data": {
      "image/png": "[encoded data removed]",
      "text/plain": [
       "<Figure size 432x288 with 1 Axes>"
      ]
     },
     "metadata": {
      "needs_background": "light"
     },
     "output_type": "display_data"
    }
   ],
   "source": [
    "plt.plot(fc.losses)\n",
    "plt.plot(fc.val_losses)\n",
    "plt.ylabel('loss')\n",
    "plt.xlabel('iteration')\n",
    "plt.legend(['train_loss', 'val_loss'])\n",
    "plt.show()"
   ]
  },
  {
   "cell_type": "code",
   "execution_count": 16,
   "id": "naked-vision",
   "metadata": {
    "scrolled": true
   },
   "outputs": [
    {
     "data": {
      "text/plain": [
       "0.8150833333333334"
      ]
     },
     "execution_count": 16,
     "metadata": {},
     "output_type": "execute_result"
    }
   ],
   "source": [
    "fc.score(x_val, y_val_encoded)"
   ]
  },
  {
   "cell_type": "code",
   "execution_count": 17,
   "id": "religious-duncan",
   "metadata": {},
   "outputs": [
    {
     "data": {
      "text/plain": [
       "array([4, 6, 3, ..., 0, 6, 6], dtype=int32)"
      ]
     },
     "execution_count": 17,
     "metadata": {},
     "output_type": "execute_result"
    }
   ],
   "source": [
    "np.random.permutation(np.arange(12000) % 10)"
   ]
  },
  {
   "cell_type": "code",
   "execution_count": 18,
   "id": "narrative-cleaner",
   "metadata": {},
   "outputs": [
    {
     "data": {
      "text/plain": [
       "0.10325"
      ]
     },
     "execution_count": 18,
     "metadata": {},
     "output_type": "execute_result"
    }
   ],
   "source": [
    "np.sum(y_val == np.random.permutation(np.arange(12000) % 10)) / 12000"
   ]
  },
  {
   "cell_type": "markdown",
   "id": "heard-locator",
   "metadata": {},
   "source": [
    "## Tensorflow, Keras 를 이용하여 신경망 만들기"
   ]
  },
  {
   "cell_type": "code",
   "execution_count": 19,
   "id": "coastal-hopkins",
   "metadata": {
    "scrolled": false
   },
   "outputs": [
    {
     "data": {
      "text/plain": [
       "'\\n# 훈련할 가중치 변수 선언\\nw = tf.Variable(tf.zeros(shape=(1)))\\nb = tf.Variable(tf.zeros(shape=(1)))\\n\\n# 경사 하강법 optimizer 선언\\noptimizer = tf.optimizers.SGD(lr=0.01)\\n\\n# epochs 수만큼 훈련\\nepochs = 10\\nfor step in range(epochs):\\n    # 자동 미분을 위하여 연산 과정 기록\\n    with tf.GradientTape() as tape:\\n        z_net = w * x_train + b\\n        z_net = tf.reshape(z_net, [-1])\\n        sqr_errors = tf.square(y_train - z_net) \\n        mean_cost = tf.reduce_mean(sqr_errors)\\n    \\n    # 손실 함수에 대한 가중치의 gradient 계산\\n    grads = tape.gradient(mean_cost, [w, b])\\n    \\n    # optimizer에 gradient 반영\\n    optimizer.apply_gradients(zip(grads, [w, b]))\\n'"
      ]
     },
     "execution_count": 19,
     "metadata": {},
     "output_type": "execute_result"
    }
   ],
   "source": [
    "# 텐서플로와 케라스 이용한 신경망 V1.\n",
    "\"\"\"\n",
    "# 훈련할 가중치 변수 선언\n",
    "w = tf.Variable(tf.zeros(shape=(1)))\n",
    "b = tf.Variable(tf.zeros(shape=(1)))\n",
    "\n",
    "# 경사 하강법 optimizer 선언\n",
    "optimizer = tf.optimizers.SGD(lr=0.01)\n",
    "\n",
    "# epochs 수만큼 훈련\n",
    "epochs = 10\n",
    "for step in range(epochs):\n",
    "    # 자동 미분을 위하여 연산 과정 기록\n",
    "    with tf.GradientTape() as tape:\n",
    "        z_net = w * x_train + b\n",
    "        z_net = tf.reshape(z_net, [-1])\n",
    "        sqr_errors = tf.square(y_train - z_net) \n",
    "        mean_cost = tf.reduce_mean(sqr_errors)\n",
    "    \n",
    "    # 손실 함수에 대한 가중치의 gradient 계산\n",
    "    grads = tape.gradient(mean_cost, [w, b])\n",
    "    \n",
    "    # optimizer에 gradient 반영\n",
    "    optimizer.apply_gradients(zip(grads, [w, b]))\n",
    "\"\"\""
   ]
  },
  {
   "cell_type": "code",
   "execution_count": 20,
   "id": "innovative-baseline",
   "metadata": {},
   "outputs": [
    {
     "name": "stdout",
     "output_type": "stream",
     "text": [
      "Epoch 1/10\n",
      "1500/1500 [==============================] - 1s 368us/step - loss: 5.3644e-07\n",
      "Epoch 2/10\n",
      "1500/1500 [==============================] - 1s 354us/step - loss: 5.3644e-07\n",
      "Epoch 3/10\n",
      "1500/1500 [==============================] - 1s 351us/step - loss: 5.3644e-07\n",
      "Epoch 4/10\n",
      "1500/1500 [==============================] - 1s 354us/step - loss: 5.3644e-07\n",
      "Epoch 5/10\n",
      "1500/1500 [==============================] - 1s 353us/step - loss: 5.3644e-07\n",
      "Epoch 6/10\n",
      "1500/1500 [==============================] - 1s 362us/step - loss: 5.3644e-07\n",
      "Epoch 7/10\n",
      "1500/1500 [==============================] - 1s 357us/step - loss: 5.3644e-07\n",
      "Epoch 8/10\n",
      "1500/1500 [==============================] - 1s 351us/step - loss: 5.3644e-07\n",
      "Epoch 9/10\n",
      "1500/1500 [==============================] - 1s 357us/step - loss: 5.3644e-07\n",
      "Epoch 10/10\n",
      "1500/1500 [==============================] - 1s 357us/step - loss: 5.3644e-07\n"
     ]
    },
    {
     "data": {
      "text/plain": [
       "<tensorflow.python.keras.callbacks.History at 0x1d1fe7f6910>"
      ]
     },
     "execution_count": 20,
     "metadata": {},
     "output_type": "execute_result"
    }
   ],
   "source": [
    "# 신경망 모델\n",
    "model = tf.keras.models.Sequential([\n",
    "    # unit: 은닉층의 뉴런 개수 / activation: 활성화 함수 지정\n",
    "    tf.keras.layers.Dense(units=1, activation='sigmoid'),\n",
    "])\n",
    "model.compile(optimizer='sgd', loss='categorical_crossentropy')\n",
    "model.fit(x_train, y_train, epochs=10)"
   ]
  },
  {
   "cell_type": "markdown",
   "id": "caroline-silence",
   "metadata": {},
   "source": [
    "### Keras 를 이용한 다중 분류 신경망 만들기"
   ]
  },
  {
   "cell_type": "code",
   "execution_count": 21,
   "id": "white-shore",
   "metadata": {},
   "outputs": [
    {
     "name": "stdout",
     "output_type": "stream",
     "text": [
      "Epoch 1/40\n",
      "   1/1500 [..............................] - ETA: 0s - loss: 2.4961 - accuracy: 0.1250WARNING:tensorflow:Callbacks method `on_train_batch_end` is slow compared to the batch time (batch time: 0.0000s vs `on_train_batch_end` time: 0.0010s). Check your callbacks.\n",
      "1500/1500 [==============================] - 1s 742us/step - loss: 1.3853 - accuracy: 0.6551 - val_loss: 0.9552 - val_accuracy: 0.7312\n",
      "Epoch 2/40\n",
      "1500/1500 [==============================] - 1s 648us/step - loss: 0.8339 - accuracy: 0.7461 - val_loss: 0.7443 - val_accuracy: 0.7628\n",
      "Epoch 3/40\n",
      "1500/1500 [==============================] - 1s 648us/step - loss: 0.7045 - accuracy: 0.7676 - val_loss: 0.6590 - val_accuracy: 0.7820\n",
      "Epoch 4/40\n",
      "1500/1500 [==============================] - 1s 657us/step - loss: 0.6411 - accuracy: 0.7832 - val_loss: 0.6097 - val_accuracy: 0.7943\n",
      "Epoch 5/40\n",
      "1500/1500 [==============================] - 1s 651us/step - loss: 0.6007 - accuracy: 0.7956 - val_loss: 0.5743 - val_accuracy: 0.8046\n",
      "Epoch 6/40\n",
      "1500/1500 [==============================] - 1s 655us/step - loss: 0.5716 - accuracy: 0.8042 - val_loss: 0.5504 - val_accuracy: 0.8108\n",
      "Epoch 7/40\n",
      "1500/1500 [==============================] - 1s 659us/step - loss: 0.5495 - accuracy: 0.8113 - val_loss: 0.5293 - val_accuracy: 0.8161\n",
      "Epoch 8/40\n",
      "1500/1500 [==============================] - 1s 648us/step - loss: 0.5319 - accuracy: 0.8157 - val_loss: 0.5140 - val_accuracy: 0.8209\n",
      "Epoch 9/40\n",
      "1500/1500 [==============================] - 1s 690us/step - loss: 0.5174 - accuracy: 0.8211 - val_loss: 0.5014 - val_accuracy: 0.8233\n",
      "Epoch 10/40\n",
      "1500/1500 [==============================] - 1s 658us/step - loss: 0.5055 - accuracy: 0.8250 - val_loss: 0.4897 - val_accuracy: 0.8288\n",
      "Epoch 11/40\n",
      "1500/1500 [==============================] - 1s 651us/step - loss: 0.4954 - accuracy: 0.8282 - val_loss: 0.4803 - val_accuracy: 0.8321\n",
      "Epoch 12/40\n",
      "1500/1500 [==============================] - 1s 650us/step - loss: 0.4867 - accuracy: 0.8312 - val_loss: 0.4722 - val_accuracy: 0.8332\n",
      "Epoch 13/40\n",
      "1500/1500 [==============================] - 1s 653us/step - loss: 0.4788 - accuracy: 0.8325 - val_loss: 0.4675 - val_accuracy: 0.8359\n",
      "Epoch 14/40\n",
      "1500/1500 [==============================] - 1s 653us/step - loss: 0.4721 - accuracy: 0.8350 - val_loss: 0.4576 - val_accuracy: 0.8377\n",
      "Epoch 15/40\n",
      "1500/1500 [==============================] - 1s 643us/step - loss: 0.4656 - accuracy: 0.8365 - val_loss: 0.4523 - val_accuracy: 0.8389\n",
      "Epoch 16/40\n",
      "1500/1500 [==============================] - 1s 656us/step - loss: 0.4597 - accuracy: 0.8395 - val_loss: 0.4480 - val_accuracy: 0.8421\n",
      "Epoch 17/40\n",
      "1500/1500 [==============================] - 1s 652us/step - loss: 0.4548 - accuracy: 0.8415 - val_loss: 0.4418 - val_accuracy: 0.8428\n",
      "Epoch 18/40\n",
      "1500/1500 [==============================] - 1s 649us/step - loss: 0.4500 - accuracy: 0.8419 - val_loss: 0.4385 - val_accuracy: 0.8443\n",
      "Epoch 19/40\n",
      "1500/1500 [==============================] - 1s 661us/step - loss: 0.4454 - accuracy: 0.8439 - val_loss: 0.4342 - val_accuracy: 0.8443\n",
      "Epoch 20/40\n",
      "1500/1500 [==============================] - 1s 649us/step - loss: 0.4412 - accuracy: 0.8454 - val_loss: 0.4323 - val_accuracy: 0.8478\n",
      "Epoch 21/40\n",
      "1500/1500 [==============================] - 1s 648us/step - loss: 0.4374 - accuracy: 0.8465 - val_loss: 0.4266 - val_accuracy: 0.8478\n",
      "Epoch 22/40\n",
      "1500/1500 [==============================] - 1s 653us/step - loss: 0.4337 - accuracy: 0.8474 - val_loss: 0.4238 - val_accuracy: 0.8521\n",
      "Epoch 23/40\n",
      "1500/1500 [==============================] - 1s 650us/step - loss: 0.4303 - accuracy: 0.8487 - val_loss: 0.4199 - val_accuracy: 0.8512\n",
      "Epoch 24/40\n",
      "1500/1500 [==============================] - 1s 651us/step - loss: 0.4267 - accuracy: 0.8488 - val_loss: 0.4207 - val_accuracy: 0.8503\n",
      "Epoch 25/40\n",
      "1500/1500 [==============================] - 1s 667us/step - loss: 0.4240 - accuracy: 0.8507 - val_loss: 0.4147 - val_accuracy: 0.8528\n",
      "Epoch 26/40\n",
      "1500/1500 [==============================] - 1s 656us/step - loss: 0.4208 - accuracy: 0.8515 - val_loss: 0.4139 - val_accuracy: 0.8534\n",
      "Epoch 27/40\n",
      "1500/1500 [==============================] - 1s 651us/step - loss: 0.4180 - accuracy: 0.8521 - val_loss: 0.4112 - val_accuracy: 0.8545\n",
      "Epoch 28/40\n",
      "1500/1500 [==============================] - 1s 655us/step - loss: 0.4154 - accuracy: 0.8533 - val_loss: 0.4073 - val_accuracy: 0.8568\n",
      "Epoch 29/40\n",
      "1500/1500 [==============================] - 1s 649us/step - loss: 0.4126 - accuracy: 0.8534 - val_loss: 0.4058 - val_accuracy: 0.8579\n",
      "Epoch 30/40\n",
      "1500/1500 [==============================] - 1s 651us/step - loss: 0.4103 - accuracy: 0.8556 - val_loss: 0.4041 - val_accuracy: 0.8578\n",
      "Epoch 31/40\n",
      "1500/1500 [==============================] - 1s 659us/step - loss: 0.4079 - accuracy: 0.8561 - val_loss: 0.4014 - val_accuracy: 0.8572\n",
      "Epoch 32/40\n",
      "1500/1500 [==============================] - 1s 650us/step - loss: 0.4053 - accuracy: 0.8570 - val_loss: 0.4000 - val_accuracy: 0.8606\n",
      "Epoch 33/40\n",
      "1500/1500 [==============================] - 1s 663us/step - loss: 0.4032 - accuracy: 0.8574 - val_loss: 0.3969 - val_accuracy: 0.8602\n",
      "Epoch 34/40\n",
      "1500/1500 [==============================] - 1s 655us/step - loss: 0.4012 - accuracy: 0.8580 - val_loss: 0.3960 - val_accuracy: 0.8615\n",
      "Epoch 35/40\n",
      "1500/1500 [==============================] - 1s 652us/step - loss: 0.3990 - accuracy: 0.8590 - val_loss: 0.3953 - val_accuracy: 0.8611\n",
      "Epoch 36/40\n",
      "1500/1500 [==============================] - 1s 652us/step - loss: 0.3969 - accuracy: 0.8592 - val_loss: 0.3928 - val_accuracy: 0.8622\n",
      "Epoch 37/40\n",
      "1500/1500 [==============================] - 1s 655us/step - loss: 0.3948 - accuracy: 0.8610 - val_loss: 0.3918 - val_accuracy: 0.8627\n",
      "Epoch 38/40\n",
      "1500/1500 [==============================] - 1s 650us/step - loss: 0.3930 - accuracy: 0.8605 - val_loss: 0.3907 - val_accuracy: 0.8621\n",
      "Epoch 39/40\n",
      "1500/1500 [==============================] - 1s 649us/step - loss: 0.3914 - accuracy: 0.8606 - val_loss: 0.3884 - val_accuracy: 0.8635\n",
      "Epoch 40/40\n",
      "1500/1500 [==============================] - 1s 677us/step - loss: 0.3894 - accuracy: 0.8612 - val_loss: 0.3877 - val_accuracy: 0.8627\n"
     ]
    }
   ],
   "source": [
    "from tensorflow.keras import Sequential\n",
    "from tensorflow.keras.layers import Dense\n",
    "\n",
    "model = Sequential([\n",
    "    Dense(100, activation='sigmoid', input_shape=(784,)),\n",
    "    Dense(10, activation='softmax')\n",
    "])\n",
    "model.compile(optimizer='sgd', loss='categorical_crossentropy', metrics=['accuracy'])\n",
    "history = model.fit(x_train, y_train_encoded, epochs=40,\n",
    "                    validation_data=(x_val, y_val_encoded))"
   ]
  },
  {
   "cell_type": "code",
   "execution_count": 22,
   "id": "adult-morrison",
   "metadata": {},
   "outputs": [
    {
     "data": {
      "image/png": "[encoded data removed]",
      "text/plain": [
       "<Figure size 432x288 with 1 Axes>"
      ]
     },
     "metadata": {
      "needs_background": "light"
     },
     "output_type": "display_data"
    }
   ],
   "source": [
    "plt.plot(history.history['loss'])\n",
    "plt.plot(history.history['val_loss'])\n",
    "plt.ylabel('losses')\n",
    "plt.xlabel('epochs')\n",
    "plt.legend(['train_loss', 'val_loss'])\n",
    "plt.show()"
   ]
  },
  {
   "cell_type": "code",
   "execution_count": 23,
   "id": "perfect-excess",
   "metadata": {},
   "outputs": [
    {
     "data": {
      "image/png": "[encoded data removed]",
      "text/plain": [
       "<Figure size 432x288 with 1 Axes>"
      ]
     },
     "metadata": {
      "needs_background": "light"
     },
     "output_type": "display_data"
    }
   ],
   "source": [
    "plt.plot(history.history['accuracy'])\n",
    "plt.plot(history.history['val_accuracy'])\n",
    "plt.ylabel('accuracy')\n",
    "plt.xlabel('epochs')\n",
    "plt.legend(['train_accuracy', 'val_accuracy'])\n",
    "plt.show()"
   ]
  },
  {
   "cell_type": "code",
   "execution_count": 24,
   "id": "reliable-joseph",
   "metadata": {},
   "outputs": [
    {
     "name": "stdout",
     "output_type": "stream",
     "text": [
      "0.8627499938011169\n"
     ]
    }
   ],
   "source": [
    "loss, accuracy = model.evaluate(x_val, y_val_encoded, verbose=0)\n",
    "print(accuracy)"
   ]
  },
  {
   "cell_type": "code",
   "execution_count": null,
   "id": "grand-moldova",
   "metadata": {},
   "outputs": [],
   "source": []
  }
 ],
 "metadata": {
  "kernelspec": {
   "display_name": "Python 3",
   "language": "python",
   "name": "python3"
  },
  "language_info": {
   "codemirror_mode": {
    "name": "ipython",
    "version": 3
   },
   "file_extension": ".py",
   "mimetype": "text/x-python",
   "name": "python",
   "nbconvert_exporter": "python",
   "pygments_lexer": "ipython3",
   "version": "3.8.5"
  }
 },
 "nbformat": 4,
 "nbformat_minor": 5
}
