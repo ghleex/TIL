{
 "cells": [
  {
   "cell_type": "markdown",
   "id": "forward-simpson",
   "metadata": {},
   "source": [
    "## 합성곱 구현"
   ]
  },
  {
   "cell_type": "code",
   "execution_count": 1,
   "id": "sublime-sleeping",
   "metadata": {},
   "outputs": [
    {
     "name": "stdout",
     "output_type": "stream",
     "text": [
      "[3 5 1 2]\n"
     ]
    }
   ],
   "source": [
    "import numpy as np\n",
    "\n",
    "w = np.array([2, 1, 5, 3])\n",
    "x = np.array([2, 8, 3, 7, 1, 2, 0, 4, 5])\n",
    "\n",
    "w_r = np.flip(w)    # 배열 뒤집기\n",
    "print(w_r)"
   ]
  },
  {
   "cell_type": "code",
   "execution_count": 2,
   "id": "internal-timothy",
   "metadata": {},
   "outputs": [
    {
     "name": "stdout",
     "output_type": "stream",
     "text": [
      "63\n",
      "48\n",
      "49\n",
      "28\n",
      "21\n",
      "20\n"
     ]
    }
   ],
   "source": [
    "for i in range(6):\n",
    "    print(np.dot(x[i:i + 4], w_r))"
   ]
  },
  {
   "cell_type": "code",
   "execution_count": 3,
   "id": "entire-digest",
   "metadata": {},
   "outputs": [
    {
     "data": {
      "text/plain": [
       "array([63, 48, 49, 28, 21, 20])"
      ]
     },
     "execution_count": 3,
     "metadata": {},
     "output_type": "execute_result"
    }
   ],
   "source": [
    "# scipy 이용한 합성곱 구현\n",
    "from scipy.signal import convolve\n",
    "\n",
    "convolve(x, w, mode='valid')"
   ]
  },
  {
   "cell_type": "code",
   "execution_count": 4,
   "id": "administrative-ontario",
   "metadata": {},
   "outputs": [
    {
     "data": {
      "text/plain": [
       "array([48, 57, 24, 25, 16, 39])"
      ]
     },
     "execution_count": 4,
     "metadata": {},
     "output_type": "execute_result"
    }
   ],
   "source": [
    "# 교차상관과의 차이: 합성곱과 달리 배열을 뒤집지 않음\n",
    "from scipy.signal import correlate\n",
    "\n",
    "correlate(x, w, mode='valid')"
   ]
  },
  {
   "cell_type": "markdown",
   "id": "ordinary-values",
   "metadata": {},
   "source": [
    "## 패딩(padding)과 스트라이드(stride)\n",
    "* 패딩: 원본 배열의 양 끝에 빈 원소 추가\n",
    "* 스트라이드: 미끄러지는 배열의 간격을 조절하는 것\n",
    "* 개념 적용에 따라 valid padding, full padding, same padding 으로 부름"
   ]
  },
  {
   "cell_type": "code",
   "execution_count": null,
   "id": "moral-particle",
   "metadata": {},
   "outputs": [],
   "source": [
    "# valid padding: 원본 배열에 패딩 추가하지 않고 미끄러지는 배열이 원본 배열 끝으로 갈 때까지 교차 상관 수행\n",
    "# valid padding 결과로 얻는 배열 크기는 원본 배열보다 항상 작음"
   ]
  },
  {
   "cell_type": "code",
   "execution_count": 5,
   "id": "executed-devil",
   "metadata": {},
   "outputs": [
    {
     "data": {
      "text/plain": [
       "array([ 6, 34, 51, 48, 57, 24, 25, 16, 39, 29, 13, 10])"
      ]
     },
     "execution_count": 5,
     "metadata": {},
     "output_type": "execute_result"
    }
   ],
   "source": [
    "# full padding: 원본 배열의 모든 요소가 동일하게 연산에 참여하는 패딩 방식\n",
    "correlate(x, w, mode='full')\n",
    "\n",
    "# zero padding: 원본 배열 원소가 연산에 동일하게 참여하도록 하기 위해 원본 배열 양 끝에 가상의 원소를 추가하는데, 이때 0을 가상의 원소로 사용하므로 zero padding 이라 함"
   ]
  },
  {
   "cell_type": "code",
   "execution_count": 6,
   "id": "honest-minneapolis",
   "metadata": {},
   "outputs": [
    {
     "data": {
      "text/plain": [
       "array([34, 51, 48, 57, 24, 25, 16, 39, 29])"
      ]
     },
     "execution_count": 6,
     "metadata": {},
     "output_type": "execute_result"
    }
   ],
   "source": [
    "# same padding: 출력 배열의 길이를 원본 배열의 길이와 동일하게 제로 패딩을 추가함\n",
    "correlate(x, w, mode='same')"
   ]
  },
  {
   "cell_type": "markdown",
   "id": "essential-disney",
   "metadata": {},
   "source": [
    "* 스트라이드: 미끄러지는 간격 조정\n",
    "    * 합성곱 신경망을 만들 때는 스트라이드를 일반적으로 1로 지정"
   ]
  },
  {
   "cell_type": "markdown",
   "id": "bridal-vanilla",
   "metadata": {},
   "source": [
    "## 2차원 배열에서의 합성곱"
   ]
  },
  {
   "cell_type": "code",
   "execution_count": 7,
   "id": "demonstrated-charleston",
   "metadata": {},
   "outputs": [
    {
     "data": {
      "text/plain": [
       "array([[ 2,  4],\n",
       "       [ 8, 10]])"
      ]
     },
     "execution_count": 7,
     "metadata": {},
     "output_type": "execute_result"
    }
   ],
   "source": [
    "# 합성곱 신경망은 대부분 2차원 배열에 대한 합성곱을 사용함\n",
    "\n",
    "# 2차원 원본배열\n",
    "x = np.array([\n",
    "    [1, 2, 3],\n",
    "    [4, 5, 6],\n",
    "    [7, 8, 9]\n",
    "])\n",
    "# 미끄러지는 배열\n",
    "w = np.array([\n",
    "    [2, 0], [0, 0]\n",
    "])\n",
    "\n",
    "from scipy.signal import correlate2d\n",
    "\n",
    "correlate2d(x, w, mode='valid')"
   ]
  },
  {
   "cell_type": "code",
   "execution_count": 8,
   "id": "human-black",
   "metadata": {},
   "outputs": [
    {
     "data": {
      "text/plain": [
       "array([[ 2,  4,  6],\n",
       "       [ 8, 10, 12],\n",
       "       [14, 16, 18]])"
      ]
     },
     "execution_count": 8,
     "metadata": {},
     "output_type": "execute_result"
    }
   ],
   "source": [
    "correlate2d(x, w, mode='same')"
   ]
  },
  {
   "cell_type": "markdown",
   "id": "changing-digit",
   "metadata": {},
   "source": [
    "## Tensorflow 를 이용한 합성곱: `conv2d()`"
   ]
  },
  {
   "cell_type": "code",
   "execution_count": 9,
   "id": "crude-festival",
   "metadata": {},
   "outputs": [
    {
     "data": {
      "text/plain": [
       "array([[ 2.,  4.,  6.],\n",
       "       [ 8., 10., 12.],\n",
       "       [14., 16., 18.]])"
      ]
     },
     "execution_count": 9,
     "metadata": {},
     "output_type": "execute_result"
    }
   ],
   "source": [
    "import tensorflow as tf\n",
    "\n",
    "# 2차원 배열을 4차원 배열로 바꾸어 합성곱 수행\n",
    "# 입력 자료형을 실수(float)로 바꾸기\n",
    "# 배치와 컬러 채널: 1\n",
    "x_4d = x.astype(np.float).reshape(1, 3, 3, 1)\n",
    "w_4d = w.reshape(2, 2, 1, 1)\n",
    "\n",
    "c_out = tf.nn.conv2d(x_4d, w_4d, strides=1, padding='SAME')\n",
    "c_out.numpy().reshape(3, 3)\n",
    "\n",
    "# `conv2d()` 함수에 전달되는 매개변수 값은 4차원 배열임!"
   ]
  },
  {
   "cell_type": "markdown",
   "id": "tribal-objective",
   "metadata": {},
   "source": [
    "## 풀링 연산"
   ]
  },
  {
   "cell_type": "markdown",
   "id": "cardiac-behavior",
   "metadata": {},
   "source": [
    "* 합성곱 신경망 구조\n",
    "    * 합성곱층: 합성곱이 일어나는 층\n",
    "    * 풀링층: 풀링이 일어나는 층\n",
    "* 특성 맵(feature map): 합성곱층과 풀링층에서 만들어진 결과\n",
    "* 풀링: 특성 맵을 스캔하며 최댓값을 고르거나 평균값을 계산하는 것"
   ]
  },
  {
   "cell_type": "markdown",
   "id": "governmental-frost",
   "metadata": {},
   "source": [
    "* 최대 풀링(max pooling): 최댓값을 고르는 방식\n",
    "    * 풀링 영역의 크기: 2 x 2\n",
    "    * 스트라이드: 풀링의 한 모서리 크기로 지정(여기서는 2) - 풀링 영역이 겹치지 않도록 함\n",
    "    * 가장 큰 특징을 유지시킴 - 이미지 분류에 알맞음\n",
    "* 평균 풀링(average pooling): 풀링 영역의 평균값 계산\n",
    "    * 합성곱층을 통과하는 특징을 희석시킬 가능성이 높음\n",
    "    * 가장 큰 특성의 값을 상쇄"
   ]
  },
  {
   "cell_type": "code",
   "execution_count": 11,
   "id": "weighted-rogers",
   "metadata": {},
   "outputs": [
    {
     "data": {
      "text/plain": [
       "array([[ 6.,  8.],\n",
       "       [14., 16.]], dtype=float32)"
      ]
     },
     "execution_count": 11,
     "metadata": {},
     "output_type": "execute_result"
    }
   ],
   "source": [
    "x = np.array([\n",
    "    [1, 2, 3, 4],\n",
    "    [5, 6, 7, 8],\n",
    "    [9, 10, 11, 12],\n",
    "    [13, 14, 15, 16]\n",
    "])\n",
    "x = x.reshape(1, 4, 4, 1)\n",
    "\n",
    "p_out = tf.nn.max_pool2d(x, ksize=2, strides=2, padding='VALID')\n",
    "p_out.numpy().reshape(2, 2)"
   ]
  },
  {
   "cell_type": "code",
   "execution_count": null,
   "id": "mexican-swift",
   "metadata": {},
   "outputs": [],
   "source": []
  }
 ],
 "metadata": {
  "kernelspec": {
   "display_name": "Python 3",
   "language": "python",
   "name": "python3"
  },
  "language_info": {
   "codemirror_mode": {
    "name": "ipython",
    "version": 3
   },
   "file_extension": ".py",
   "mimetype": "text/x-python",
   "name": "python",
   "nbconvert_exporter": "python",
   "pygments_lexer": "ipython3",
   "version": "3.8.5"
  }
 },
 "nbformat": 4,
 "nbformat_minor": 5
}
