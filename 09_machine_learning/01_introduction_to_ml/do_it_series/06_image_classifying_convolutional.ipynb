{
 "cells": [
  {
   "cell_type": "markdown",
   "id": "upper-terminology",
   "metadata": {},
   "source": [
    "# 합성곱 연산"
   ]
  },
  {
   "cell_type": "markdown",
   "id": "adjusted-briefs",
   "metadata": {},
   "source": [
    "## 합성곱 구현"
   ]
  },
  {
   "cell_type": "code",
   "execution_count": 1,
   "id": "hindu-enhancement",
   "metadata": {},
   "outputs": [
    {
     "name": "stdout",
     "output_type": "stream",
     "text": [
      "[3 5 1 2]\n"
     ]
    }
   ],
   "source": [
    "import numpy as np\n",
    "\n",
    "w = np.array([2, 1, 5, 3])\n",
    "x = np.array([2, 8, 3, 7, 1, 2, 0, 4, 5])\n",
    "\n",
    "w_r = np.flip(w)    # 배열 뒤집기\n",
    "print(w_r)"
   ]
  },
  {
   "cell_type": "code",
   "execution_count": 2,
   "id": "significant-broadcasting",
   "metadata": {},
   "outputs": [
    {
     "name": "stdout",
     "output_type": "stream",
     "text": [
      "63\n",
      "48\n",
      "49\n",
      "28\n",
      "21\n",
      "20\n"
     ]
    }
   ],
   "source": [
    "for i in range(6):\n",
    "    print(np.dot(x[i:i + 4], w_r))"
   ]
  },
  {
   "cell_type": "code",
   "execution_count": 3,
   "id": "elementary-least",
   "metadata": {},
   "outputs": [
    {
     "data": {
      "text/plain": [
       "array([63, 48, 49, 28, 21, 20])"
      ]
     },
     "execution_count": 3,
     "metadata": {},
     "output_type": "execute_result"
    }
   ],
   "source": [
    "# scipy 이용한 합성곱 구현\n",
    "from scipy.signal import convolve\n",
    "\n",
    "convolve(x, w, mode='valid')"
   ]
  },
  {
   "cell_type": "code",
   "execution_count": 4,
   "id": "prescription-token",
   "metadata": {},
   "outputs": [
    {
     "data": {
      "text/plain": [
       "array([48, 57, 24, 25, 16, 39])"
      ]
     },
     "execution_count": 4,
     "metadata": {},
     "output_type": "execute_result"
    }
   ],
   "source": [
    "# 교차상관과의 차이: 합성곱과 달리 배열을 뒤집지 않음\n",
    "from scipy.signal import correlate\n",
    "\n",
    "correlate(x, w, mode='valid')"
   ]
  },
  {
   "cell_type": "markdown",
   "id": "internal-pointer",
   "metadata": {},
   "source": [
    "## 패딩(padding)과 스트라이드(stride)\n",
    "* 패딩: 원본 배열의 양 끝에 빈 원소 추가\n",
    "* 스트라이드: 미끄러지는 배열의 간격을 조절하는 것\n",
    "* 개념 적용에 따라 valid padding, full padding, same padding 으로 부름"
   ]
  },
  {
   "cell_type": "code",
   "execution_count": null,
   "id": "spectacular-custom",
   "metadata": {},
   "outputs": [],
   "source": [
    "# valid padding: 원본 배열에 패딩 추가하지 않고 미끄러지는 배열이 원본 배열 끝으로 갈 때까지 교차 상관 수행\n",
    "# valid padding 결과로 얻는 배열 크기는 원본 배열보다 항상 작음"
   ]
  },
  {
   "cell_type": "code",
   "execution_count": 5,
   "id": "fuzzy-swift",
   "metadata": {},
   "outputs": [
    {
     "data": {
      "text/plain": [
       "array([ 6, 34, 51, 48, 57, 24, 25, 16, 39, 29, 13, 10])"
      ]
     },
     "execution_count": 5,
     "metadata": {},
     "output_type": "execute_result"
    }
   ],
   "source": [
    "# full padding: 원본 배열의 모든 요소가 동일하게 연산에 참여하는 패딩 방식\n",
    "correlate(x, w, mode='full')\n",
    "\n",
    "# zero padding: 원본 배열 원소가 연산에 동일하게 참여하도록 하기 위해 원본 배열 양 끝에 가상의 원소를 추가하는데, 이때 0을 가상의 원소로 사용하므로 zero padding 이라 함"
   ]
  },
  {
   "cell_type": "code",
   "execution_count": 6,
   "id": "distinguished-first",
   "metadata": {},
   "outputs": [
    {
     "data": {
      "text/plain": [
       "array([34, 51, 48, 57, 24, 25, 16, 39, 29])"
      ]
     },
     "execution_count": 6,
     "metadata": {},
     "output_type": "execute_result"
    }
   ],
   "source": [
    "# same padding: 출력 배열의 길이를 원본 배열의 길이와 동일하게 제로 패딩을 추가함\n",
    "correlate(x, w, mode='same')"
   ]
  },
  {
   "cell_type": "markdown",
   "id": "trained-occasion",
   "metadata": {},
   "source": [
    "* 스트라이드: 미끄러지는 간격 조정\n",
    "    * 합성곱 신경망을 만들 때는 스트라이드를 일반적으로 1로 지정"
   ]
  },
  {
   "cell_type": "markdown",
   "id": "romantic-unemployment",
   "metadata": {},
   "source": [
    "## 2차원 배열에서의 합성곱"
   ]
  },
  {
   "cell_type": "code",
   "execution_count": 7,
   "id": "intensive-virginia",
   "metadata": {},
   "outputs": [
    {
     "data": {
      "text/plain": [
       "array([[ 2,  4],\n",
       "       [ 8, 10]])"
      ]
     },
     "execution_count": 7,
     "metadata": {},
     "output_type": "execute_result"
    }
   ],
   "source": [
    "# 합성곱 신경망은 대부분 2차원 배열에 대한 합성곱을 사용함\n",
    "\n",
    "# 2차원 원본배열\n",
    "x = np.array([\n",
    "    [1, 2, 3],\n",
    "    [4, 5, 6],\n",
    "    [7, 8, 9]\n",
    "])\n",
    "# 미끄러지는 배열\n",
    "w = np.array([\n",
    "    [2, 0], [0, 0]\n",
    "])\n",
    "\n",
    "from scipy.signal import correlate2d\n",
    "\n",
    "correlate2d(x, w, mode='valid')"
   ]
  },
  {
   "cell_type": "code",
   "execution_count": 8,
   "id": "vocational-selling",
   "metadata": {},
   "outputs": [
    {
     "data": {
      "text/plain": [
       "array([[ 2,  4,  6],\n",
       "       [ 8, 10, 12],\n",
       "       [14, 16, 18]])"
      ]
     },
     "execution_count": 8,
     "metadata": {},
     "output_type": "execute_result"
    }
   ],
   "source": [
    "correlate2d(x, w, mode='same')"
   ]
  },
  {
   "cell_type": "markdown",
   "id": "engaging-simulation",
   "metadata": {},
   "source": [
    "## Tensorflow 를 이용한 합성곱: `conv2d()`"
   ]
  },
  {
   "cell_type": "code",
   "execution_count": 9,
   "id": "french-edward",
   "metadata": {},
   "outputs": [
    {
     "data": {
      "text/plain": [
       "array([[ 2.,  4.,  6.],\n",
       "       [ 8., 10., 12.],\n",
       "       [14., 16., 18.]])"
      ]
     },
     "execution_count": 9,
     "metadata": {},
     "output_type": "execute_result"
    }
   ],
   "source": [
    "import tensorflow as tf\n",
    "\n",
    "# 2차원 배열을 4차원 배열로 바꾸어 합성곱 수행\n",
    "# 입력 자료형을 실수(float)로 바꾸기\n",
    "# 배치와 컬러 채널: 1\n",
    "x_4d = x.astype(np.float).reshape(1, 3, 3, 1)\n",
    "w_4d = w.reshape(2, 2, 1, 1)\n",
    "\n",
    "c_out = tf.nn.conv2d(x_4d, w_4d, strides=1, padding='SAME')\n",
    "c_out.numpy().reshape(3, 3)\n",
    "\n",
    "# `conv2d()` 함수에 전달되는 매개변수 값은 4차원 배열임!"
   ]
  },
  {
   "cell_type": "markdown",
   "id": "appropriate-supervision",
   "metadata": {},
   "source": [
    "# 풀링 연산"
   ]
  },
  {
   "cell_type": "markdown",
   "id": "reserved-headquarters",
   "metadata": {},
   "source": [
    "* 합성곱 신경망 구조\n",
    "    * 합성곱층: 합성곱이 일어나는 층\n",
    "    * 풀링층: 풀링이 일어나는 층\n",
    "* 특성 맵(feature map): 합성곱층과 풀링층에서 만들어진 결과\n",
    "* 풀링: 특성 맵을 스캔하며 최댓값을 고르거나 평균값을 계산하는 것"
   ]
  },
  {
   "cell_type": "markdown",
   "id": "national-activation",
   "metadata": {},
   "source": [
    "* 최대 풀링(max pooling): 최댓값을 고르는 방식\n",
    "    * 풀링 영역의 크기: 2 x 2\n",
    "    * 스트라이드: 풀링의 한 모서리 크기로 지정(여기서는 2) - 풀링 영역이 겹치지 않도록 함\n",
    "    * 가장 큰 특징을 유지시킴 - 이미지 분류에 알맞음\n",
    "* 평균 풀링(average pooling): 풀링 영역의 평균값 계산\n",
    "    * 합성곱층을 통과하는 특징을 희석시킬 가능성이 높음\n",
    "    * 가장 큰 특성의 값을 상쇄"
   ]
  },
  {
   "cell_type": "code",
   "execution_count": 11,
   "id": "reported-kazakhstan",
   "metadata": {},
   "outputs": [
    {
     "data": {
      "text/plain": [
       "array([[ 6.,  8.],\n",
       "       [14., 16.]], dtype=float32)"
      ]
     },
     "execution_count": 11,
     "metadata": {},
     "output_type": "execute_result"
    }
   ],
   "source": [
    "x = np.array([\n",
    "    [1, 2, 3, 4],\n",
    "    [5, 6, 7, 8],\n",
    "    [9, 10, 11, 12],\n",
    "    [13, 14, 15, 16]\n",
    "])\n",
    "x = x.reshape(1, 4, 4, 1)\n",
    "\n",
    "p_out = tf.nn.max_pool2d(x, ksize=2, strides=2, padding='VALID')\n",
    "p_out.numpy().reshape(2, 2)"
   ]
  },
  {
   "cell_type": "markdown",
   "id": "careful-highway",
   "metadata": {},
   "source": [
    "## ReLU 함수"
   ]
  },
  {
   "cell_type": "markdown",
   "id": "received-pressure",
   "metadata": {},
   "source": [
    "* 주로 합성곱층에 적용되는 활성화 함수로, 합성곱 신경망의 성능을 높여줌\n",
    "* 0보다 큰 값은 그대로 통과시키고 0보다 작은 값은 0으로 만듦"
   ]
  },
  {
   "cell_type": "code",
   "execution_count": 12,
   "id": "medieval-virgin",
   "metadata": {},
   "outputs": [
    {
     "data": {
      "text/plain": [
       "array([0, 2, 0, 4, 0])"
      ]
     },
     "execution_count": 12,
     "metadata": {},
     "output_type": "execute_result"
    }
   ],
   "source": [
    "# ReLU 함수 구현\n",
    "def relu(x):\n",
    "    return np.maximum(x, 0)\n",
    "\n",
    "x = np.array([-1, 2, -3, 4, -5])\n",
    "relu(x)"
   ]
  },
  {
   "cell_type": "code",
   "execution_count": 13,
   "id": "constitutional-contract",
   "metadata": {},
   "outputs": [
    {
     "data": {
      "text/plain": [
       "array([0, 2, 0, 4, 0])"
      ]
     },
     "execution_count": 13,
     "metadata": {},
     "output_type": "execute_result"
    }
   ],
   "source": [
    "# tensorflow에서 제공하는 `relu()` 함수\n",
    "r_out = tf.nn.relu(x)\n",
    "# Tensor 객체를 numpy 로 변환\n",
    "r_out.numpy()"
   ]
  },
  {
   "cell_type": "markdown",
   "id": "aquatic-detection",
   "metadata": {},
   "source": [
    "## ReLU 함수의 도함수\n",
    "* 입력이 0보다 크면 1(x > 0), 입력이 0보다 작으면 0(x ≤ 0)"
   ]
  },
  {
   "cell_type": "markdown",
   "id": "blocked-evaluation",
   "metadata": {},
   "source": [
    "# 합성곱 신경망 만들기"
   ]
  },
  {
   "cell_type": "code",
   "execution_count": 29,
   "id": "silver-warrant",
   "metadata": {},
   "outputs": [],
   "source": [
    "class ConvolutionNetwork:\n",
    "    def __init__(self, n_kernels=10, units=10, batch_size=32, learning_rate=0.1):\n",
    "        # 합성곱의 커널 개수\n",
    "        self.n_kernels = n_kernels\n",
    "        # 커널 크기\n",
    "        self.kernel_size = 3\n",
    "        # 옵티마이저\n",
    "        self.optimizer = None\n",
    "        # 합성곱층의 가중치\n",
    "        self.conv_w = None\n",
    "        # 합성곱층의 절편\n",
    "        self.conv_b = None\n",
    "        # 은닉층의 뉴런 개수\n",
    "        self.units = units\n",
    "        # 배치 크기\n",
    "        self.batch_size = batch_size\n",
    "        # 은닉층의 가중치\n",
    "        self.w1 = None\n",
    "        # 은닉층의 절편\n",
    "        self.b1 = None\n",
    "        # 출력층의 가중치\n",
    "        self.w2 = None\n",
    "        # 출력층의 절편\n",
    "        self.b2 = None\n",
    "        # 은닉층의 활성화 출력\n",
    "        self.a1 = None\n",
    "        # 훈련 손실\n",
    "        self.losses = []\n",
    "        # 검증 손실\n",
    "        self.val_losses = []\n",
    "        # 학습률\n",
    "        self.lr = learning_rate\n",
    "    \n",
    "    def forpass(self, x):\n",
    "        # 3 x 3 합성곱 연산\n",
    "        c_out = tf.nn.conv2d(x, self.conv_w, strides=1, padding='SAME') + self.conv_b\n",
    "        # ReLU 활성화 함수 적용\n",
    "        r_out = tf.nn.relu(c_out)\n",
    "        # 2 x 2 최대 풀링 적용\n",
    "        p_out = tf.nn.max_pool2d(r_out, ksize=2, strides=2, padding='VALID')\n",
    "        # 첫 번째 배치 자원을 제외하고 출력을 일괄로 펼침\n",
    "        f_out = tf.reshape(p_out, [x.shape[0], -1])\n",
    "        # 첫 번째 층의 선형식 계산\n",
    "        z1 = tf.matmul(f_out, self.w1) + self.b1\n",
    "        # 활성화 함수 적용\n",
    "        a1 = tf.nn.relu(z1)\n",
    "        # 두 번째 층의 선형식 계산\n",
    "        z2 = tf.matmul(a1, self.w2) + self.b2    \n",
    "        return z2\n",
    "    \n",
    "    def init_weights(self, input_shape, n_classes):\n",
    "        g = tf.initializers.glorot_uniform()\n",
    "        self.conv_w = tf.Variable(g((3, 3, 1, self.n_kernels)))\n",
    "        self.conv_b = tf.Variable(np.zeros(self.n_kernels), dtype=float)\n",
    "        n_features = 14 * 14 * self.n_kernels\n",
    "        self.w1 = tf.Variable(g((n_features, self.units)))\n",
    "        self.b1 = tf.Variable(np.zeros(self.units), dtype=float)\n",
    "        self.w2 = tf.Variable(g((self.units, n_classes)))\n",
    "        self.b2 = tf.Variable(np.zeros(n_classes), dtype=float)\n",
    "        \n",
    "    def fit(self, x, y, epochs=100, x_val=None, y_val=None):\n",
    "        self.init_weights(x.shape, y.shape[1])\n",
    "        self.optimizer = tf.optimizers.SGD(learning_rate=self.lr)\n",
    "        # epoch 만큼 반복\n",
    "        for i in range(epochs):\n",
    "            print('epoch:', i, end=' ')\n",
    "            # 제너레이터 함수에서 반환된 미니 배치 순환\n",
    "            batch_losses = []\n",
    "            for x_batch, y_batch in self.gen_batch(x, y):\n",
    "                print('.', end='')\n",
    "                self.training(x_batch, y_batch)\n",
    "                # 배치 손실 기록\n",
    "                batch_losses.append(self.get_loss(x_batch, y_batch))\n",
    "            print()\n",
    "            # 배치 손실 평균 계산하여 훈련 손실값으로 저장\n",
    "            self.losses.append(np.mean(batch_losses))\n",
    "            # 검증 세트에 대한 손실 계산\n",
    "            self.val_losses.append(self.get_loss(x_val, y_val))\n",
    "    \n",
    "    # 미니 배치 제너레이터 함수\n",
    "    def gen_batch(self, x, y):\n",
    "        bins = len(x) // self.batch_size\n",
    "        idxs = np.random.permutation(np.arange(len(x)))\n",
    "        x = x[idxs]\n",
    "        y = y[idxs]\n",
    "        for i in range(bins):\n",
    "            start = self.batch_size * i\n",
    "            end = self.batch_size * (i + 1)\n",
    "            # batch_size만큼 슬라이싱하여 반환\n",
    "            yield x[start:end], y[start:end]\n",
    "    \n",
    "    def training(self, x, y):\n",
    "        m = len(x)\n",
    "        with tf.GradientTape() as tape:\n",
    "            # 정방향 계산\n",
    "            z = self.forpass(x)\n",
    "            # 손실 계산\n",
    "            loss = tf.nn.softmax_cross_entropy_with_logits(y, z)\n",
    "            loss = tf.reduce_mean(loss)\n",
    "        \n",
    "        weights_lst = [\n",
    "            self.conv_w, self.conv_b,\n",
    "            self.w1, self.b1, self.w2, self.b2\n",
    "        ]\n",
    "        # 가중치에 대한 gradient 계산\n",
    "        grads = tape.gradient(loss, weights_lst)\n",
    "        self.optimizer.apply_gradients(zip(grads, weights_lst))\n",
    "    \n",
    "    def predict(self, x):\n",
    "        # 정방향 계산\n",
    "        z = self.forpass(x)\n",
    "        # 가장 큰 값의 인덱스 반환\n",
    "        return np.argmax(z.numpy(), axis=1)\n",
    "    \n",
    "    def score(self, x, y):\n",
    "        # 예측과 타깃 열 벡터를 비교하여 True 비율 반환\n",
    "        return np.mean(self.predict(x) == np.argmax(y, axis=1))\n",
    "    \n",
    "    def get_loss(self, x, y):\n",
    "        # 정방향 계산\n",
    "        z = self.forpass(x)\n",
    "        # 손실을 계산하여 저장\n",
    "        loss = tf.reduce_mean(tf.nn.softmax_cross_entropy_with_logits(y, z))\n",
    "        return loss.numpy()"
   ]
  },
  {
   "cell_type": "code",
   "execution_count": 30,
   "id": "julian-dimension",
   "metadata": {},
   "outputs": [],
   "source": [
    "(x_train_all, y_train_all), (x_test, y_test) = tf.keras.datasets.fashion_mnist.load_data()"
   ]
  },
  {
   "cell_type": "code",
   "execution_count": 31,
   "id": "employed-direction",
   "metadata": {},
   "outputs": [],
   "source": [
    "from sklearn.model_selection import train_test_split\n",
    "\n",
    "# 훈련-검증 세트 준비\n",
    "x_train, x_val, y_train, y_val = train_test_split(\n",
    "    x_train_all, y_train_all, stratify=y_train_all, test_size=0.2,\n",
    "    random_state=42\n",
    ")\n",
    "\n",
    "# 원-핫 인코딩으로 변환\n",
    "y_train_encoded = tf.keras.utils.to_categorical(y_train)\n",
    "y_val_encoded = tf.keras.utils.to_categorical(y_val)\n",
    "\n",
    "# 입력 데이터 준비\n",
    "x_train = x_train.reshape(-1, 28, 28, 1)\n",
    "x_val = x_val.reshape(-1, 28, 28, 1)"
   ]
  },
  {
   "cell_type": "code",
   "execution_count": 32,
   "id": "entire-daily",
   "metadata": {},
   "outputs": [
    {
     "data": {
      "text/plain": [
       "(48000, 28, 28, 1)"
      ]
     },
     "execution_count": 32,
     "metadata": {},
     "output_type": "execute_result"
    }
   ],
   "source": [
    "x_train.shape"
   ]
  },
  {
   "cell_type": "code",
   "execution_count": 33,
   "id": "integrated-portuguese",
   "metadata": {
    "collapsed": true
   },
   "outputs": [
    {
     "name": "stdout",
     "output_type": "stream",
     "text": [
      "epoch: 0 .......................................................................................................................................................................................................................................................................................................................................................................................\n",
      "epoch: 1 .......................................................................................................................................................................................................................................................................................................................................................................................\n",
      "epoch: 2 .......................................................................................................................................................................................................................................................................................................................................................................................\n",
      "epoch: 3 .......................................................................................................................................................................................................................................................................................................................................................................................\n",
      "epoch: 4 .......................................................................................................................................................................................................................................................................................................................................................................................\n",
      "epoch: 5 .......................................................................................................................................................................................................................................................................................................................................................................................\n",
      "epoch: 6 .......................................................................................................................................................................................................................................................................................................................................................................................\n",
      "epoch: 7 .......................................................................................................................................................................................................................................................................................................................................................................................\n",
      "epoch: 8 .......................................................................................................................................................................................................................................................................................................................................................................................\n",
      "epoch: 9 .......................................................................................................................................................................................................................................................................................................................................................................................\n",
      "epoch: 10 .......................................................................................................................................................................................................................................................................................................................................................................................\n",
      "epoch: 11 .......................................................................................................................................................................................................................................................................................................................................................................................\n",
      "epoch: 12 .......................................................................................................................................................................................................................................................................................................................................................................................\n",
      "epoch: 13 .......................................................................................................................................................................................................................................................................................................................................................................................\n",
      "epoch: 14 .......................................................................................................................................................................................................................................................................................................................................................................................\n",
      "epoch: 15 .......................................................................................................................................................................................................................................................................................................................................................................................\n",
      "epoch: 16 .......................................................................................................................................................................................................................................................................................................................................................................................\n",
      "epoch: 17 .......................................................................................................................................................................................................................................................................................................................................................................................\n",
      "epoch: 18 .......................................................................................................................................................................................................................................................................................................................................................................................\n",
      "epoch: 19 .......................................................................................................................................................................................................................................................................................................................................................................................\n"
     ]
    }
   ],
   "source": [
    "# 데이터 전처리\n",
    "x_train = x_train / 255\n",
    "x_val = x_val / 255\n",
    "\n",
    "# 모델 훈련\n",
    "cn = ConvolutionNetwork(n_kernels=10, units=100, batch_size=128, learning_rate=0.01)\n",
    "cn.fit(x_train, y_train_encoded, x_val=x_val, y_val=y_val_encoded, epochs=20)"
   ]
  },
  {
   "cell_type": "code",
   "execution_count": 34,
   "id": "intensive-vaccine",
   "metadata": {},
   "outputs": [
    {
     "data": {
      "image/png": "[encoded data removed]",
      "text/plain": [
       "<Figure size 432x288 with 1 Axes>"
      ]
     },
     "metadata": {
      "needs_background": "light"
     },
     "output_type": "display_data"
    }
   ],
   "source": [
    "import matplotlib.pyplot as plt\n",
    "\n",
    "plt.plot(cn.losses)\n",
    "plt.plot(cn.val_losses)\n",
    "plt.ylabel('loss')\n",
    "plt.xlabel('iteration')\n",
    "plt.legend(['train_loss', 'val_loss'])\n",
    "plt.show()"
   ]
  },
  {
   "cell_type": "code",
   "execution_count": 35,
   "id": "living-brooklyn",
   "metadata": {},
   "outputs": [
    {
     "data": {
      "text/plain": [
       "0.8810833333333333"
      ]
     },
     "execution_count": 35,
     "metadata": {},
     "output_type": "execute_result"
    }
   ],
   "source": [
    "cn.score(x_val, y_val_encoded)"
   ]
  },
  {
   "cell_type": "code",
   "execution_count": null,
   "id": "pointed-restoration",
   "metadata": {},
   "outputs": [],
   "source": []
  }
 ],
 "metadata": {
  "kernelspec": {
   "display_name": "Python 3",
   "language": "python",
   "name": "python3"
  },
  "language_info": {
   "codemirror_mode": {
    "name": "ipython",
    "version": 3
   },
   "file_extension": ".py",
   "mimetype": "text/x-python",
   "name": "python",
   "nbconvert_exporter": "python",
   "pygments_lexer": "ipython3",
   "version": "3.8.5"
  }
 },
 "nbformat": 4,
 "nbformat_minor": 5
}
