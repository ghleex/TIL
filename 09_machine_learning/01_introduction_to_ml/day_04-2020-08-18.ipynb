{
 "cells": [
  {
   "cell_type": "markdown",
   "metadata": {},
   "source": [
    "# 1. 머신러닝의 분류"
   ]
  },
  {
   "cell_type": "markdown",
   "metadata": {},
   "source": [
    "* 머신러닝 아래에는 서로 다른 목적을 가진 도구들이 있음"
   ]
  },
  {
   "cell_type": "markdown",
   "metadata": {},
   "source": [
    "* 기계학습(machine learning)\n",
    "    * 지도학습(supervised learning)\n",
    "      * 분류(classification)\n",
    "      * 회귀(regression)\n",
    "    * 비지도학습(unsupervised learning)\n",
    "      * 군집화(clustering)\n",
    "      * 변환(transform)\n",
    "      * 연관(association)\n",
    "    * 강화학습(reinforcement learninig)"
   ]
  },
  {
   "cell_type": "markdown",
   "metadata": {},
   "source": [
    "## 1.1. 지도학습(supervised learning)"
   ]
  },
  {
   "cell_type": "markdown",
   "metadata": {},
   "source": [
    "* 기계를 가르친다는 것\n",
    "  * 문제와 답을 비교하고 맞추는 과정을 통해 익숙하게 만듦\n",
    "  * 데이터로 컴퓨터를 학습시켜 모델을 만드는 방식"
   ]
  },
  {
   "cell_type": "markdown",
   "metadata": {},
   "source": [
    "## 1.2. 비지도학습(unsupervised learning)"
   ]
  },
  {
   "cell_type": "markdown",
   "metadata": {},
   "source": [
    "* 기계에게 데이터에 대한 통찰력 부여\n",
    "  * 예리한 관찰력으로 사물을 꿰뚫어보는 것\n",
    "  * 답을 알려주지 않았지만 무언가에 대한 관찰로 새로운 의미나 관계를 밝혀내는 것\n",
    "  * 데이터 성격 파악, 데이터 정리에 주로 사용"
   ]
  },
  {
   "cell_type": "markdown",
   "metadata": {},
   "source": [
    "## 1.3. 강화학습(reinforcement learning)"
   ]
  },
  {
   "cell_type": "markdown",
   "metadata": {},
   "source": [
    "* 학습을 통해 능력을 향상시킨다는 점에서 지도학습과 유사\n",
    "* 지도학습은 정답을 알려주며 학습시키지만, 강화학습은 어떻게 해야 더 좋은 결과를 낼 수 있는지 스스로 알도록 만든다는 점에서 차이\n",
    "* 더 큰 상을 받기 위한 과정을 끊임없이 반복, 기계가 고수로 성장하도록 만드는 방법"
   ]
  },
  {
   "cell_type": "markdown",
   "metadata": {},
   "source": [
    "# 2. 지도학습(supervised learning)"
   ]
  },
  {
   "cell_type": "markdown",
   "metadata": {},
   "source": [
    "* 원인과 결과\n",
    "  * 어떤 사건이 일어났을 때 그것의 결과로 어떤 일이 일어날지 예측\n",
    "* 과거 데이터로부터 학습을 통해 결과를 예측하는데 주로 사용"
   ]
  },
  {
   "cell_type": "markdown",
   "metadata": {},
   "source": [
    "* 데이터는 원인인 독립변수와 결과인 종속변수로 이루어져 있어야 함\n",
    "* 이것을 지도학습으로 훈련시키면 컴퓨터는 모델을 만듦\n",
    "* 모델이 만들어지면 사용하면 됨!"
   ]
  },
  {
   "cell_type": "markdown",
   "metadata": {},
   "source": [
    "* 지도학습을 하기 위하여 데이터가 필요함\n",
    "* 데이터를 독립변수와 종속변수로 분리\n",
    "* 컴퓨터에 독립변수와 종속변수 관계를 학습시킴\n",
    "* 관계를 설명할 수 있는 공식(= 모델)을 만듦\n",
    "* 데이터가 많을수록, 정확할수록 좋음"
   ]
  },
  {
   "cell_type": "markdown",
   "metadata": {},
   "source": [
    "* 이와 같이 학습시키면 아직 결과를 모르는 원인을 모델에 입력했을 때 모델이 예측 결과를 재빠르게 계산하여 알려줌"
   ]
  },
  {
   "cell_type": "markdown",
   "metadata": {},
   "source": [
    "# 3. 회귀 vs. 분류"
   ]
  },
  {
   "cell_type": "markdown",
   "metadata": {},
   "source": [
    "* 지도학습\n",
    "  * 회귀(regression)\n",
    "  * 분류(classification)"
   ]
  },
  {
   "cell_type": "markdown",
   "metadata": {},
   "source": [
    "## 3.1. 회귀(regression)"
   ]
  },
  {
   "cell_type": "markdown",
   "metadata": {},
   "source": [
    "* 예측하고 싶은 종속변수가 숫자일 때 사용"
   ]
  },
  {
   "cell_type": "markdown",
   "metadata": {},
   "source": [
    "|독립변수|종속변수|학습시킬 데이터를 만드는 방법|\n",
    "|---|---|---|\n",
    "|공부시간|시험점수(10점, 20점)|사람들의 공부시간을 입력받고 점수를 확인|\n",
    "|온도|레모네이드 판매량|온도와 날짜별 판매량 기록|\n",
    "|역세권, 조망 등|집 값|집과 역까지의 겨리, 수치화된 조망의 평점 등을 집 값과 함께 기록|\n",
    "|온실 기체량|기온 변화량|과거에 배출된 온실 기체량과 기온의 변화량 기록|\n",
    "|자동차 속도|충돌 시 사망 확률|충돌 시 속도와 사상자 기록|\n",
    "|나이|키|학생의 나이에 따른 키를 기록|"
   ]
  },
  {
   "cell_type": "markdown",
   "metadata": {},
   "source": [
    "## 3.2. 분류(classification)"
   ]
  },
  {
   "cell_type": "markdown",
   "metadata": {},
   "source": [
    "* 문제에서 추측하고자 하는 결과가 이름 혹은 문자일 때 사용"
   ]
  },
  {
   "cell_type": "markdown",
   "metadata": {},
   "source": [
    "|독립변수|종속변수|학습시킬 데이터를 만드는 방법|\n",
    "|---|---|---|\n",
    "|공부시간|합격 여부(합격/불합격)|사람들의 공부시간을 입력받고 최종 합격여부 확인|\n",
    "|X-ray 사진과 영상 속 종양의 크기, 두께|악성 종양 여부(양성/음성)|의학적으로 양성과 음성이 확인된 사진과 영상 데이터 수집|\n",
    "|품종, 산도, 당도, 지역, 연도|와인 등급|소믈리에를 통해 등급이 확인된 와인을 이용하여 품종, 산도 등의 독립변수를 결정 후 기록|\n",
    "|키, 몸무게, 시력, 지병|현역, 공익, 면제|키, 몸무게, 시력, 지병 등을 기반으로 현역, 공익, 면제 여부 확인|\n",
    "|메일 발신인, 제목, 본문 내용(사용된 단어, 이모티콘 등)|스팸 메일 여부|지금까지 수신된 메일을 모아 이를 스팸 메일과 일반 메일로 구분|\n",
    "|고기의 지방함량, 지방색, 성숙도, 육색|소고기 등급|소고기 정보를 기반으로 등급 측정|"
   ]
  },
  {
   "cell_type": "markdown",
   "metadata": {},
   "source": [
    "## 3.3. Summary"
   ]
  },
  {
   "cell_type": "markdown",
   "metadata": {},
   "source": [
    "* 가지고 있는 데이터에 \"독립변수\"와 \"종속변수\"가 있고, \"종속변수\"가 **\"숫자\"**일 때 **회귀** 이용\n",
    "* 가지고 있는 데이터에 \"독립변수\"와 \"종속변수\"가 있고, \"종속변수\"가 **\"이름\"**일 때 **분류** 이용"
   ]
  },
  {
   "cell_type": "markdown",
   "metadata": {},
   "source": [
    "## 3.4. 양적 데이터와 범주형 데이터"
   ]
  },
  {
   "cell_type": "markdown",
   "metadata": {},
   "source": [
    "### 3.4.1. 양적 데이터(qualitative data)\n",
    "* 얼마나 큰지, 얼마나 많은지, 어느 정도인지를 의미하는 데이터\n",
    "* 숫자를 사용"
   ]
  },
  {
   "cell_type": "markdown",
   "metadata": {},
   "source": [
    "### 3.4.2. 범주형 데이터(categorial data)\n",
    "* 명사형 사용"
   ]
  }
 ],
 "metadata": {
  "kernelspec": {
   "display_name": "Python 3.8.5 64-bit",
   "language": "python",
   "name": "python38564bit41c0f892f0d2444caf8d56aed2f67eea"
  },
  "language_info": {
   "codemirror_mode": {
    "name": "ipython",
    "version": 3
   },
   "file_extension": ".py",
   "mimetype": "text/x-python",
   "name": "python",
   "nbconvert_exporter": "python",
   "pygments_lexer": "ipython3",
   "version": "3.8.5"
  }
 },
 "nbformat": 4,
 "nbformat_minor": 4
}
