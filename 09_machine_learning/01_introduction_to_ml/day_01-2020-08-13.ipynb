{
 "cells": [
  {
   "cell_type": "markdown",
   "metadata": {},
   "source": [
    "# 1. 머신러닝이란?"
   ]
  },
  {
   "cell_type": "markdown",
   "metadata": {},
   "source": [
    "* 무엇을 결정할 때 어떻게 결정하는 것이 가장 좋을까?\n",
    "  * \"결정\"의 의미: 결정 = 비교(무엇이 더 좋은지, 나쁜지) + 선택\n",
    "  * 비교가 쉽지 않을 때(대소관계 불분명, 비교해야 할 특징이 너무 많을 때)"
   ]
  },
  {
   "cell_type": "markdown",
   "metadata": {},
   "source": [
    "* 좋은 결정을 위한 인간의 몸부림\n",
    "  * \"수\"의 표현: 대소관계 표준화, 크기에 대한 인식 가능, 정밀한 소통 가능, 비교를 위한 가장 중요한 도구\n",
    "  * 통계\n",
    "  * 컴퓨터의 등장: 단순 계산으로부터 해방 -- 비약적인 인류의 결정 능력 향상\n",
    "  * 인간의 고유한 결정을 기계에게 맡기고 싶어야 함 → 기계학습의 등장\n",
    "  * 판단능력 확장, 정확한 선택을 돕기 위한 것"
   ]
  },
  {
   "cell_type": "markdown",
   "metadata": {},
   "source": [
    "# 2. 우리에게 필요한 것?"
   ]
  },
  {
   "cell_type": "markdown",
   "metadata": {},
   "source": [
    "* 이것을 왜 하는가?\n",
    "  * 나의 문제를 머신러닝으로 해결\n",
    "  * 엔지니어, 생산자가 되기 위한 것이 목표\n",
    "  * 해결하고자 하는 문제가 필요\n",
    "  * 없다면 머신러닝은 수단에 불과"
   ]
  },
  {
   "cell_type": "markdown",
   "metadata": {},
   "source": [
    "* 습관 고치기에 머신러닝 이용해보기!\n",
    "* 크고, 심각하고, 절망적으로 문제를 바라보기"
   ]
  },
  {
   "cell_type": "markdown",
   "metadata": {},
   "source": [
    "* 습관 바라보기\n",
    "  * 의지만으로 습관을 바꾸기 쉽지 않음\n",
    "  * 환경이 바뀌면 서서히 습관도 변함\n",
    "  * 환경 바꾸는 것은 의지\n",
    "* 의지 → 환경 → 습관"
   ]
  },
  {
   "cell_type": "markdown",
   "metadata": {},
   "source": [
    "* 습관 바꾸기에 머신러닝을 이용할 수 없을까?\n",
    "* 특정 습관을 할 때 머신러닝이 알려줄 수 없을까?\n",
    "* 습관을 고치는 App 을 만들어보자!"
   ]
  },
  {
   "cell_type": "markdown",
   "metadata": {},
   "source": [
    "# 3. 궁리해보기"
   ]
  },
  {
   "cell_type": "markdown",
   "metadata": {},
   "source": [
    "* 일 = 꿈 + 능력\n",
    "* 습관을 고치는 App 을 구상해보자\n",
    "  * 습관을 하고 있는 사진, 정상적인 사진을 모두 학습\n",
    "  * 나중에도 다른 환경을 보고도 알려줄 수 있을 것임"
   ]
  },
  {
   "cell_type": "markdown",
   "metadata": {},
   "source": [
    "# 4. Teachable Machine\n",
    "* [Teachable Machine](https://teachablemachine.withgoogle.com \"Teachable Machine - Google\")"
   ]
  },
  {
   "cell_type": "markdown",
   "metadata": {},
   "source": [
    "* class: 서로 연관된 것을 모아둔 것, 분류\n",
    "* 기계학습(machine learning): 사람이 경험과 공부를 통해 정교한 판단을 할 수 있는 것과 같이 기계에게도 학습을 통해 정확한 판단력을 갖도록 하는 것"
   ]
  },
  {
   "cell_type": "markdown",
   "metadata": {},
   "source": [
    "# 5. 모델"
   ]
  },
  {
   "cell_type": "markdown",
   "metadata": {},
   "source": [
    "* 머신러닝을 이해하기 위한 중요한 열쇠\n",
    "* 모델의 의미를 이해한다면 머신러닝의 개념을 파악한 것이라 할 수 있음"
   ]
  },
  {
   "cell_type": "markdown",
   "metadata": {},
   "source": [
    "* 자라면서 먹어도 되는 것, 먹으면 안 되는 것, 먹고 싶은 것과 먹기 싫은 것을 알게됨 → 이러한 과정을 통해 갖게된 판단 능력: 교훈\n",
    "* 교훈을 통해 경험해보지 않아도 결과를 예측/추측할 수 있음\n",
    "  * 먹어도 되는 것인지, 안 되는 것인지 등을 추측할 수 있음\n",
    "* 과학자의 현상 관찰 => 현상을 설명할 수 있는 이유 추측: 가설\n",
    "  * 가설 검증 위한 실험 진행\n",
    "  * 실험 결과 가설 모순이 없으면 이론\n",
    "* 교훈과 이론: 판단력의 다른 이름으로 볼 수 있음"
   ]
  },
  {
   "cell_type": "markdown",
   "metadata": {},
   "source": [
    "* 좋은 판단력: 나의 삶과 인류의 진보에 필수 도구\n",
    "* 머신러닝이란 판단력을 기계에게 부여하는 기술\n",
    "  * 이때 판단력을 모델로 통칭\n",
    "  * 모델 만드는 과정: 학습\n",
    "  * 모델 잘 만드면 좋은 추측 가능\n",
    "  * 학습이 잘 되어야 좋은 모델\n",
    "  * 모델이 좋아야 더 좋은 추측 가능\n",
    "  * 추측이 정확해야 좋은 결정 가능"
   ]
  }
 ],
 "metadata": {
  "kernelspec": {
   "display_name": "Python 3.8.5 64-bit",
   "language": "python",
   "name": "python38564bit41c0f892f0d2444caf8d56aed2f67eea"
  },
  "language_info": {
   "codemirror_mode": {
    "name": "ipython",
    "version": 3
   },
   "file_extension": ".py",
   "mimetype": "text/x-python",
   "name": "python",
   "nbconvert_exporter": "python",
   "pygments_lexer": "ipython3",
   "version": "3.8.5"
  }
 },
 "nbformat": 4,
 "nbformat_minor": 4
}
