{
 "cells": [
  {
   "cell_type": "markdown",
   "id": "independent-glossary",
   "metadata": {},
   "source": [
    "# Introduction to Machine Learning"
   ]
  },
  {
   "cell_type": "markdown",
   "id": "derived-twelve",
   "metadata": {},
   "source": [
    "## Key concepts"
   ]
  },
  {
   "cell_type": "markdown",
   "id": "finite-blend",
   "metadata": {},
   "source": [
    "### 1. Big Data\n",
    "* 정해진 시간 내에 한 대의 머신(일반 PC)으로 처리가 어려운 크기의 데이터\n",
    "* 고성능 머신 또는 다수의 머신을 사용해 목표대로 데이터를 처리할 수 있음\n",
    "* 예: 실시간 대용량 SQL 처리"
   ]
  },
  {
   "cell_type": "markdown",
   "id": "adaptive-arizona",
   "metadata": {},
   "source": [
    "### 2. Machine Learning - CS에서 주로 언급\n",
    "\n",
    "* 데이터로부터 **패턴을 학습하는 기법**\n",
    "  * 알고리즘을 사용하여 모델 추출.\n",
    "* 데이터의 크기는 중요함. 하지만 작다고 불가능한 것은 아님\n",
    "* 예: 컴퓨터에서 손 글씨 이해시키기"
   ]
  },
  {
   "cell_type": "markdown",
   "id": "unlimited-bidder",
   "metadata": {},
   "source": [
    "### 3. Data Mining - Stats. or IE(industrial engineering)\n",
    "\n",
    "* 사실상 머신러닝과 같은 의미\n",
    "  * 데이터에서 의미 있는 규칙 찾기(mining)\n",
    "* 비즈니스 분야에 주로 적용\n",
    "* 머신러닝 - 알고리즘\n",
    "  데이터마이닝 - 어플리케이션\n",
    "* 예: 스팸 필터, 상품 추천\n",
    "* 데이터 추출 - 목적에 맞게 전처리 - 목적에 맞게 전환 - 패턴 찾기\n",
    "  * 전처리(preprocessing): 데이터 분석을 위해 사전에 데이터를 정제하는 작업"
   ]
  },
  {
   "cell_type": "markdown",
   "id": "nuclear-gather",
   "metadata": {},
   "source": [
    "### 4. Summary of Big Data vs. Machine Learning\n",
    "\n",
    "#### 4.1. 간단히 보기\n",
    "\n",
    "* 데이터 처리 - Big Data - Data Engineering\n",
    "* 데이터 분석 - Machine Learning - Data Analysis\n",
    "\n",
    "####  4.2.조금 더 들어가기\n",
    "\n",
    "|            Big Data            |        활용         |              Data Mining               |\n",
    "| :----------------------------: | :-----------------: | :------------------------------------: |\n",
    "|   분산처리<br />데이터베이스   |    **기술 개념**    |            Machine Learning            |\n",
    "| Hadoop, NoSQL, Spark, BigTable | **알고리즘 구현체** | Naïve Bayes, SVM, Logistics Regression |\n"
   ]
  },
  {
   "cell_type": "markdown",
   "id": "complicated-voltage",
   "metadata": {},
   "source": [
    "### 5. Deep Learning\n",
    "\n",
    "* Neural Net 기반 머신러닝 알고리즘\n",
    "  * 최근 높은 성능에 대세로 떠오름\n",
    "  * 사진(Image) 내 객체 인식, 번역(NLP) 등에서 탁월한 성능\n",
    "  * 머신러닝과 구분하여 새로운 분야로 주장하는 경우도 있음"
   ]
  },
  {
   "cell_type": "markdown",
   "id": "complete-district",
   "metadata": {},
   "source": [
    "## 모델과 알고리즘"
   ]
  },
  {
   "cell_type": "markdown",
   "id": "figured-market",
   "metadata": {},
   "source": [
    "* Model:  예측을 위한 공식, 함수\n",
    "  * 1차 방정식(`y = ax + b`), 확률분포, condition rule 등 이용\n",
    "* Algorithms: 어떤 문제를 풀기 위한 과정. Model을 생성하기 위한 (훈련) 과정"
   ]
  },
  {
   "cell_type": "markdown",
   "id": "foster-perry",
   "metadata": {},
   "source": [
    "## 머신러닝의 종류"
   ]
  },
  {
   "cell_type": "markdown",
   "id": "legitimate-fifth",
   "metadata": {},
   "source": [
    "### 3 Types of Machine Learning\n",
    "* Regression(회귀): 추세선 긋기 - 키를 통해 몸무게 예측하기\n",
    "  * 데이터(X, Y)를 통해 X'의 숫자 Y' 예측(continuous Y)\n",
    "  * 주가, 경제 성장률, 영화 관람객 예측\n",
    "* Classification(분류): 기존 데이터를 바탕으로 데이터 유형 나누기 - 키와 몸무게를 이용하여 남/녀 구분\n",
    "  * 데이터(X, Y)를 통해 X'의 Y'를 분류(discrete Y)\n",
    "  * 스팸메일 여부, 게임 어뷰저 여부, 신문기사 분류\n",
    "* Clustering(군집): 아무런 사전 정보 없이 데이터 유형을 나누어 모으기 - 농구팀을 만든다면 몇 팀으로 만들까? 어떻게 사람을 묶으면 될까?\n",
    "  * 데이터(X)를 통해 X를 n개로 나눔\n",
    "  * 고객 집단 나누기"
   ]
  },
  {
   "cell_type": "markdown",
   "id": "adjusted-stamp",
   "metadata": {},
   "source": [
    "### Supervised vs. Unsupervised\n",
    "\n",
    "* Supervised Learning(지도 학습): Y 데이터(정답)가 있는 것\n",
    "  * Regression - 연속적인 실수값, Classification - 범주형 데이터\n",
    "* Unsupervised Learning(비지도 학습): Y 데이터(정답)가 없는 것\n",
    "  * Clustering"
   ]
  }
 ],
 "metadata": {
  "kernelspec": {
   "display_name": "Python 3",
   "language": "python",
   "name": "python3"
  },
  "language_info": {
   "codemirror_mode": {
    "name": "ipython",
    "version": 3
   },
   "file_extension": ".py",
   "mimetype": "text/x-python",
   "name": "python",
   "nbconvert_exporter": "python",
   "pygments_lexer": "ipython3",
   "version": "3.8.5"
  }
 },
 "nbformat": 4,
 "nbformat_minor": 5
}
