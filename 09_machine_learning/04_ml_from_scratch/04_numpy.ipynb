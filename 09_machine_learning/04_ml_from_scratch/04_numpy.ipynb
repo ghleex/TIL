{
 "cells": [
  {
   "cell_type": "markdown",
   "id": "solar-luxury",
   "metadata": {},
   "source": [
    "# Numpy"
   ]
  },
  {
   "cell_type": "markdown",
   "id": "earned-average",
   "metadata": {},
   "source": [
    "## `ndarray`: numpy dimensional array"
   ]
  },
  {
   "cell_type": "markdown",
   "id": "seven-faith",
   "metadata": {},
   "source": [
    "* numpy는 `np.array` 함수를 이용하여 배열 생성 → `ndarray`\n",
    "* numpy는 하나의 데이터 타입만 배열에 넣을 수 있음\n",
    "  * 리스트와 가장 큰 차이점: Dynamic typing not supported\n",
    "* C의 Array를 사용하여 배열 생성"
   ]
  },
  {
   "cell_type": "code",
   "execution_count": 1,
   "id": "offensive-gasoline",
   "metadata": {},
   "outputs": [
    {
     "name": "stdout",
     "output_type": "stream",
     "text": [
      "[1. 4. 5. 8.]\n"
     ]
    },
    {
     "data": {
      "text/plain": [
       "numpy.float64"
      ]
     },
     "execution_count": 1,
     "metadata": {},
     "output_type": "execute_result"
    }
   ],
   "source": [
    "import numpy as np\n",
    "\n",
    "test_array = np.array([1, 4, 5, 8], float)\n",
    "print(test_array)\n",
    "type(test_array[3])"
   ]
  },
  {
   "cell_type": "code",
   "execution_count": 2,
   "id": "fifth-microphone",
   "metadata": {},
   "outputs": [
    {
     "data": {
      "text/plain": [
       "(4,)"
      ]
     },
     "execution_count": 2,
     "metadata": {},
     "output_type": "execute_result"
    }
   ],
   "source": [
    "# shape: numpy array object의 dimension 구성을 반환\n",
    "test_array.shape"
   ]
  },
  {
   "cell_type": "code",
   "execution_count": 3,
   "id": "lucky-marking",
   "metadata": {},
   "outputs": [
    {
     "data": {
      "text/plain": [
       "dtype('float64')"
      ]
     },
     "execution_count": 3,
     "metadata": {},
     "output_type": "execute_result"
    }
   ],
   "source": [
    "# dtype: numpy array의 데이터 타입을 반환\n",
    "test_array.dtype"
   ]
  },
  {
   "cell_type": "markdown",
   "id": "forbidden-coordinator",
   "metadata": {},
   "source": [
    "### Array shape (vector)\n",
    "* Array (vector, matrix, tensor)의 크기, 형태 등에 대한 정보"
   ]
  },
  {
   "cell_type": "code",
   "execution_count": 4,
   "id": "dominican-porcelain",
   "metadata": {},
   "outputs": [
    {
     "data": {
      "text/plain": [
       "array([1., 4., 5., 8.])"
      ]
     },
     "execution_count": 4,
     "metadata": {},
     "output_type": "execute_result"
    }
   ],
   "source": [
    "test_array = np.array([1, 4, 5, '8'], float)\n",
    "# string type의 데이터를 입력하여도 float으로 자동 형변환됨\n",
    "test_array\n",
    "# ndarray의 구성: array([1., 4., 5., 8.])\n",
    "# ndarray의 shape(type: tuple): (4,) → 1차원에 4개의 element가 있는 벡터"
   ]
  },
  {
   "cell_type": "markdown",
   "id": "stupid-stevens",
   "metadata": {},
   "source": [
    "### Array shape (matrix)"
   ]
  },
  {
   "cell_type": "code",
   "execution_count": 5,
   "id": "regional-hammer",
   "metadata": {},
   "outputs": [
    {
     "data": {
      "text/plain": [
       "(3, 4)"
      ]
     },
     "execution_count": 5,
     "metadata": {},
     "output_type": "execute_result"
    }
   ],
   "source": [
    "matrix = [[1, 2, 5, 8], [1, 2, 5, 8], [1, 2, 5, 8]]\n",
    "np.array(matrix, int).shape"
   ]
  },
  {
   "cell_type": "markdown",
   "id": "happy-reproduction",
   "metadata": {},
   "source": [
    "### Array shape (3rd order tensor)"
   ]
  },
  {
   "cell_type": "code",
   "execution_count": 6,
   "id": "early-casino",
   "metadata": {},
   "outputs": [
    {
     "data": {
      "text/plain": [
       "(4, 3, 4)"
      ]
     },
     "execution_count": 6,
     "metadata": {},
     "output_type": "execute_result"
    }
   ],
   "source": [
    "# 3차원 데이터\n",
    "tensor = [\n",
    "    [[1, 2, 5, 8], [1, 2, 5, 8], [1, 2, 5, 8]],\n",
    "    [[1, 2, 5, 8], [1, 2, 5, 8], [1, 2, 5, 8]],\n",
    "    [[1, 2, 5, 8], [1, 2, 5, 8], [1, 2, 5, 8]],\n",
    "    [[1, 2, 5, 8], [1, 2, 5, 8], [1, 2, 5, 8]]\n",
    "]\n",
    "np.array(tensor, int).shape\n",
    "# (4, 3, 4) (대각선 층 개수, row, column)"
   ]
  },
  {
   "cell_type": "markdown",
   "id": "technological-festival",
   "metadata": {},
   "source": [
    "### Array shape - `ndim` & `size`"
   ]
  },
  {
   "cell_type": "markdown",
   "id": "actual-hammer",
   "metadata": {},
   "source": [
    "* `ndim`: number of dimension\n",
    "* `size`: 데이터 개수"
   ]
  },
  {
   "cell_type": "code",
   "execution_count": 7,
   "id": "precious-colors",
   "metadata": {},
   "outputs": [
    {
     "name": "stdout",
     "output_type": "stream",
     "text": [
      "3\n",
      "48\n"
     ]
    }
   ],
   "source": [
    "tensor = [\n",
    "    [[1, 2, 5, 8], [1, 2, 5, 8], [1, 2, 5, 8]],\n",
    "    [[1, 2, 5, 8], [1, 2, 5, 8], [1, 2, 5, 8]],\n",
    "    [[1, 2, 5, 8], [1, 2, 5, 8], [1, 2, 5, 8]],\n",
    "    [[1, 2, 5, 8], [1, 2, 5, 8], [1, 2, 5, 8]]\n",
    "]\n",
    "\n",
    "print(np.array(tensor, int).ndim)\n",
    "print(np.array(tensor, int).size)"
   ]
  },
  {
   "cell_type": "markdown",
   "id": "confirmed-dollar",
   "metadata": {},
   "source": [
    "### Array `dtype`"
   ]
  },
  {
   "cell_type": "markdown",
   "id": "acknowledged-repair",
   "metadata": {},
   "source": [
    "* `ndarray`의 single element가 가지는 데이터 타입\n",
    "* 각 element가 차지하는 메모리 크기 결정"
   ]
  },
  {
   "cell_type": "code",
   "execution_count": 8,
   "id": "settled-isolation",
   "metadata": {},
   "outputs": [
    {
     "data": {
      "text/plain": [
       "array([[1, 2, 3],\n",
       "       [4, 5, 6]])"
      ]
     },
     "execution_count": 8,
     "metadata": {},
     "output_type": "execute_result"
    }
   ],
   "source": [
    "# 데이터 타입을 integer로 선언\n",
    "np.array([[1, 2, 3], [4.5, 5, 6]], dtype=int)"
   ]
  },
  {
   "cell_type": "code",
   "execution_count": 9,
   "id": "introductory-client",
   "metadata": {},
   "outputs": [
    {
     "data": {
      "text/plain": [
       "array([[1. , 2. , 3. ],\n",
       "       [4.5, 5. , 6. ]], dtype=float32)"
      ]
     },
     "execution_count": 9,
     "metadata": {},
     "output_type": "execute_result"
    }
   ],
   "source": [
    "# 데이터 타입을 float로 선언\n",
    "np.array([[1, 2, 3], [4.5, '5', '6']], dtype=np.float32)"
   ]
  },
  {
   "cell_type": "markdown",
   "id": "initial-soundtrack",
   "metadata": {},
   "source": [
    "* 넘파이의 데이터 타입은 C의 데이터 타입과 호환됨"
   ]
  },
  {
   "cell_type": "markdown",
   "id": "tropical-writing",
   "metadata": {},
   "source": [
    "* `nbytes`: ndarray object의 메모리 크기를 반환함"
   ]
  },
  {
   "cell_type": "code",
   "execution_count": 10,
   "id": "religious-royal",
   "metadata": {},
   "outputs": [
    {
     "data": {
      "text/plain": [
       "24"
      ]
     },
     "execution_count": 10,
     "metadata": {},
     "output_type": "execute_result"
    }
   ],
   "source": [
    "np.array([[1, 2, 3], [4.5, '5', '6']], dtype=np.float32).nbytes\n",
    "# (32bits = 4bytes) 4bytes * 6"
   ]
  },
  {
   "cell_type": "code",
   "execution_count": 11,
   "id": "cardiovascular-passage",
   "metadata": {},
   "outputs": [
    {
     "data": {
      "text/plain": [
       "6"
      ]
     },
     "execution_count": 11,
     "metadata": {},
     "output_type": "execute_result"
    }
   ],
   "source": [
    "np.array([[1, 2, 3], [4.5, '5', '6']], dtype=np.int8).nbytes\n",
    "# (8bits = 1byte) 1byte * 6"
   ]
  },
  {
   "cell_type": "code",
   "execution_count": 12,
   "id": "plastic-teacher",
   "metadata": {},
   "outputs": [
    {
     "data": {
      "text/plain": [
       "48"
      ]
     },
     "execution_count": 12,
     "metadata": {},
     "output_type": "execute_result"
    }
   ],
   "source": [
    "np.array([[1, 2, 3], [4.5, '5', '6']], dtype=np.float64).nbytes\n",
    "# (64bits = 8bytes) 8bytes * 6"
   ]
  }
 ],
 "metadata": {
  "kernelspec": {
   "display_name": "Python 3",
   "language": "python",
   "name": "python3"
  },
  "language_info": {
   "codemirror_mode": {
    "name": "ipython",
    "version": 3
   },
   "file_extension": ".py",
   "mimetype": "text/x-python",
   "name": "python",
   "nbconvert_exporter": "python",
   "pygments_lexer": "ipython3",
   "version": "3.8.5"
  }
 },
 "nbformat": 4,
 "nbformat_minor": 5
}
