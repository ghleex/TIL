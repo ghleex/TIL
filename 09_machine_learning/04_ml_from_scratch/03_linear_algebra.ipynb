{
 "cells": [
  {
   "cell_type": "markdown",
   "id": "novel-positive",
   "metadata": {},
   "source": [
    "# Linear Algebra(선형 대수)"
   ]
  },
  {
   "cell_type": "markdown",
   "id": "natural-parameter",
   "metadata": {},
   "source": [
    "## 선형(線型)\n",
    "* 직선 또는 그와 비슷한 성질을 가진 대상\n",
    "* 일반적으로 1차 함수(`f(x) = ax + b`) 형태: 선형성"
   ]
  },
  {
   "cell_type": "markdown",
   "id": "intelligent-islam",
   "metadata": {},
   "source": [
    "## 대수학(代數學)\n",
    "* 문자에 숫자를 대입하여 푸는 문제\n",
    "* 1개 이상의 변수를 가진 다항(항이 여러 개; `ax + by + cz`)방정식을 푸는 문제"
   ]
  },
  {
   "cell_type": "markdown",
   "id": "racial-advertiser",
   "metadata": {},
   "source": [
    "## Vector\n",
    "* 어원: \"배달하다\", \"운반하다\"의 의미를 가진 라틴어 'vehere'\n",
    "* 크기와 방향을 모두 가지는 것\n",
    "* 크기만 가지는 경우는 \"스칼라(scalar)\"로 지칭\n",
    "\n",
    "* 일반적인 연산에서 2개 이상의 변수를 처리함\n",
    "* 변수 하나하나가 vector의 element로 표시됨\n",
    "* 예: R<sup>4</sup> ∋ \\[1, 2, -1.0, 3.14\\]\n",
    "  * R상의 4-Vector 또는 4-dimentional vector\n",
    "  * R<sup>4</sup>: 4개의 실수를 원소로 가지는 벡터 집합"
   ]
  },
  {
   "cell_type": "markdown",
   "id": "respiratory-infection",
   "metadata": {},
   "source": [
    "### Vector의 표현\n",
    "* 3-dimensional column vector:\n",
    "                              \\[9,\n",
    "                                2,\n",
    "                                3\\]\n",
    "* 3-dimensional row vector: \\[9, 2, 3\\]\n",
    "* 3-dimensional zero vector: \\[0, 0, 0\\]"
   ]
  },
  {
   "cell_type": "markdown",
   "id": "introductory-knight",
   "metadata": {},
   "source": [
    "### Vector의 계산\n",
    "* n-vector의 덧셈\n",
    "  * Element 위치가 서로 대응하는 원소들 간의 덧셈으로 정의\n",
    "  * 예: \\[2, 2\\] + \\[2, 3\\] + \\[3, 5\\] = \\[7, 10\\]"
   ]
  },
  {
   "cell_type": "markdown",
   "id": "random-playing",
   "metadata": {},
   "source": [
    "### Associativity / Commutativity\n",
    "* 임의의 벡터 u, v, w은 아래와 같이 결합법칙과 교환법칙이 성립함\n",
    "  * 결합법칙: (u + v) + w = u + (v + w)\n",
    "    * (\\[2, 2\\] + \\[2, 3\\]) + \\[3, 5\\] = \\[2, 2\\] + (\\[2, 3\\] + \\[3, 5\\]) = \\[7, 10\\]\n",
    "  * 교환법칙: u + v = v + u\n",
    "    * \\[2, 2\\] + \\[2, 3\\] = \\[2, 3\\] + \\[2, 2\\]"
   ]
  },
  {
   "cell_type": "markdown",
   "id": "sporting-guard",
   "metadata": {},
   "source": [
    "### Scalar-Vector product\n",
    "\n",
    "* Proposition: α(u + v) = αu + αv\n",
    "  * 2(\\[1, 2, 3\\] + \\[4, 4, 4\\]) = 2\\[4, 6, 7\\] = \\[8, 12, 14\\]"
   ]
  },
  {
   "cell_type": "markdown",
   "id": "republican-citizenship",
   "metadata": {},
   "source": [
    "## Matrix\n",
    "* 격자 또는 행렬\n",
    "* 수학에서는 사각형으로 된 수의 배열을 지칭\n",
    "* 한 개 이상의 벡터(vector) = Matrix"
   ]
  },
  {
   "cell_type": "markdown",
   "id": "wrong-botswana",
   "metadata": {},
   "source": [
    "### Matrix Representation\n",
    "* Matrix는 m개의 행(row), n개의 열(column)로 구성\n",
    "* m x n 행렬이라고 함(\"m by n\" 으로 읽음)"
   ]
  },
  {
   "cell_type": "markdown",
   "id": "exceptional-tobago",
   "metadata": {},
   "source": [
    "### Matrix Equal(등치)\n",
    "* 두 개의 행렬 A, B가\n",
    "  * A와 B의 같은 크기이면서\n",
    "  * 모든 i, j에 대하여 같은 값을 가지면, 즉 a<sub>ij</sub> = b<sub>ij</sub> 이면 등치라고 함"
   ]
  },
  {
   "cell_type": "markdown",
   "id": "simplified-kuwait",
   "metadata": {},
   "source": [
    "### Matrix Addition(행렬 덧셈)\n",
    "* 두 개의 행렬 A, B가 서로 같은 크기이고\n",
    "  * C = A + B 는 a<sub>ij</sub> + b<sub>ij</sub> 로 구성됨"
   ]
  },
  {
   "cell_type": "markdown",
   "id": "roman-function",
   "metadata": {},
   "source": [
    "### Scalar-Matrix Product (\\[스칼라곱 또는 점(dot)곱\\])\n",
    "* 주어진 행렬 A에 Scalar c를 곱하면 모든 ij에 대해 c * a<sub>ij</sub> 로 구성된 행렬이 만들어짐"
   ]
  },
  {
   "cell_type": "markdown",
   "id": "narrative-breeding",
   "metadata": {},
   "source": [
    "### Matrix Transpose(전치 행렬)\n",
    "* 주어진 m * n 의 행과 열을 바꾸어 만든 행렬\n",
    "* 행렬 A의 전치 행렬은 A<sup>T</sup>로 표시"
   ]
  },
  {
   "cell_type": "markdown",
   "id": "athletic-burning",
   "metadata": {},
   "source": [
    "## Matrix Product(행렬 곱셈)\n",
    "* 앞 행렬의 열과 뒤 행렬의 행을 dot product\n",
    "* 앞 행렬 열의 수와 뒤 행렬의 행 수가 동일해야 계산 가능"
   ]
  },
  {
   "cell_type": "markdown",
   "id": "tutorial-papua",
   "metadata": {},
   "source": [
    "## 파이썬으로 벡터 표현하기"
   ]
  },
  {
   "cell_type": "code",
   "execution_count": 1,
   "id": "external-montgomery",
   "metadata": {},
   "outputs": [
    {
     "data": {
      "text/plain": [
       "[7, 10]"
      ]
     },
     "execution_count": 1,
     "metadata": {},
     "output_type": "execute_result"
    }
   ],
   "source": [
    "u = [2, 2]\n",
    "v = [2, 3]\n",
    "z = [3, 5]\n",
    "\n",
    "res = [sum(t) for t in zip(u, v, z)]\n",
    "res"
   ]
  },
  {
   "cell_type": "code",
   "execution_count": 2,
   "id": "cubic-amazon",
   "metadata": {},
   "outputs": [
    {
     "data": {
      "text/plain": [
       "[10, 12, 14]"
      ]
     },
     "execution_count": 2,
     "metadata": {},
     "output_type": "execute_result"
    }
   ],
   "source": [
    "u = [1, 2, 3]\n",
    "v = [4, 4, 4]\n",
    "alpha = 2\n",
    "\n",
    "res = [alpha * sum(t) for t in zip(u, v)]\n",
    "res"
   ]
  },
  {
   "cell_type": "code",
   "execution_count": 3,
   "id": "sensitive-hostel",
   "metadata": {},
   "outputs": [
    {
     "data": {
      "text/plain": [
       "[[8, 14], [10, 12]]"
      ]
     },
     "execution_count": 3,
     "metadata": {},
     "output_type": "execute_result"
    }
   ],
   "source": [
    "# Matrix addition\n",
    "\n",
    "matrix_a = [[3, 6], [4, 5]]\n",
    "matrix_b = [[5, 8], [6, 7]]\n",
    "\n",
    "res = [[sum(row) for row in zip(*t)] for t in zip(matrix_a, matrix_b)]\n",
    "res"
   ]
  },
  {
   "cell_type": "code",
   "execution_count": 4,
   "id": "elementary-stationery",
   "metadata": {},
   "outputs": [
    {
     "data": {
      "text/plain": [
       "[[12, 24], [16, 20]]"
      ]
     },
     "execution_count": 4,
     "metadata": {},
     "output_type": "execute_result"
    }
   ],
   "source": [
    "# Scalar-Matrix Product\n",
    "matrix_a = [[3, 6], [4, 5]]\n",
    "alpha = 4\n",
    "\n",
    "res = [[alpha * element for element in t] for t in matrix_a]\n",
    "res"
   ]
  },
  {
   "cell_type": "code",
   "execution_count": 5,
   "id": "level-commander",
   "metadata": {},
   "outputs": [
    {
     "data": {
      "text/plain": [
       "[[1, 4], [2, 5], [3, 6]]"
      ]
     },
     "execution_count": 5,
     "metadata": {},
     "output_type": "execute_result"
    }
   ],
   "source": [
    "# Matrix Transpose\n",
    "matrix_a = [[1, 2, 3], [4, 5, 6]]\n",
    "\n",
    "res = [[element for element in t] for t in zip(*matrix_a)]\n",
    "res"
   ]
  },
  {
   "cell_type": "code",
   "execution_count": 6,
   "id": "confident-michigan",
   "metadata": {},
   "outputs": [
    {
     "data": {
      "text/plain": [
       "[[5, 8], [5, 6]]"
      ]
     },
     "execution_count": 6,
     "metadata": {},
     "output_type": "execute_result"
    }
   ],
   "source": [
    "# Matrix Product\n",
    "matrix_a = [[1, 1, 2], [2, 1, 1]]\n",
    "matrix_b = [[1, 1], [2, 1], [1, 3]]\n",
    "\n",
    "res = [\n",
    "    [sum(a * b for a, b in zip(row_a, column_b))\n",
    "     for column_b in zip(*matrix_b)]\n",
    "    for row_a in matrix_a\n",
    "]\n",
    "res"
   ]
  },
  {
   "cell_type": "code",
   "execution_count": 7,
   "id": "greatest-buffer",
   "metadata": {},
   "outputs": [
    {
     "data": {
      "text/plain": [
       "[(1, 2, 3), (2, 3, 4)]"
      ]
     },
     "execution_count": 7,
     "metadata": {},
     "output_type": "execute_result"
    }
   ],
   "source": [
    "# 2개 이상의 argument가 존재하는 경우\n",
    "def vector_addition(*args):\n",
    "    return [t for t in zip(*args)]\n",
    "\n",
    "\n",
    "vector_addition([1, 2], [2, 3], [3, 4])"
   ]
  }
 ],
 "metadata": {
  "kernelspec": {
   "display_name": "Python 3",
   "language": "python",
   "name": "python3"
  },
  "language_info": {
   "codemirror_mode": {
    "name": "ipython",
    "version": 3
   },
   "file_extension": ".py",
   "mimetype": "text/x-python",
   "name": "python",
   "nbconvert_exporter": "python",
   "pygments_lexer": "ipython3",
   "version": "3.8.5"
  }
 },
 "nbformat": 4,
 "nbformat_minor": 5
}
