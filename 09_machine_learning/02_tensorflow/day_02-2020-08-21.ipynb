{
 "cells": [
  {
   "cell_type": "markdown",
   "metadata": {},
   "source": [
    "# 1. Pandas"
   ]
  },
  {
   "cell_type": "markdown",
   "metadata": {},
   "source": [
    "## 1.1. What is \"Pandas\"?"
   ]
  },
  {
   "cell_type": "markdown",
   "metadata": {},
   "source": [
    "* 지도학습 과정에서 첫 번째 해야 할 일은 과거의 데이터를 준비하는 것\n",
    "* 데이터는 대부분 파일의 형태로 되어 있음\n",
    "* 파일 내 데이터 사용을 위해서는 프로그램으로 읽어들이는 과정이 필요함"
   ]
  },
  {
   "cell_type": "markdown",
   "metadata": {},
   "source": [
    "* 변수(variable)\n",
    "\n",
    "```python\n",
    "파일경로 = 'lemonade.csv'\n",
    "데이터 = pd.read_csv(파일경로)\n",
    "\n",
    "파일경로 = 'boston.csv'\n",
    "데이터 = pd.read_csv(파일경로)\n",
    "\n",
    "파일경로 = 'iris.csv'\n",
    "데이터 = pd.read_csv(파일경로)\n",
    "\n",
    "# 여기서 파일경로와 데이터는 모두 \"변수\"\n",
    "# 변수는 데이터를 담고 있다는 의미\n",
    "```"
   ]
  },
  {
   "cell_type": "markdown",
   "metadata": {},
   "source": [
    "* 표에서는 컬럼을 변수라고 함\n",
    "  * 표에서 변수는 관측치에 따라 값이 변한다는 의미를 가짐\n",
    "| 날짜 | 요일 | 온도 | 판매량 |\n",
    "| --- | --- | --- | ---- |\n",
    "| 2020. 1. 3. | 금 | 20 | 40 |\n",
    "| 2020. 1. 4. | 토 | 21 | 42 |\n",
    "| 2020. 1. 5. | 일 | 22 | 44 |\n",
    "\n",
    "* 프로그래밍, 데이터에서 모두 \"변수\"라는 용어를 사용하고 있으나, 미묘한 차이가 있음\n",
    "  * 맥락을 통해 정확한 의미를 파악해야 함"
   ]
  },
  {
   "cell_type": "markdown",
   "metadata": {},
   "source": [
    "* 프로그램을 이용하여 지도학습을 할 때에도 독립변수, 종속변수를 분리하는 과정이 필요함\n",
    "* 이는 pandas 라이브러리를 이용하여 손쉽게 처리할 수 있음\n",
    "\n",
    "```python\n",
    "import pandas as pd\n",
    "\n",
    "# 데이터 불러오기\n",
    "파일경로 = 'lemonade.csv'\n",
    "데이터 = pd.read_csv(파일경로)\n",
    "\n",
    "# 독립변수, 종속변수 분리\n",
    "독립 = 데이터[['온도']]\n",
    "종속 = 데이터[['판매량']]\n",
    "\n",
    "# 데이터 모양 확인\n",
    "print(독립.shape, 종속.shape)\n",
    "```"
   ]
  },
  {
   "cell_type": "markdown",
   "metadata": {},
   "source": [
    "# 1.2. Pandas 실습"
   ]
  },
  {
   "cell_type": "code",
   "execution_count": 1,
   "metadata": {},
   "outputs": [],
   "source": [
    "# 라이브러리 불러오기\n",
    "import pandas as pd"
   ]
  },
  {
   "cell_type": "code",
   "execution_count": 2,
   "metadata": {},
   "outputs": [],
   "source": [
    "# 데이터 읽어오기\n",
    "경로 = 'https://raw.githubusercontent.com/blackdew/tensorflow1/master/csv/lemonade.csv'\n",
    "레모네이드 = pd.read_csv(경로)\n",
    "\n",
    "경로 = 'https://raw.githubusercontent.com/blackdew/tensorflow1/master/csv/boston.csv'\n",
    "보스턴 = pd.read_csv(경로)\n",
    "\n",
    "경로 = 'https://raw.githubusercontent.com/blackdew/tensorflow1/master/csv/iris.csv'\n",
    "아이리스 = pd.read_csv(경로)"
   ]
  },
  {
   "cell_type": "code",
   "execution_count": 3,
   "metadata": {},
   "outputs": [
    {
     "name": "stdout",
     "output_type": "stream",
     "text": [
      "(6, 2)\n",
      "(506, 14)\n",
      "(150, 5)\n"
     ]
    }
   ],
   "source": [
    "# 데이터 모양 확인\n",
    "print(레모네이드.shape)\n",
    "print(보스턴.shape)\n",
    "print(아이리스.shape)"
   ]
  },
  {
   "cell_type": "code",
   "execution_count": 4,
   "metadata": {},
   "outputs": [
    {
     "name": "stdout",
     "output_type": "stream",
     "text": [
      "Index(['온도', '판매량'], dtype='object')\n",
      "Index(['crim', 'zn', 'indus', 'chas', 'nox', 'rm', 'age', 'dis', 'rad', 'tax',\n",
      "       'ptratio', 'b', 'lstat', 'medv'],\n",
      "      dtype='object')\n",
      "Index(['꽃잎길이', '꽃잎폭', '꽃받침길이', '꽃받침폭', '품종'], dtype='object')\n"
     ]
    }
   ],
   "source": [
    "# 컬럼 이름 확인\n",
    "print(레모네이드.columns)\n",
    "print(보스턴.columns)\n",
    "print(아이리스.columns)"
   ]
  },
  {
   "cell_type": "code",
   "execution_count": 5,
   "metadata": {},
   "outputs": [
    {
     "name": "stdout",
     "output_type": "stream",
     "text": [
      "(6, 1) (6, 1)\n",
      "(506, 13) (506, 1)\n",
      "(150, 4) (150, 1)\n"
     ]
    }
   ],
   "source": [
    "# 독립변수, 종속변수 분리\n",
    "독립 = 레모네이드[['온도']]\n",
    "종속 = 레모네이드[['판매량']]\n",
    "print(독립.shape, 종속.shape)\n",
    "\n",
    "독립 = 보스턴[['crim', 'zn', 'indus', 'chas', 'nox', \n",
    "            'rm', 'age', 'dis', 'rad', 'tax',\n",
    "            'ptratio', 'b', 'lstat']]\n",
    "종속 = 보스턴[['medv']]\n",
    "print(독립.shape, 종속.shape)\n",
    "\n",
    "독립 = 아이리스[['꽃잎길이', '꽃잎폭', '꽃받침길이', '꽃받침폭']]\n",
    "종속 = 아이리스[['품종']]\n",
    "print(독립.shape, 종속.shape)"
   ]
  },
  {
   "cell_type": "code",
   "execution_count": 6,
   "metadata": {},
   "outputs": [
    {
     "name": "stdout",
     "output_type": "stream",
     "text": [
      "   온도  판매량\n",
      "0  20   40\n",
      "1  21   42\n",
      "2  22   44\n",
      "3  23   46\n",
      "4  24   48\n"
     ]
    }
   ],
   "source": [
    "# 데이터 확인하기\n",
    "print(레모네이드.head())"
   ]
  },
  {
   "cell_type": "code",
   "execution_count": 7,
   "metadata": {},
   "outputs": [
    {
     "name": "stdout",
     "output_type": "stream",
     "text": [
      "      crim    zn  indus  chas    nox     rm   age     dis  rad  tax  ptratio  \\\n",
      "0  0.00632  18.0   2.31     0  0.538  6.575  65.2  4.0900    1  296     15.3   \n",
      "1  0.02731   0.0   7.07     0  0.469  6.421  78.9  4.9671    2  242     17.8   \n",
      "2  0.02729   0.0   7.07     0  0.469  7.185  61.1  4.9671    2  242     17.8   \n",
      "3  0.03237   0.0   2.18     0  0.458  6.998  45.8  6.0622    3  222     18.7   \n",
      "4  0.06905   0.0   2.18     0  0.458  7.147  54.2  6.0622    3  222     18.7   \n",
      "\n",
      "        b  lstat  medv  \n",
      "0  396.90   4.98  24.0  \n",
      "1  396.90   9.14  21.6  \n",
      "2  392.83   4.03  34.7  \n",
      "3  394.63   2.94  33.4  \n",
      "4  396.90   5.33  36.2  \n"
     ]
    }
   ],
   "source": [
    "print(보스턴.head())"
   ]
  },
  {
   "cell_type": "code",
   "execution_count": 8,
   "metadata": {},
   "outputs": [
    {
     "name": "stdout",
     "output_type": "stream",
     "text": [
      "   꽃잎길이  꽃잎폭  꽃받침길이  꽃받침폭      품종\n",
      "0   5.1  3.5    1.4   0.2  setosa\n",
      "1   4.9  3.0    1.4   0.2  setosa\n",
      "2   4.7  3.2    1.3   0.2  setosa\n",
      "3   4.6  3.1    1.5   0.2  setosa\n",
      "4   5.0  3.6    1.4   0.2  setosa\n"
     ]
    }
   ],
   "source": [
    "print(아이리스.head())"
   ]
  },
  {
   "cell_type": "markdown",
   "metadata": {},
   "source": [
    "# 2. 첫 번째 딥러닝 - 레모네이드 판매 예측"
   ]
  },
  {
   "cell_type": "markdown",
   "metadata": {},
   "source": [
    "## 2.1. 손실의 의미"
   ]
  },
  {
   "cell_type": "markdown",
   "metadata": {},
   "source": [
    "* 들여다보기\n",
    "```python\n",
    "model.fit(독립, 종속, epochs=10)\n",
    "```"
   ]
  },
  {
   "cell_type": "markdown",
   "metadata": {},
   "source": [
    "<pre>\n",
    "Epoch 990/1000\n",
    "1/1 [==============================] - 0s 995us/step - loss: 0.0028\n",
    "Epoch 991/1000\n",
    "1/1 [==============================] - 0s 997us/step - loss: 0.0028\n",
    "Epoch 992/1000\n",
    "1/1 [==============================] - 0s 2ms/step - loss: 0.0028\n",
    "Epoch 993/1000\n",
    "1/1 [==============================] - 0s 996us/step - loss: 0.0028\n",
    "Epoch 994/1000\n",
    "1/1 [==============================] - 0s 996us/step - loss: 0.0028\n",
    "Epoch 995/1000\n",
    "1/1 [==============================] - 0s 1ms/step - loss: 0.0028\n",
    "Epoch 996/1000\n",
    "1/1 [==============================] - 0s 1ms/step - loss: 0.0028\n",
    "Epoch 997/1000\n",
    "1/1 [==============================] - 0s 998us/step - loss: 0.0028\n",
    "Epoch 998/1000\n",
    "1/1 [==============================] - 0s 2ms/step - loss: 0.0028\n",
    "Epoch 999/1000\n",
    "1/1 [==============================] - 0s 995us/step - loss: 0.0028\n",
    "Epoch 1000/1000\n",
    "1/1 [==============================] - 0s 998us/step - loss: 0.0028\n",
    "</pre>"
   ]
  },
  {
   "cell_type": "markdown",
   "metadata": {},
   "source": [
    "* 모델 성능 평가: 예측값을 종속변수와 비교\n",
    "* 위에서 loss: 0.028 등과 같이 쓰여 있는 부분을 잘 봐야 함\n",
    "* Error = 종속변수 - 예측값\n",
    "* 손실 = Error 의 제곱의 평균\n",
    "  * loss 값이 0에 가까울수록 예측값이 정확해짐\n",
    "  * 이때 모델의 실제 데이터에 대하여 예측하는 값과 정답의 차이가 평균적으로 1보다 작다고 볼 수 있음"
   ]
  },
  {
   "cell_type": "markdown",
   "metadata": {},
   "source": [
    "## 2.2. 실습해보기"
   ]
  },
  {
   "cell_type": "code",
   "execution_count": 9,
   "metadata": {},
   "outputs": [],
   "source": [
    "# 라이브러리 사용\n",
    "import tensorflow as tf\n",
    "import pandas as pd"
   ]
  },
  {
   "cell_type": "code",
   "execution_count": 10,
   "metadata": {},
   "outputs": [
    {
     "data": {
      "text/html": [
       "<div>\n",
       "<style scoped>\n",
       "    .dataframe tbody tr th:only-of-type {\n",
       "        vertical-align: middle;\n",
       "    }\n",
       "\n",
       "    .dataframe tbody tr th {\n",
       "        vertical-align: top;\n",
       "    }\n",
       "\n",
       "    .dataframe thead th {\n",
       "        text-align: right;\n",
       "    }\n",
       "</style>\n",
       "<table border=\"1\" class=\"dataframe\">\n",
       "  <thead>\n",
       "    <tr style=\"text-align: right;\">\n",
       "      <th></th>\n",
       "      <th>온도</th>\n",
       "      <th>판매량</th>\n",
       "    </tr>\n",
       "  </thead>\n",
       "  <tbody>\n",
       "    <tr>\n",
       "      <th>0</th>\n",
       "      <td>20</td>\n",
       "      <td>40</td>\n",
       "    </tr>\n",
       "    <tr>\n",
       "      <th>1</th>\n",
       "      <td>21</td>\n",
       "      <td>42</td>\n",
       "    </tr>\n",
       "    <tr>\n",
       "      <th>2</th>\n",
       "      <td>22</td>\n",
       "      <td>44</td>\n",
       "    </tr>\n",
       "    <tr>\n",
       "      <th>3</th>\n",
       "      <td>23</td>\n",
       "      <td>46</td>\n",
       "    </tr>\n",
       "    <tr>\n",
       "      <th>4</th>\n",
       "      <td>24</td>\n",
       "      <td>48</td>\n",
       "    </tr>\n",
       "  </tbody>\n",
       "</table>\n",
       "</div>"
      ],
      "text/plain": [
       "   온도  판매량\n",
       "0  20   40\n",
       "1  21   42\n",
       "2  22   44\n",
       "3  23   46\n",
       "4  24   48"
      ]
     },
     "execution_count": 10,
     "metadata": {},
     "output_type": "execute_result"
    }
   ],
   "source": [
    "# 데이터 준비\n",
    "경로 = 'https://raw.githubusercontent.com/blackdew/tensorflow1/master/csv/lemonade.csv'\n",
    "데이터 = pd.read_csv(경로)\n",
    "데이터.head()"
   ]
  },
  {
   "cell_type": "code",
   "execution_count": 11,
   "metadata": {},
   "outputs": [
    {
     "name": "stdout",
     "output_type": "stream",
     "text": [
      "(6, 1) (6, 1)\n"
     ]
    }
   ],
   "source": [
    "# 독립변수, 종속변수 분리\n",
    "독립 = 데이터[['온도']]\n",
    "종속 = 데이터[['판매량']]\n",
    "print(독립.shape, 종속.shape)"
   ]
  },
  {
   "cell_type": "code",
   "execution_count": 12,
   "metadata": {},
   "outputs": [],
   "source": [
    "# 모델 만들기\n",
    "X = tf.keras.layers.Input(shape=[1])\n",
    "Y = tf.keras.layers.Dense(1)(X)\n",
    "model = tf.keras.models.Model(X, Y)\n",
    "model.compile(loss='mse') # 모델 학습할 방법 정의"
   ]
  },
  {
   "cell_type": "code",
   "execution_count": 17,
   "metadata": {
    "scrolled": true
   },
   "outputs": [
    {
     "name": "stdout",
     "output_type": "stream",
     "text": [
      "Epoch 1/10\n",
      "1/1 [==============================] - 0s 2ms/step - loss: 8.1786e-04\n",
      "Epoch 2/10\n",
      "1/1 [==============================] - 0s 989us/step - loss: 8.1723e-04\n",
      "Epoch 3/10\n",
      "1/1 [==============================] - 0s 2ms/step - loss: 8.1655e-04\n",
      "Epoch 4/10\n",
      "1/1 [==============================] - 0s 997us/step - loss: 8.1595e-04\n",
      "Epoch 5/10\n",
      "1/1 [==============================] - 0s 2ms/step - loss: 8.1540e-04\n",
      "Epoch 6/10\n",
      "1/1 [==============================] - 0s 997us/step - loss: 8.1474e-04\n",
      "Epoch 7/10\n",
      "1/1 [==============================] - 0s 2ms/step - loss: 8.1426e-04\n",
      "Epoch 8/10\n",
      "1/1 [==============================] - 0s 3ms/step - loss: 8.1362e-04\n",
      "Epoch 9/10\n",
      "1/1 [==============================] - 0s 2ms/step - loss: 8.1306e-04\n",
      "Epoch 10/10\n",
      "1/1 [==============================] - 0s 996us/step - loss: 8.1241e-04\n"
     ]
    },
    {
     "data": {
      "text/plain": [
       "<tensorflow.python.keras.callbacks.History at 0x29c04baf130>"
      ]
     },
     "execution_count": 17,
     "metadata": {},
     "output_type": "execute_result"
    }
   ],
   "source": [
    "# 모델 학습시키기\n",
    "model.fit(독립, 종속, epochs=10)\n",
    "# model.fit 할 때 verbose=0 설정하면 학습과정이 출력되지 않는다."
   ]
  },
  {
   "cell_type": "markdown",
   "metadata": {},
   "source": [
    "* 위에 나타난 loss 값은 8.1241 * 10<sup>-4</sup>(0.0001) 를 나타냄\n",
    "  * 8.1241 * 10<sup>-4</sup> = 0.00081241"
   ]
  },
  {
   "cell_type": "code",
   "execution_count": 18,
   "metadata": {},
   "outputs": [
    {
     "data": {
      "text/plain": [
       "array([[40.02927 ],\n",
       "       [42.01362 ],\n",
       "       [43.997963],\n",
       "       [45.98231 ],\n",
       "       [47.96666 ],\n",
       "       [49.951004]], dtype=float32)"
      ]
     },
     "execution_count": 18,
     "metadata": {},
     "output_type": "execute_result"
    }
   ],
   "source": [
    "# 모델 사용하기\n",
    "model.predict(독립)"
   ]
  },
  {
   "cell_type": "code",
   "execution_count": 19,
   "metadata": {},
   "outputs": [
    {
     "data": {
      "text/plain": [
       "array([[30.107538]], dtype=float32)"
      ]
     },
     "execution_count": 19,
     "metadata": {},
     "output_type": "execute_result"
    }
   ],
   "source": [
    "# 정말 예측해보자\n",
    "model.predict([[15]])"
   ]
  }
 ],
 "metadata": {
  "kernelspec": {
   "display_name": "Python 3.8.5 64-bit",
   "language": "python",
   "name": "python38564bit41c0f892f0d2444caf8d56aed2f67eea"
  },
  "language_info": {
   "codemirror_mode": {
    "name": "ipython",
    "version": 3
   },
   "file_extension": ".py",
   "mimetype": "text/x-python",
   "name": "python",
   "nbconvert_exporter": "python",
   "pygments_lexer": "ipython3",
   "version": "3.8.5"
  }
 },
 "nbformat": 4,
 "nbformat_minor": 4
}
