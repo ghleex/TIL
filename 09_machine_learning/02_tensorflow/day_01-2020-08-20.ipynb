{
 "cells": [
  {
   "cell_type": "markdown",
   "metadata": {},
   "source": [
    "# 1. Introduction to Tensorflow"
   ]
  },
  {
   "cell_type": "markdown",
   "metadata": {},
   "source": [
    "* 머신러닝: 기계를 학습시켜 인간의 판단 능력을 기계에게 위임하는 기술"
   ]
  },
  {
   "cell_type": "markdown",
   "metadata": {},
   "source": [
    "* Tensorflow 를 이용하여 해결하려는 문제\n",
    "  * 지도학습(supervised learning)\n",
    "    * 회귀(regression): 숫자로 된 결과 예측\n",
    "    * 분류(classification): 범주형, 카테고리 형태 결과를 예측"
   ]
  },
  {
   "cell_type": "markdown",
   "metadata": {},
   "source": [
    "* 분류와 회귀 문제를 풀기 위하여 사용하는 방법은 매우 다양함\n",
    "  * 이 기법들을 머신러닝 알고리즘(machine learning algorithm)이라고 함\n",
    "* 유명한 머신러닝 알고리즘\n",
    "  * Decision Tree\n",
    "  * Random Forest\n",
    "  * KNN\n",
    "  * SVM\n",
    "  * Neural Network - 여기서 사용할 알고리즘"
   ]
  },
  {
   "cell_type": "markdown",
   "metadata": {},
   "source": [
    "* Neural Network: 사람의 두뇌가 동작하는 방법을 모방하여 기계가 학습할 수 있도록 고안된 알고리즘\n",
    "    * 우리의 두뇌에는 뉴런이라는 세포들이 촘촘하게 연결되어 있음\n",
    "    * 뉴런들로 연결되어 있는 신경망을 인공적으로 만들었다는 의미에서 \"인공신경망\"이라는 이름을 갖게 됨\n",
    "    * 현재는 딥러닝(deep learning)으로 더 유명\n",
    "      * 인공신경망을 깊게 쌓아 만들었다는 표현"
   ]
  },
  {
   "cell_type": "markdown",
   "metadata": {},
   "source": [
    "* 딥러닝 이론을 공부하여 컴퓨터를 동작시켜 여러 문제를 해결하는 것은 쉽지 않음. 심지어 몇 년 전까지도 대기업이 할 수 없는 일이 있었음\n",
    "* 딥러닝 원리를 알지 못해도 라이브러리를 통한 코드 작성을 통해 충분히 해결 가능\n",
    "  * Tensorflow - 여기서 다룰 것\n",
    "  * PyTorch\n",
    "  * Caffe2\n",
    "  * theano 등"
   ]
  },
  {
   "cell_type": "markdown",
   "metadata": {},
   "source": [
    "# 2. The aim of this course and strategy"
   ]
  },
  {
   "cell_type": "markdown",
   "metadata": {},
   "source": [
    "* 자연스럽고 재미있게 학습하기\n",
    "* 원인이 되는 간단한 코드를 작성, 경험 → 결과로서 코드 동작과 학습과정을 확인 → 해당 코드를 어떻게 이용하면 좋을지 추측\n",
    "* 코드와 알고리즘 동작에 익숙해지기\n",
    "* 지도학습과 같은 방법으로 할 것임"
   ]
  },
  {
   "cell_type": "markdown",
   "metadata": {},
   "source": [
    "# 3. 지도학습 다시 정리해보기"
   ]
  },
  {
   "cell_type": "markdown",
   "metadata": {},
   "source": [
    "* 과거의 데이터 속에서 원인과 결과 인식하기\n",
    "  * 독립변수 - 종속변수 관계 확인\n",
    "* 모델 구조 만들기\n",
    "* 데이터를 이용하여 학습 - Fitting(모델을 데이터에 알맞게)\n",
    "* 모델 사용"
   ]
  }
 ],
 "metadata": {
  "kernelspec": {
   "display_name": "Python 3.8.5 64-bit",
   "language": "python",
   "name": "python38564bit41c0f892f0d2444caf8d56aed2f67eea"
  },
  "language_info": {
   "codemirror_mode": {
    "name": "ipython",
    "version": 3
   },
   "file_extension": ".py",
   "mimetype": "text/x-python",
   "name": "python",
   "nbconvert_exporter": "python",
   "pygments_lexer": "ipython3",
   "version": "3.8.5"
  }
 },
 "nbformat": 4,
 "nbformat_minor": 4
}
