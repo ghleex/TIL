{
 "cells": [
  {
   "cell_type": "markdown",
   "metadata": {},
   "source": [
    "# 1. 네 번째 딥러닝 - 신경망의 완성: 히든레이어"
   ]
  },
  {
   "cell_type": "markdown",
   "metadata": {},
   "source": [
    "* 신경망을 깊게 만드는 과정은 생각보다 단순함\n",
    "  * 기존의 퍼셉트론을 여러 개 사용하여 연결하면 됨\n",
    "  * 입력(input layer)과 결과(output layer) 사이에 퍼셉트론을 추가하면 됨\n",
    "  * input layer 와 output layer 사이에 추가한 레이어를 hidden layer 라고 함"
   ]
  },
  {
   "cell_type": "markdown",
   "metadata": {},
   "source": [
    "* 딥러닝 인공신경망: 각각의 모델을 연속적으로 연결하여 하나의 거대한 신경망을 만드는 것"
   ]
  },
  {
   "cell_type": "markdown",
   "metadata": {},
   "source": [
    "* 샘플 코드\n",
    "  ```python\n",
    "    X = tf.keras.layers.Input(shape=[13])\n",
    "    H = tf.keras.layers.Dense(5, activation='swish')(X)\n",
    "    H = tf.keras.layers.Dense(3, activation='swish')(H)\n",
    "    H = tf.keras.layers.Dense(3, activation='swish')(H)\n",
    "    Y = tf.keras.layers.Dense(1)(H)\n",
    "    model = tf.keras.models.Model(X, Y)\n",
    "    model.compile(loss='mse')\n",
    "  ```\n",
    "  * 층은 자유롭게 쌓아 구현할 수 있음"
   ]
  },
  {
   "cell_type": "markdown",
   "metadata": {},
   "source": [
    "# 2. 히든레이어 실습"
   ]
  },
  {
   "cell_type": "markdown",
   "metadata": {},
   "source": [
    "## 2.1. 보스턴 집값 예측에 적용"
   ]
  },
  {
   "cell_type": "code",
   "execution_count": 1,
   "metadata": {},
   "outputs": [],
   "source": [
    "# 라이브러리\n",
    "import tensorflow as tf\n",
    "import pandas as pd"
   ]
  },
  {
   "cell_type": "code",
   "execution_count": 2,
   "metadata": {},
   "outputs": [],
   "source": [
    "# 1. 데이터\n",
    "경로 = 'https://raw.githubusercontent.com/blackdew/tensorflow1/master/csv/boston.csv'\n",
    "보스턴 = pd.read_csv(경로)"
   ]
  },
  {
   "cell_type": "code",
   "execution_count": 3,
   "metadata": {},
   "outputs": [
    {
     "name": "stdout",
     "output_type": "stream",
     "text": [
      "(506, 13) (506, 1)\n"
     ]
    }
   ],
   "source": [
    "# 독립변수, 종속변수\n",
    "독립 = 보스턴[[\n",
    "    'crim', 'zn', 'indus', 'chas', 'nox', \n",
    "    'rm', 'age', 'dis', 'rad', 'tax',\n",
    "    'ptratio', 'b', 'lstat'\n",
    "]]\n",
    "종속 = 보스턴[['medv']]\n",
    "print(독립.shape, 종속.shape)"
   ]
  },
  {
   "cell_type": "code",
   "execution_count": 4,
   "metadata": {},
   "outputs": [],
   "source": [
    "# 2. 모델 구조 만들기\n",
    "X = tf.keras.layers.Input(shape=[13])\n",
    "H = tf.keras.layers.Dense(10, activation='swish')(X)\n",
    "Y = tf.keras.layers.Dense(1)(H)\n",
    "model = tf.keras.models.Model(X, Y)\n",
    "model.compile(loss='mse')"
   ]
  },
  {
   "cell_type": "code",
   "execution_count": 5,
   "metadata": {
    "scrolled": true
   },
   "outputs": [
    {
     "name": "stdout",
     "output_type": "stream",
     "text": [
      "Model: \"functional_1\"\n",
      "_________________________________________________________________\n",
      "Layer (type)                 Output Shape              Param #   \n",
      "=================================================================\n",
      "input_1 (InputLayer)         [(None, 13)]              0         \n",
      "_________________________________________________________________\n",
      "dense (Dense)                (None, 10)                140       \n",
      "_________________________________________________________________\n",
      "dense_1 (Dense)              (None, 1)                 11        \n",
      "=================================================================\n",
      "Total params: 151\n",
      "Trainable params: 151\n",
      "Non-trainable params: 0\n",
      "_________________________________________________________________\n"
     ]
    }
   ],
   "source": [
    "# 모델 구조 확인\n",
    "model.summary()"
   ]
  },
  {
   "cell_type": "code",
   "execution_count": 6,
   "metadata": {},
   "outputs": [
    {
     "name": "stdout",
     "output_type": "stream",
     "text": [
      "Epoch 1/10\n",
      "16/16 [==============================] - 0s 979us/step - loss: 24.8659\n",
      "Epoch 2/10\n",
      "16/16 [==============================] - 0s 1ms/step - loss: 20.0717\n",
      "Epoch 3/10\n",
      "16/16 [==============================] - 0s 1ms/step - loss: 24.9811\n",
      "Epoch 4/10\n",
      "16/16 [==============================] - 0s 1ms/step - loss: 21.2919\n",
      "Epoch 5/10\n",
      "16/16 [==============================] - 0s 1ms/step - loss: 23.8123\n",
      "Epoch 6/10\n",
      "16/16 [==============================] - 0s 1ms/step - loss: 22.0674\n",
      "Epoch 7/10\n",
      "16/16 [==============================] - 0s 1ms/step - loss: 22.4485\n",
      "Epoch 8/10\n",
      "16/16 [==============================] - 0s 1ms/step - loss: 21.5118\n",
      "Epoch 9/10\n",
      "16/16 [==============================] - 0s 1ms/step - loss: 24.3307\n",
      "Epoch 10/10\n",
      "16/16 [==============================] - 0s 1ms/step - loss: 21.9075\n"
     ]
    },
    {
     "data": {
      "text/plain": [
       "<tensorflow.python.keras.callbacks.History at 0x21f3a3fe610>"
      ]
     },
     "execution_count": 6,
     "metadata": {},
     "output_type": "execute_result"
    }
   ],
   "source": [
    "# 3. 데이터를 이용하여 모델 학습(FIT)\n",
    "model.fit(독립, 종속, epochs=1000, verbose=0)\n",
    "model.fit(독립, 종속, epochs=10)"
   ]
  },
  {
   "cell_type": "code",
   "execution_count": 7,
   "metadata": {
    "scrolled": true
   },
   "outputs": [
    {
     "data": {
      "text/plain": [
       "array([[29.836786],\n",
       "       [23.041658],\n",
       "       [29.91899 ],\n",
       "       [33.575577],\n",
       "       [32.18219 ]], dtype=float32)"
      ]
     },
     "execution_count": 7,
     "metadata": {},
     "output_type": "execute_result"
    }
   ],
   "source": [
    "# 4. 모델 이용하기\n",
    "model.predict(독립[:5])"
   ]
  },
  {
   "cell_type": "code",
   "execution_count": 8,
   "metadata": {
    "scrolled": true
   },
   "outputs": [
    {
     "data": {
      "text/html": [
       "<div>\n",
       "<style scoped>\n",
       "    .dataframe tbody tr th:only-of-type {\n",
       "        vertical-align: middle;\n",
       "    }\n",
       "\n",
       "    .dataframe tbody tr th {\n",
       "        vertical-align: top;\n",
       "    }\n",
       "\n",
       "    .dataframe thead th {\n",
       "        text-align: right;\n",
       "    }\n",
       "</style>\n",
       "<table border=\"1\" class=\"dataframe\">\n",
       "  <thead>\n",
       "    <tr style=\"text-align: right;\">\n",
       "      <th></th>\n",
       "      <th>medv</th>\n",
       "    </tr>\n",
       "  </thead>\n",
       "  <tbody>\n",
       "    <tr>\n",
       "      <th>0</th>\n",
       "      <td>24.0</td>\n",
       "    </tr>\n",
       "    <tr>\n",
       "      <th>1</th>\n",
       "      <td>21.6</td>\n",
       "    </tr>\n",
       "    <tr>\n",
       "      <th>2</th>\n",
       "      <td>34.7</td>\n",
       "    </tr>\n",
       "    <tr>\n",
       "      <th>3</th>\n",
       "      <td>33.4</td>\n",
       "    </tr>\n",
       "    <tr>\n",
       "      <th>4</th>\n",
       "      <td>36.2</td>\n",
       "    </tr>\n",
       "  </tbody>\n",
       "</table>\n",
       "</div>"
      ],
      "text/plain": [
       "   medv\n",
       "0  24.0\n",
       "1  21.6\n",
       "2  34.7\n",
       "3  33.4\n",
       "4  36.2"
      ]
     },
     "execution_count": 8,
     "metadata": {},
     "output_type": "execute_result"
    }
   ],
   "source": [
    "# 실제 값\n",
    "종속[:5]"
   ]
  },
  {
   "cell_type": "code",
   "execution_count": 9,
   "metadata": {
    "scrolled": true
   },
   "outputs": [
    {
     "data": {
      "text/plain": [
       "[array([[ 0.05081713,  0.4341087 ,  0.05686677, -0.03317014,  0.07262262,\n",
       "          0.06457265,  0.13118894, -1.5966774 , -0.4142288 ,  0.2581792 ],\n",
       "        [ 0.53148097,  0.24891491, -0.5044423 ,  0.15659094,  0.33780745,\n",
       "         -0.3727549 , -0.01588465,  0.03679813, -0.18199143, -0.16467233],\n",
       "        [-0.4213129 ,  0.09569709, -0.28485376, -0.6422689 ,  0.21942393,\n",
       "          0.1757815 , -0.10124149, -1.9779131 ,  0.06060384,  0.18988304],\n",
       "        [-0.727483  , -1.1057272 ,  0.43002862, -2.1940796 ,  0.8322441 ,\n",
       "         -1.6381133 ,  0.8365762 ,  0.7127284 ,  0.45168185,  1.8138193 ],\n",
       "        [-0.38738534,  0.31030452,  0.35124856,  0.12584703,  0.1108859 ,\n",
       "          0.12678632,  0.16286764, -0.15730432,  0.5058498 , -0.71434385],\n",
       "        [-1.1693708 , -1.5517589 , -0.28701073,  1.0338347 ,  1.3629233 ,\n",
       "         -1.5372077 ,  1.6545874 ,  0.90839475,  0.00407535, -0.8906692 ],\n",
       "        [ 0.08509324, -0.02606806,  0.08339334, -0.10598154, -0.22724287,\n",
       "         -0.18386324, -0.0520932 ,  0.09965224,  0.09160757,  0.6128841 ],\n",
       "        [ 0.60549635,  0.40171555, -0.1610367 , -0.28786153, -0.39256287,\n",
       "          0.20644069, -0.39064857, -0.6365101 ,  0.28796983, -1.6262796 ],\n",
       "        [ 0.1098417 ,  0.06069113,  0.49099642,  0.2516602 , -0.23774354,\n",
       "         -0.17227669,  0.3339013 , -0.7680103 , -0.14684111,  0.22041543],\n",
       "        [ 0.30448204,  0.10228989, -0.18370357,  0.10416242,  0.47718474,\n",
       "          0.28343388,  0.23350678, -0.25745636, -0.34060326,  0.08584894],\n",
       "        [ 0.35138157,  0.45443815, -0.108215  , -0.38414803, -0.39561993,\n",
       "         -0.13971198, -0.53421223, -1.0092752 ,  0.3290148 ,  0.2822258 ],\n",
       "        [ 0.45158198,  0.05138311, -0.2620096 , -0.12602752,  0.2600382 ,\n",
       "          0.05676654,  0.3262524 ,  0.245809  ,  0.02385628, -0.25934112],\n",
       "        [ 0.06554423,  0.33852297, -0.02545536, -0.9693972 , -0.25200573,\n",
       "         -0.2630058 , -0.65073997, -1.404472  ,  0.27549937, -1.3162237 ]],\n",
       "       dtype=float32),\n",
       " array([-5.2104092e-01, -5.1276404e-01,  0.0000000e+00, -2.8573725e-01,\n",
       "         4.8632145e-01, -5.1316637e-01,  4.8932087e-01,  3.6296289e-02,\n",
       "         1.2084378e-07,  3.5354593e-01], dtype=float32),\n",
       " array([[-0.303144  ],\n",
       "        [-0.5514676 ],\n",
       "        [-0.3814526 ],\n",
       "        [-0.4647968 ],\n",
       "        [ 0.38679662],\n",
       "        [-0.5440986 ],\n",
       "        [ 0.47786635],\n",
       "        [ 0.36796653],\n",
       "        [-0.02406325],\n",
       "        [ 0.37300256]], dtype=float32),\n",
       " array([0.5017947], dtype=float32)]"
      ]
     },
     "execution_count": 9,
     "metadata": {},
     "output_type": "execute_result"
    }
   ],
   "source": [
    "# 모델 수식 확인\n",
    "model.get_weights()"
   ]
  },
  {
   "cell_type": "markdown",
   "metadata": {},
   "source": [
    "## 2.2. 아이리스 품종 분류에 적용"
   ]
  },
  {
   "cell_type": "code",
   "execution_count": 10,
   "metadata": {},
   "outputs": [],
   "source": [
    "# 라이브러리\n",
    "import tensorflow as tf\n",
    "import pandas as pd"
   ]
  },
  {
   "cell_type": "code",
   "execution_count": 11,
   "metadata": {},
   "outputs": [],
   "source": [
    "# 1. 데이터\n",
    "경로 = 'https://raw.githubusercontent.com/blackdew/tensorflow1/master/csv/iris.csv'\n",
    "아이리스 = pd.read_csv(경로)"
   ]
  },
  {
   "cell_type": "code",
   "execution_count": 12,
   "metadata": {},
   "outputs": [],
   "source": [
    "# 원핫인코딩\n",
    "아이리스 = pd.get_dummies(아이리스)"
   ]
  },
  {
   "cell_type": "code",
   "execution_count": 13,
   "metadata": {},
   "outputs": [
    {
     "name": "stdout",
     "output_type": "stream",
     "text": [
      "(150, 4) (150, 3)\n"
     ]
    }
   ],
   "source": [
    "# 독립변수, 종속변수\n",
    "독립 = 아이리스[['꽃잎길이', '꽃잎폭', '꽃받침길이', '꽃받침폭']]\n",
    "종속 = 아이리스[['품종_setosa', '품종_versicolor', '품종_virginica']]\n",
    "print(독립.shape, 종속.shape)"
   ]
  },
  {
   "cell_type": "code",
   "execution_count": 14,
   "metadata": {},
   "outputs": [],
   "source": [
    "# 2. 모델 구조 만들기\n",
    "X = tf.keras.Input(shape=[4])\n",
    "H = tf.keras.layers.Dense(8, activation='swish')(X)\n",
    "H = tf.keras.layers.Dense(8, activation='swish')(H)\n",
    "H = tf.keras.layers.Dense(8, activation='swish')(H)\n",
    "Y = tf.keras.layers.Dense(3, activation='softmax')(H)\n",
    "model = tf.keras.models.Model(X, Y)\n",
    "model.compile(\n",
    "    loss='categorical_crossentropy',\n",
    "    metrics='accuracy'\n",
    ")"
   ]
  },
  {
   "cell_type": "code",
   "execution_count": 15,
   "metadata": {},
   "outputs": [
    {
     "name": "stdout",
     "output_type": "stream",
     "text": [
      "Model: \"functional_3\"\n",
      "_________________________________________________________________\n",
      "Layer (type)                 Output Shape              Param #   \n",
      "=================================================================\n",
      "input_2 (InputLayer)         [(None, 4)]               0         \n",
      "_________________________________________________________________\n",
      "dense_2 (Dense)              (None, 8)                 40        \n",
      "_________________________________________________________________\n",
      "dense_3 (Dense)              (None, 8)                 72        \n",
      "_________________________________________________________________\n",
      "dense_4 (Dense)              (None, 8)                 72        \n",
      "_________________________________________________________________\n",
      "dense_5 (Dense)              (None, 3)                 27        \n",
      "=================================================================\n",
      "Total params: 211\n",
      "Trainable params: 211\n",
      "Non-trainable params: 0\n",
      "_________________________________________________________________\n"
     ]
    }
   ],
   "source": [
    "# 모델 구조 확인\n",
    "model.summary()"
   ]
  },
  {
   "cell_type": "code",
   "execution_count": 16,
   "metadata": {
    "scrolled": true
   },
   "outputs": [
    {
     "name": "stdout",
     "output_type": "stream",
     "text": [
      "Epoch 1/100\n",
      "5/5 [==============================] - 0s 2ms/step - loss: 1.6309 - accuracy: 0.3333\n",
      "Epoch 2/100\n",
      "5/5 [==============================] - 0s 2ms/step - loss: 1.4146 - accuracy: 0.3333\n",
      "Epoch 3/100\n",
      "5/5 [==============================] - 0s 2ms/step - loss: 1.2895 - accuracy: 0.3333\n",
      "Epoch 4/100\n",
      "5/5 [==============================] - 0s 2ms/step - loss: 1.2014 - accuracy: 0.1933\n",
      "Epoch 5/100\n",
      "5/5 [==============================] - 0s 2ms/step - loss: 1.1368 - accuracy: 0.0933\n",
      "Epoch 6/100\n",
      "5/5 [==============================] - 0s 1ms/step - loss: 1.0845 - accuracy: 0.0933\n",
      "Epoch 7/100\n",
      "5/5 [==============================] - 0s 2ms/step - loss: 1.0432 - accuracy: 0.2133\n",
      "Epoch 8/100\n",
      "5/5 [==============================] - 0s 1ms/step - loss: 1.0087 - accuracy: 0.2800\n",
      "Epoch 9/100\n",
      "5/5 [==============================] - 0s 1ms/step - loss: 0.9773 - accuracy: 0.2867\n",
      "Epoch 10/100\n",
      "5/5 [==============================] - 0s 1ms/step - loss: 0.9452 - accuracy: 0.3400\n",
      "Epoch 11/100\n",
      "5/5 [==============================] - 0s 1ms/step - loss: 0.9145 - accuracy: 0.3867\n",
      "Epoch 12/100\n",
      "5/5 [==============================] - 0s 1ms/step - loss: 0.8862 - accuracy: 0.5000\n",
      "Epoch 13/100\n",
      "5/5 [==============================] - 0s 2ms/step - loss: 0.8576 - accuracy: 0.6067\n",
      "Epoch 14/100\n",
      "5/5 [==============================] - 0s 2ms/step - loss: 0.8293 - accuracy: 0.6267\n",
      "Epoch 15/100\n",
      "5/5 [==============================] - 0s 2ms/step - loss: 0.8035 - accuracy: 0.6600\n",
      "Epoch 16/100\n",
      "5/5 [==============================] - 0s 2ms/step - loss: 0.7761 - accuracy: 0.6600\n",
      "Epoch 17/100\n",
      "5/5 [==============================] - 0s 2ms/step - loss: 0.7506 - accuracy: 0.6667\n",
      "Epoch 18/100\n",
      "5/5 [==============================] - 0s 2ms/step - loss: 0.7306 - accuracy: 0.6667\n",
      "Epoch 19/100\n",
      "5/5 [==============================] - 0s 2ms/step - loss: 0.7073 - accuracy: 0.6667\n",
      "Epoch 20/100\n",
      "5/5 [==============================] - 0s 2ms/step - loss: 0.6826 - accuracy: 0.6667\n",
      "Epoch 21/100\n",
      "5/5 [==============================] - 0s 3ms/step - loss: 0.6599 - accuracy: 0.6667\n",
      "Epoch 22/100\n",
      "5/5 [==============================] - 0s 2ms/step - loss: 0.6408 - accuracy: 0.6667\n",
      "Epoch 23/100\n",
      "5/5 [==============================] - 0s 2ms/step - loss: 0.6231 - accuracy: 0.6667\n",
      "Epoch 24/100\n",
      "5/5 [==============================] - 0s 3ms/step - loss: 0.6017 - accuracy: 0.6667\n",
      "Epoch 25/100\n",
      "5/5 [==============================] - 0s 2ms/step - loss: 0.5821 - accuracy: 0.6667\n",
      "Epoch 26/100\n",
      "5/5 [==============================] - 0s 3ms/step - loss: 0.5653 - accuracy: 0.6667\n",
      "Epoch 27/100\n",
      "5/5 [==============================] - 0s 2ms/step - loss: 0.5482 - accuracy: 0.6933\n",
      "Epoch 28/100\n",
      "5/5 [==============================] - 0s 3ms/step - loss: 0.5307 - accuracy: 0.7000\n",
      "Epoch 29/100\n",
      "5/5 [==============================] - 0s 2ms/step - loss: 0.5143 - accuracy: 0.7467\n",
      "Epoch 30/100\n",
      "5/5 [==============================] - 0s 2ms/step - loss: 0.4988 - accuracy: 0.6867\n",
      "Epoch 31/100\n",
      "5/5 [==============================] - 0s 2ms/step - loss: 0.4862 - accuracy: 0.8800\n",
      "Epoch 32/100\n",
      "5/5 [==============================] - 0s 2ms/step - loss: 0.4710 - accuracy: 0.8800\n",
      "Epoch 33/100\n",
      "5/5 [==============================] - 0s 2ms/step - loss: 0.4561 - accuracy: 0.9267\n",
      "Epoch 34/100\n",
      "5/5 [==============================] - 0s 2ms/step - loss: 0.4462 - accuracy: 0.9200\n",
      "Epoch 35/100\n",
      "5/5 [==============================] - 0s 2ms/step - loss: 0.4317 - accuracy: 0.8800\n",
      "Epoch 36/100\n",
      "5/5 [==============================] - 0s 3ms/step - loss: 0.4212 - accuracy: 0.9200\n",
      "Epoch 37/100\n",
      "5/5 [==============================] - 0s 2ms/step - loss: 0.4083 - accuracy: 0.9267\n",
      "Epoch 38/100\n",
      "5/5 [==============================] - 0s 2ms/step - loss: 0.3977 - accuracy: 0.9533\n",
      "Epoch 39/100\n",
      "5/5 [==============================] - 0s 2ms/step - loss: 0.3857 - accuracy: 0.9333\n",
      "Epoch 40/100\n",
      "5/5 [==============================] - 0s 2ms/step - loss: 0.3758 - accuracy: 0.9600\n",
      "Epoch 41/100\n",
      "5/5 [==============================] - 0s 3ms/step - loss: 0.3652 - accuracy: 0.9333\n",
      "Epoch 42/100\n",
      "5/5 [==============================] - 0s 2ms/step - loss: 0.3560 - accuracy: 0.9533\n",
      "Epoch 43/100\n",
      "5/5 [==============================] - 0s 2ms/step - loss: 0.3444 - accuracy: 0.9667\n",
      "Epoch 44/100\n",
      "5/5 [==============================] - 0s 3ms/step - loss: 0.3366 - accuracy: 0.9533\n",
      "Epoch 45/100\n",
      "5/5 [==============================] - 0s 2ms/step - loss: 0.3274 - accuracy: 0.9600\n",
      "Epoch 46/100\n",
      "5/5 [==============================] - 0s 2ms/step - loss: 0.3148 - accuracy: 0.9600\n",
      "Epoch 47/100\n",
      "5/5 [==============================] - 0s 2ms/step - loss: 0.3094 - accuracy: 0.9533\n",
      "Epoch 48/100\n",
      "5/5 [==============================] - 0s 2ms/step - loss: 0.3031 - accuracy: 0.9467\n",
      "Epoch 49/100\n",
      "5/5 [==============================] - 0s 2ms/step - loss: 0.2909 - accuracy: 0.9600\n",
      "Epoch 50/100\n",
      "5/5 [==============================] - 0s 2ms/step - loss: 0.2836 - accuracy: 0.9600\n",
      "Epoch 51/100\n",
      "5/5 [==============================] - 0s 3ms/step - loss: 0.2753 - accuracy: 0.9533\n",
      "Epoch 52/100\n",
      "5/5 [==============================] - 0s 3ms/step - loss: 0.2664 - accuracy: 0.9467\n",
      "Epoch 53/100\n",
      "5/5 [==============================] - 0s 3ms/step - loss: 0.2623 - accuracy: 0.9600\n",
      "Epoch 54/100\n",
      "5/5 [==============================] - 0s 3ms/step - loss: 0.2509 - accuracy: 0.9533\n",
      "Epoch 55/100\n",
      "5/5 [==============================] - 0s 2ms/step - loss: 0.2501 - accuracy: 0.9600\n",
      "Epoch 56/100\n",
      "5/5 [==============================] - 0s 3ms/step - loss: 0.2394 - accuracy: 0.9667\n",
      "Epoch 57/100\n",
      "5/5 [==============================] - 0s 2ms/step - loss: 0.2355 - accuracy: 0.9600\n",
      "Epoch 58/100\n",
      "5/5 [==============================] - 0s 1ms/step - loss: 0.2280 - accuracy: 0.9600\n",
      "Epoch 59/100\n",
      "5/5 [==============================] - 0s 2ms/step - loss: 0.2253 - accuracy: 0.9600\n",
      "Epoch 60/100\n",
      "5/5 [==============================] - 0s 2ms/step - loss: 0.2219 - accuracy: 0.9533\n",
      "Epoch 61/100\n",
      "5/5 [==============================] - ETA: 0s - loss: 0.1784 - accuracy: 1.00 - 0s 2ms/step - loss: 0.2127 - accuracy: 0.9600\n",
      "Epoch 62/100\n",
      "5/5 [==============================] - 0s 1ms/step - loss: 0.2059 - accuracy: 0.9600\n",
      "Epoch 63/100\n",
      "5/5 [==============================] - 0s 2ms/step - loss: 0.1993 - accuracy: 0.9667\n",
      "Epoch 64/100\n",
      "5/5 [==============================] - 0s 1ms/step - loss: 0.1955 - accuracy: 0.9533\n",
      "Epoch 65/100\n",
      "5/5 [==============================] - 0s 2ms/step - loss: 0.1956 - accuracy: 0.9533\n",
      "Epoch 66/100\n",
      "5/5 [==============================] - 0s 1ms/step - loss: 0.1950 - accuracy: 0.9467\n",
      "Epoch 67/100\n",
      "5/5 [==============================] - 0s 2ms/step - loss: 0.1821 - accuracy: 0.9600\n",
      "Epoch 68/100\n",
      "5/5 [==============================] - 0s 1ms/step - loss: 0.1770 - accuracy: 0.9667\n",
      "Epoch 69/100\n",
      "5/5 [==============================] - 0s 2ms/step - loss: 0.1787 - accuracy: 0.9600\n",
      "Epoch 70/100\n",
      "5/5 [==============================] - 0s 2ms/step - loss: 0.1699 - accuracy: 0.9600\n",
      "Epoch 71/100\n",
      "5/5 [==============================] - 0s 2ms/step - loss: 0.1712 - accuracy: 0.9600\n",
      "Epoch 72/100\n",
      "5/5 [==============================] - 0s 2ms/step - loss: 0.1633 - accuracy: 0.9600\n",
      "Epoch 73/100\n",
      "5/5 [==============================] - 0s 2ms/step - loss: 0.1596 - accuracy: 0.9733\n",
      "Epoch 74/100\n",
      "5/5 [==============================] - 0s 2ms/step - loss: 0.1637 - accuracy: 0.9533\n",
      "Epoch 75/100\n",
      "5/5 [==============================] - 0s 2ms/step - loss: 0.1534 - accuracy: 0.9667\n",
      "Epoch 76/100\n",
      "5/5 [==============================] - 0s 2ms/step - loss: 0.1647 - accuracy: 0.9467\n",
      "Epoch 77/100\n",
      "5/5 [==============================] - 0s 1ms/step - loss: 0.1530 - accuracy: 0.9667\n",
      "Epoch 78/100\n",
      "5/5 [==============================] - 0s 1ms/step - loss: 0.1470 - accuracy: 0.9667\n",
      "Epoch 79/100\n",
      "5/5 [==============================] - 0s 1ms/step - loss: 0.1449 - accuracy: 0.9733\n",
      "Epoch 80/100\n",
      "5/5 [==============================] - 0s 1ms/step - loss: 0.1458 - accuracy: 0.9667\n",
      "Epoch 81/100\n",
      "5/5 [==============================] - 0s 2ms/step - loss: 0.1402 - accuracy: 0.9733\n",
      "Epoch 82/100\n",
      "5/5 [==============================] - 0s 2ms/step - loss: 0.1355 - accuracy: 0.9667\n",
      "Epoch 83/100\n",
      "5/5 [==============================] - 0s 2ms/step - loss: 0.1380 - accuracy: 0.9733\n",
      "Epoch 84/100\n"
     ]
    },
    {
     "name": "stdout",
     "output_type": "stream",
     "text": [
      "5/5 [==============================] - 0s 1ms/step - loss: 0.1312 - accuracy: 0.9667\n",
      "Epoch 85/100\n",
      "5/5 [==============================] - 0s 2ms/step - loss: 0.1317 - accuracy: 0.9733\n",
      "Epoch 86/100\n",
      "5/5 [==============================] - 0s 1ms/step - loss: 0.1288 - accuracy: 0.9800\n",
      "Epoch 87/100\n",
      "5/5 [==============================] - 0s 2ms/step - loss: 0.1289 - accuracy: 0.9600\n",
      "Epoch 88/100\n",
      "5/5 [==============================] - 0s 2ms/step - loss: 0.1276 - accuracy: 0.9600\n",
      "Epoch 89/100\n",
      "5/5 [==============================] - 0s 2ms/step - loss: 0.1199 - accuracy: 0.9667\n",
      "Epoch 90/100\n",
      "5/5 [==============================] - 0s 2ms/step - loss: 0.1318 - accuracy: 0.9600\n",
      "Epoch 91/100\n",
      "5/5 [==============================] - 0s 1ms/step - loss: 0.1257 - accuracy: 0.9600\n",
      "Epoch 92/100\n",
      "5/5 [==============================] - 0s 2ms/step - loss: 0.1181 - accuracy: 0.9667\n",
      "Epoch 93/100\n",
      "5/5 [==============================] - 0s 2ms/step - loss: 0.1200 - accuracy: 0.9600\n",
      "Epoch 94/100\n",
      "5/5 [==============================] - 0s 1ms/step - loss: 0.1212 - accuracy: 0.9533\n",
      "Epoch 95/100\n",
      "5/5 [==============================] - 0s 2ms/step - loss: 0.1151 - accuracy: 0.9800\n",
      "Epoch 96/100\n",
      "5/5 [==============================] - 0s 1ms/step - loss: 0.1156 - accuracy: 0.9600\n",
      "Epoch 97/100\n",
      "5/5 [==============================] - 0s 1ms/step - loss: 0.1148 - accuracy: 0.9800\n",
      "Epoch 98/100\n",
      "5/5 [==============================] - ETA: 0s - loss: 0.1374 - accuracy: 0.96 - 0s 2ms/step - loss: 0.1085 - accuracy: 0.9800\n",
      "Epoch 99/100\n",
      "5/5 [==============================] - 0s 1ms/step - loss: 0.1139 - accuracy: 0.9600\n",
      "Epoch 100/100\n",
      "5/5 [==============================] - 0s 2ms/step - loss: 0.1082 - accuracy: 0.9667\n"
     ]
    },
    {
     "data": {
      "text/plain": [
       "<tensorflow.python.keras.callbacks.History at 0x21f3a4c5b80>"
      ]
     },
     "execution_count": 16,
     "metadata": {},
     "output_type": "execute_result"
    }
   ],
   "source": [
    "# 3. 데이터를 이용하여 모델 학습(FIT)\n",
    "model.fit(독립, 종속, epochs=100)"
   ]
  },
  {
   "cell_type": "code",
   "execution_count": 17,
   "metadata": {
    "scrolled": true
   },
   "outputs": [
    {
     "data": {
      "text/plain": [
       "array([[9.9988496e-01, 7.5728989e-05, 3.9296148e-05],\n",
       "       [9.9948537e-01, 3.7384508e-04, 1.4075027e-04],\n",
       "       [9.9973541e-01, 1.7925848e-04, 8.5388921e-05],\n",
       "       [9.9905211e-01, 7.5402943e-04, 1.9385642e-04],\n",
       "       [9.9989569e-01, 6.9126130e-05, 3.5116143e-05]], dtype=float32)"
      ]
     },
     "execution_count": 17,
     "metadata": {},
     "output_type": "execute_result"
    }
   ],
   "source": [
    "# 4. 모델 사용하기\n",
    "model.predict(독립[:5])"
   ]
  },
  {
   "cell_type": "code",
   "execution_count": 18,
   "metadata": {},
   "outputs": [
    {
     "data": {
      "text/html": [
       "<div>\n",
       "<style scoped>\n",
       "    .dataframe tbody tr th:only-of-type {\n",
       "        vertical-align: middle;\n",
       "    }\n",
       "\n",
       "    .dataframe tbody tr th {\n",
       "        vertical-align: top;\n",
       "    }\n",
       "\n",
       "    .dataframe thead th {\n",
       "        text-align: right;\n",
       "    }\n",
       "</style>\n",
       "<table border=\"1\" class=\"dataframe\">\n",
       "  <thead>\n",
       "    <tr style=\"text-align: right;\">\n",
       "      <th></th>\n",
       "      <th>품종_setosa</th>\n",
       "      <th>품종_versicolor</th>\n",
       "      <th>품종_virginica</th>\n",
       "    </tr>\n",
       "  </thead>\n",
       "  <tbody>\n",
       "    <tr>\n",
       "      <th>0</th>\n",
       "      <td>1</td>\n",
       "      <td>0</td>\n",
       "      <td>0</td>\n",
       "    </tr>\n",
       "    <tr>\n",
       "      <th>1</th>\n",
       "      <td>1</td>\n",
       "      <td>0</td>\n",
       "      <td>0</td>\n",
       "    </tr>\n",
       "    <tr>\n",
       "      <th>2</th>\n",
       "      <td>1</td>\n",
       "      <td>0</td>\n",
       "      <td>0</td>\n",
       "    </tr>\n",
       "    <tr>\n",
       "      <th>3</th>\n",
       "      <td>1</td>\n",
       "      <td>0</td>\n",
       "      <td>0</td>\n",
       "    </tr>\n",
       "    <tr>\n",
       "      <th>4</th>\n",
       "      <td>1</td>\n",
       "      <td>0</td>\n",
       "      <td>0</td>\n",
       "    </tr>\n",
       "  </tbody>\n",
       "</table>\n",
       "</div>"
      ],
      "text/plain": [
       "   품종_setosa  품종_versicolor  품종_virginica\n",
       "0          1              0             0\n",
       "1          1              0             0\n",
       "2          1              0             0\n",
       "3          1              0             0\n",
       "4          1              0             0"
      ]
     },
     "execution_count": 18,
     "metadata": {},
     "output_type": "execute_result"
    }
   ],
   "source": [
    "# 실제 값\n",
    "종속[:5]"
   ]
  }
 ],
 "metadata": {
  "kernelspec": {
   "display_name": "Python 3.8.5 64-bit",
   "language": "python",
   "name": "python38564bit41c0f892f0d2444caf8d56aed2f67eea"
  },
  "language_info": {
   "codemirror_mode": {
    "name": "ipython",
    "version": 3
   },
   "file_extension": ".py",
   "mimetype": "text/x-python",
   "name": "python",
   "nbconvert_exporter": "python",
   "pygments_lexer": "ipython3",
   "version": "3.8.5"
  }
 },
 "nbformat": 4,
 "nbformat_minor": 4
}
