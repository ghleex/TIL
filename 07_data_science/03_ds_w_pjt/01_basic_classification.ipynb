{
 "cells": [
  {
   "cell_type": "markdown",
   "metadata": {},
   "source": [
    "# 1. 분류모델 기초"
   ]
  },
  {
   "cell_type": "markdown",
   "metadata": {},
   "source": [
    "## 1.1. 사이킷런(scikit-learn)과 머신러닝"
   ]
  },
  {
   "cell_type": "markdown",
   "metadata": {},
   "source": [
    "* Classification: Identifying which category an object belongs to\n",
    "* Regression: Predicting a continuous-valued attribute associated with an object\n",
    "* Clustering: Automatic grouping of similar objects into sets\n",
    "* Model selection: Comparing, validating and choosing parameters and models\n",
    "* Preprocessing: Feature extraction and normalization\n",
    "* Dimentionally reduction: Reducing the number of random variables to consider"
   ]
  },
  {
   "cell_type": "markdown",
   "metadata": {},
   "source": [
    "* 분류와 회귀 모델을 주로 사용할 것임\n",
    "* 머신러닝 알고리즘은 요리할 때 조리 도구로 생각할 수 있음. 따라서 알고리즘을 이용하여 데이터를 요리할 수 있고, 어떤 알고리즘을 사용하는가에 따라 성능 또한 달라짐"
   ]
  },
  {
   "cell_type": "markdown",
   "metadata": {},
   "source": [
    "* Supervised learning(지도학습): 정답이 있는 문제\n",
    "  * classification, regression 등\n",
    "* Unsupervised learning(비지도학습): 정답이 없는 문제\n",
    "  * clustering, dimensionally reduction 등"
   ]
  },
  {
   "cell_type": "markdown",
   "metadata": {},
   "source": []
  },
  {
   "cell_type": "markdown",
   "metadata": {},
   "source": []
  },
  {
   "cell_type": "markdown",
   "metadata": {},
   "source": []
  },
  {
   "cell_type": "markdown",
   "metadata": {},
   "source": []
  },
  {
   "cell_type": "markdown",
   "metadata": {},
   "source": []
  },
  {
   "cell_type": "markdown",
   "metadata": {},
   "source": []
  }
 ],
 "metadata": {
  "kernelspec": {
   "display_name": "Python 3.8.5 64-bit",
   "language": "python",
   "name": "python38564bit41c0f892f0d2444caf8d56aed2f67eea"
  },
  "language_info": {
   "codemirror_mode": {
    "name": "ipython",
    "version": 3
   },
   "file_extension": ".py",
   "mimetype": "text/x-python",
   "name": "python",
   "nbconvert_exporter": "python",
   "pygments_lexer": "ipython3",
   "version": "3.8.5"
  }
 },
 "nbformat": 4,
 "nbformat_minor": 4
}
