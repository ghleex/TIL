{
 "cells": [
  {
   "cell_type": "markdown",
   "metadata": {},
   "source": [
    "# 클래스 연습하기"
   ]
  },
  {
   "cell_type": "code",
   "execution_count": 1,
   "metadata": {},
   "outputs": [],
   "source": [
    "class Person:\n",
    "    name = 'Daejeon'"
   ]
  },
  {
   "cell_type": "code",
   "execution_count": 2,
   "metadata": {},
   "outputs": [],
   "source": [
    "p1 = Person()\n",
    "p2 = Person()"
   ]
  },
  {
   "attachments": {},
   "cell_type": "markdown",
   "metadata": {},
   "source": [
    "- 선언한 클래스 Person 에는 멤버 변수(데이터)인 name 만 담고 있다. 이후에 생성된 인스턴스 p1 과 p2 에는 아직 인스턴스 객체에 특화된 데이터가 없으므로(개별 인스턴스에서 정의된 데이터가 없으므로) 여전히 클래스 객체에서 데이터를 참조한다."
   ]
  },
  {
   "cell_type": "code",
   "execution_count": 3,
   "metadata": {},
   "outputs": [
    {
     "name": "stdout",
     "output_type": "stream",
     "text": [
      "Daejeon\n"
     ]
    }
   ],
   "source": [
    "print(p1.name) # 지금 상태에서는 p1과 p2 모두 각자 가지고 있는 멤버 변수가 없음"
   ]
  },
  {
   "cell_type": "code",
   "execution_count": 4,
   "metadata": {},
   "outputs": [
    {
     "name": "stdout",
     "output_type": "stream",
     "text": [
      "Daejeon\n"
     ]
    }
   ],
   "source": [
    "print(p2.name)"
   ]
  },
  {
   "cell_type": "markdown",
   "metadata": {},
   "source": [
    "- 인스턴스 객체 p1 의 멤버 변수인 name 을 'Seoul' 로 변경하면 인스턴스 p1 의 이름공간에 존재하는 name 이라는 변수에 데이터를 저장\n",
    "    - 원래는 클래스 Person 의 멤버 변수인 name('Daejeon') 이라는 데이터를 참조\n",
    "- 하지만 인스턴스 객체 p2 의 경우, 멤버 변수인 name 은 변경 사항이 없으므로 클래스 Person 의 멤버 변수 name 을 참조함"
   ]
  },
  {
   "cell_type": "code",
   "execution_count": 5,
   "metadata": {
    "scrolled": true
   },
   "outputs": [
    {
     "name": "stdout",
     "output_type": "stream",
     "text": [
      "Seoul\n"
     ]
    }
   ],
   "source": [
    "p1.name = 'Seoul'\n",
    "print(p1.name)"
   ]
  },
  {
   "cell_type": "code",
   "execution_count": 6,
   "metadata": {
    "scrolled": true
   },
   "outputs": [
    {
     "name": "stdout",
     "output_type": "stream",
     "text": [
      "Daejeon\n"
     ]
    }
   ],
   "source": [
    "print(p2.name)"
   ]
  },
  {
   "cell_type": "markdown",
   "metadata": {},
   "source": [
    "* 파이썬은 클래스 객체와 인스턴스 객체에 동적(dynamic)으로 멤버 변수를 추가/삭제할 수 있다.\n",
    "* 클래스 객체 Person 에 멤버 변수인 title 을 추가하였다. 이와 같이 추가된 변수를 인스턴스 객체를 통해 접근하고자 할 때, 인스턴스 객체에는 같은 이름의 다른 멤버 변수가 없으므로 클래스 객체의 이름공간을 참조하여 정상적으로 접근이 가능하다."
   ]
  },
  {
   "cell_type": "code",
   "execution_count": 7,
   "metadata": {},
   "outputs": [],
   "source": [
    "Person.title = 'Welcome Daejeon!'"
   ]
  },
  {
   "cell_type": "markdown",
   "metadata": {},
   "source": [
    "- 인스턴스 p1, p2 모두에서 해당 멤버 변수(객체)에 접근 가능\n",
    "- 클래스 객체에서도 멤버 변수에 접근 가능"
   ]
  },
  {
   "cell_type": "code",
   "execution_count": 8,
   "metadata": {},
   "outputs": [
    {
     "name": "stdout",
     "output_type": "stream",
     "text": [
      "Welcome Daejeon!\n"
     ]
    }
   ],
   "source": [
    "print(p1.title)"
   ]
  },
  {
   "cell_type": "code",
   "execution_count": 9,
   "metadata": {},
   "outputs": [
    {
     "name": "stdout",
     "output_type": "stream",
     "text": [
      "Welcome Daejeon!\n"
     ]
    }
   ],
   "source": [
    "print(p2.title)"
   ]
  },
  {
   "cell_type": "code",
   "execution_count": 10,
   "metadata": {},
   "outputs": [
    {
     "name": "stdout",
     "output_type": "stream",
     "text": [
      "Welcome Daejeon!\n"
     ]
    }
   ],
   "source": [
    "print(Person.title)"
   ]
  },
  {
   "cell_type": "markdown",
   "metadata": {},
   "source": [
    "- 인스턴스 p1 객체에 water 라는 멤버 변수를 추가한 뒤, 인스턴스 p2 객체를 통해 접근하려는 경우에는 p2 의 이름공간과 person 의 이름공간에는 해당 멤버 변수의 이름(water)을 찾을 수 없기 때문에 AttributeError 가 발생함\n",
    "- 인스턴스 객체에 동적으로 멤버 변수를 추가한 경우, 추가한 인스턴스 객체(여기서는 p1)를 통해서만 접근 가능\n",
    "    - p1.water 는 인스턴스 p1 객체에서만 접근\n",
    "    - Person.title 은 클래스 객체로 접근하므로 인스턴스 p1, p2 는 모두 title 이라는 멤버 변수를 참조할 수 있다."
   ]
  },
  {
   "cell_type": "code",
   "execution_count": 11,
   "metadata": {},
   "outputs": [
    {
     "name": "stdout",
     "output_type": "stream",
     "text": [
      "아리수\n"
     ]
    }
   ],
   "source": [
    "p1.water = '아리수'\n",
    "print(p1.water)"
   ]
  },
  {
   "cell_type": "code",
   "execution_count": 12,
   "metadata": {},
   "outputs": [
    {
     "ename": "AttributeError",
     "evalue": "'Person' object has no attribute 'water'",
     "output_type": "error",
     "traceback": [
      "\u001b[1;31m---------------------------------------------------------------------------\u001b[0m",
      "\u001b[1;31mAttributeError\u001b[0m                            Traceback (most recent call last)",
      "\u001b[1;32m<ipython-input-12-13394c293097>\u001b[0m in \u001b[0;36m<module>\u001b[1;34m\u001b[0m\n\u001b[1;32m----> 1\u001b[1;33m \u001b[0mprint\u001b[0m\u001b[1;33m(\u001b[0m\u001b[0mp2\u001b[0m\u001b[1;33m.\u001b[0m\u001b[0mwater\u001b[0m\u001b[1;33m)\u001b[0m\u001b[1;33m\u001b[0m\u001b[1;33m\u001b[0m\u001b[0m\n\u001b[0m",
      "\u001b[1;31mAttributeError\u001b[0m: 'Person' object has no attribute 'water'"
     ]
    }
   ],
   "source": [
    "print(p2.water)"
   ]
  }
 ],
 "metadata": {
  "kernelspec": {
   "display_name": "Python 3",
   "language": "python",
   "name": "python3"
  },
  "language_info": {
   "codemirror_mode": {
    "name": "ipython",
    "version": 3
   },
   "file_extension": ".py",
   "mimetype": "text/x-python",
   "name": "python",
   "nbconvert_exporter": "python",
   "pygments_lexer": "ipython3",
   "version": "3.7.4"
  },
  "toc": {
   "base_numbering": 1,
   "nav_menu": {},
   "number_sections": true,
   "sideBar": true,
   "skip_h1_title": false,
   "title_cell": "Table of Contents",
   "title_sidebar": "Contents",
   "toc_cell": false,
   "toc_position": {},
   "toc_section_display": true,
   "toc_window_display": false
  }
 },
 "nbformat": 4,
 "nbformat_minor": 2
}
