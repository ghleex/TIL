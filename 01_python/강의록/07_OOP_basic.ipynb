{
 "cells": [
  {
   "cell_type": "code",
   "execution_count": null,
   "metadata": {},
   "outputs": [],
   "source": [
    "from IPython.display import IFrame"
   ]
  },
  {
   "cell_type": "markdown",
   "metadata": {},
   "source": [
    "# OOP with python\n",
    "\n",
    "## 시작하기전에\n",
    "\n",
    "<wikipedia - 객체지향 프로그래밍> \n",
    ">\n",
    "> 객체 지향 프로그래밍(영어: Object-Oriented Programming, OOP)은 컴퓨터 프로그래밍의 패러다임의 하나이다. 객체 지향 프로그래밍은 컴퓨터 프로그램을 명령어의 목록으로 보는 시각에서 벗어나 여러 개의 독립된 단위, 즉 \"객체\"들의 모임으로 파악하고자 하는 것이다. 각각의 객체는 메시지를 주고받고, 데이터를 처리할 수 있다.\n",
    ">\n",
    "> 명령형 프로그래밍인 절차지향 프로그래밍에서 발전된 형태를 나타내며, 기본 구성요소는 다음과 같다.\n",
    "\n",
    "* 클래스(Class) \n",
    "    - 객체를 표현하는 문법.\n",
    "    - 같은 종류(또는 문제 해결을 위한)의 집단에 속하는 **속성(attribute)**과 **행위(behavior)**를 정의한 것으로 객체지향 프로그램의 기본적인 사용자 정의 데이터형(user define data type)이라고 할 수 있다.\n",
    "    - 클래스는 프로그래머가 아니지만 해결해야 할 문제가 속하는 영역에 종사하는 사람이라면 사용할 수 있고, 다른 클래스 또는 외부 요소와 **독립적**으로 디자인하여야 한다.\n",
    "\n",
    "\n",
    "* 인스턴스(instance) \n",
    "    - 클래스의 인스턴스/객체(실제로 메모리상에 할당된 것)이다. \n",
    "    - 객체는 자신 고유의 속성(attribute)을 가지며 클래스에서 정의한 행위(behavior)를 수행할 수 있다. \n",
    "    - 객체의 행위는 클래스에 정의된 행위에 대한 정의(메서드)를 공유함으로써 메모리를 경제적으로 사용한다.\n",
    "\n",
    "\n",
    "* 속성(attribute) \n",
    "    - 클래스/인스턴스 가 가지고 있는 속성(값)\n",
    "\n",
    "\n",
    "* 메서드(Method) \n",
    "    - 클래스/인스턴스 가 할 수 있는 행위(함수)"
   ]
  },
  {
   "cell_type": "markdown",
   "metadata": {},
   "source": [
    "\n",
    "\n",
    "| class / type | instance                 | attributes       | methods                                |\n",
    "| ------------ | ------------------------ | ---------------- | -------------------------------------- |\n",
    "| `str`        | `''`, `'hello'`, `'123'` |       _          | `.capitalize()`, `.join()`, `.split()` |\n",
    "| `list`       | `[]`, `['a', 'b']`       |       _          | `.append()`, `reverse()`, `sort()`     |\n",
    "| `dict`       | `{}`, `{'key': 'value'}` |       _          | `.keys()`, `.values()`, `.items().`    |\n",
    "| `int`        | `0`, `1`, `2`            | `.real`, `.imag` |                                        |"
   ]
  },
  {
   "cell_type": "code",
   "execution_count": null,
   "metadata": {},
   "outputs": [],
   "source": [
    "# 복소수를 하나 만들어보고, 타입을 출력해봅시다."
   ]
  },
  {
   "cell_type": "code",
   "execution_count": null,
   "metadata": {},
   "outputs": [],
   "source": [
    "img_number = 3 + 4j\n",
    "print(type(img_number))"
   ]
  },
  {
   "cell_type": "markdown",
   "metadata": {},
   "source": [
    "> 위에서 말한 속성(값)과 행위(메서드)를 명확히 구분해 봅시다\n",
    "\n",
    "* `complex` class의 객체들의 속성들을 확인해 봅시다."
   ]
  },
  {
   "cell_type": "code",
   "execution_count": null,
   "metadata": {},
   "outputs": [],
   "source": [
    "# 허수부랑 실수부를 함께 출력해봅시다. complex 객체의 실수 속성과 허수 속성이라고도 표현 가능합니다."
   ]
  },
  {
   "cell_type": "code",
   "execution_count": null,
   "metadata": {},
   "outputs": [],
   "source": [
    "print(img_number.real)\n",
    "print(img_number.imag)\n",
    "# class 'complex'의 attribute를 표현한 것임\n",
    "# class를 직접 사용할 수 없으므로 인스턴스를 통해 attribute나 method를 사용\n",
    "# 인스턴스는 중간자 느낌"
   ]
  },
  {
   "cell_type": "markdown",
   "metadata": {},
   "source": [
    "* `list` class의 객체들이 할 수 있는 행위(메서드)들을 확인해 봅시다."
   ]
  },
  {
   "cell_type": "code",
   "execution_count": null,
   "metadata": {},
   "outputs": [],
   "source": [
    "# 리스트를 하나 만들고 정렬해봅시다. list 객체의 메서드 실행이라고도 표현 가능합니다."
   ]
  },
  {
   "cell_type": "code",
   "execution_count": null,
   "metadata": {},
   "outputs": [],
   "source": [
    "my_list = [3, 2, 1]\n",
    "print(type(my_list))\n",
    "# class 'list'의 instance는 \"my_list\"임."
   ]
  },
  {
   "cell_type": "code",
   "execution_count": null,
   "metadata": {},
   "outputs": [],
   "source": [
    "my_list.sort() # .sort()라는 method 실행\n",
    "print(my_list)"
   ]
  },
  {
   "cell_type": "code",
   "execution_count": null,
   "metadata": {},
   "outputs": [],
   "source": [
    "# list class 의 객체들이 할 수 있는 것들을 알아봅시다. (list 객체가 가지고 있는 모든 속성과 메서드를 보여줍니다.)"
   ]
  },
  {
   "cell_type": "code",
   "execution_count": null,
   "metadata": {},
   "outputs": [],
   "source": [
    "print(dir(list))"
   ]
  },
  {
   "cell_type": "markdown",
   "metadata": {},
   "source": [
    "## 실습 (without OOP)\n",
    "\n",
    "> 프로그래밍으로, 현재 나의 핸드폰을 코드로 옮겨봅시다.\n",
    "\n",
    "**정답은 없습니다. 자유롭게 구현해 봅시다.**\n",
    "\n",
    "* 핸드폰은 다음과 같은 속성(값)을 가지고 있습니다.\n",
    "    * 전원(`power`) - `bool`\n",
    "    * 내 전화번호(`number`) - `str`\n",
    "    * 전화번호부(`book`) - `dict`\n",
    "    * 모델명(`model`) - `str`\n",
    "\n",
    "* 핸드폰은 다음과 같은 다음과 같은 행동(함수)을 할 수 있습니다.\n",
    "    * 켜기(`on()`)\n",
    "    * 끄기(`off()`)\n",
    "    * 내 전화번호 설정하기(`set_my_number(number)`)\n",
    "    * 전화걸기(`call(number)`)\n",
    "    * 전화번호부에 번호 저장하기(`save(name, number)`)"
   ]
  },
  {
   "cell_type": "code",
   "execution_count": null,
   "metadata": {},
   "outputs": [],
   "source": [
    "power = False\n",
    "number = ''\n",
    "book = {}\n",
    "model = 'Galaxy Note10'\n",
    "\n",
    "def on():\n",
    "    # power는 할당되기 전의 상태임 (LEGB를 다시 한 번 생각해보자 @ 이름공간)\n",
    "    if not power: # 할당 전 참조하는 상태\n",
    "        power = True # 결론적으로 UnboundLocalError 내면서 실행되지 않음\n",
    "        # 이 부분 주석처리하면 실행됨 (Global의 power를 가져왔기 때문)\n",
    "        # OOP에서 변수의 SCOPE가 상당히 중요함!\n",
    "        return True\n",
    "\n",
    "    \n",
    "def off():\n",
    "    if power:\n",
    "        power = False\n",
    "        # 할당 전 참조하므로 UnboundLocalError 발생할 것임\n",
    "        return power\n",
    "\n",
    "\n",
    "def set_my_number(number):\n",
    "    if power:\n",
    "        number = number        \n",
    "\n",
    "\n",
    "def call(number):\n",
    "    if power:\n",
    "        if number in book:\n",
    "            return f'{book[number]} 에게 전화를 걸고 있습니다.'\n",
    "        else:\n",
    "            return f'{number} 에게 전화를 걸고 있습니다.'\n",
    "\n",
    "\n",
    "def save(name, number):\n",
    "    if power:\n",
    "        book[name] = number\n",
    "        return book"
   ]
  },
  {
   "cell_type": "code",
   "execution_count": null,
   "metadata": {},
   "outputs": [],
   "source": [
    "# 핸드폰을 켜지 않고 이런저런 일을 해 봅시다."
   ]
  },
  {
   "cell_type": "code",
   "execution_count": null,
   "metadata": {},
   "outputs": [],
   "source": [
    "call('0274516578')\n",
    "power"
   ]
  },
  {
   "cell_type": "code",
   "execution_count": null,
   "metadata": {},
   "outputs": [],
   "source": [
    "# 핸드폰을 켜봅시다. "
   ]
  },
  {
   "cell_type": "code",
   "execution_count": null,
   "metadata": {},
   "outputs": [],
   "source": [
    "on()"
   ]
  },
  {
   "cell_type": "code",
   "execution_count": null,
   "metadata": {},
   "outputs": [],
   "source": [
    "# 켜지지 않습니다.. 어째서 그런 걸까요?"
   ]
  },
  {
   "cell_type": "markdown",
   "metadata": {},
   "source": [
    "* 이유는 **이름공간(namespace)** 때문임!\n",
    "* power를 할당하기 전에 평가(참조)가 먼저 진행됐기 때문임\n",
    "* 함수 밖에 있는 power는 global scope이며, 함수 내 power는 lexical(local) scope으로 서로 다른 공간에 존재하는 것임\n",
    "* 따라서 서로 모르는 상태임\n",
    "* 결국 on() off() 모두를 사용할 수 없으므로 직접 power에 값을 할당해야함!\n",
    "* 해결책: `power = True`"
   ]
  },
  {
   "cell_type": "code",
   "execution_count": null,
   "metadata": {},
   "outputs": [],
   "source": [
    "power = True"
   ]
  },
  {
   "cell_type": "code",
   "execution_count": null,
   "metadata": {},
   "outputs": [],
   "source": [
    "# save 를 통해 번호를 저장해 봅시다."
   ]
  },
  {
   "cell_type": "code",
   "execution_count": null,
   "metadata": {},
   "outputs": [],
   "source": [
    "save('엄마', '01065498751')"
   ]
  },
  {
   "cell_type": "code",
   "execution_count": null,
   "metadata": {},
   "outputs": [],
   "source": [
    "# call 을 통해 전화를 걸어봅시다."
   ]
  },
  {
   "cell_type": "code",
   "execution_count": null,
   "metadata": {},
   "outputs": [],
   "source": [
    "call('엄마')"
   ]
  },
  {
   "cell_type": "markdown",
   "metadata": {},
   "source": [
    "### 문제점\n",
    "\n",
    "현재 코드로 구현한 핸드폰에서 잘못되었다고 느껴지거나 문제가 발생할 만한 요소들을 이야기 해 봅시다. \n",
    "\n",
    "기존의 방식대로 다른 사람의 핸드폰을 구현해야 한다면? 그 수가 엄청 많다면?? 새 파일(모듈)?"
   ]
  },
  {
   "cell_type": "markdown",
   "metadata": {},
   "source": [
    "# 클래스 및 인스턴스"
   ]
  },
  {
   "cell_type": "markdown",
   "metadata": {},
   "source": [
    "## 클래스 정의하기 (클래스 객체 생성하기)\n",
    "\n",
    "```python\n",
    "class ClassName:\n",
    "    \n",
    "```\n",
    "* 클래스 이름은 camel case로 씀. 다른 변수나 함수 이름은 snake case 사용\n",
    "\n",
    "* 선언과 동시에 클래스 객체가 생성됨.\n",
    "\n",
    "* 또한, 선언된 공간은 지역 스코프로 사용된다.\n",
    "\n",
    "* 정의된 어트리뷰트 중 변수는 멤버 변수로 불리운다.\n",
    "\n",
    "* 정의된 함수(`def`)는 메서드로 불리운다."
   ]
  },
  {
   "cell_type": "code",
   "execution_count": null,
   "metadata": {},
   "outputs": [],
   "source": [
    "# Class를 만들어봅시다."
   ]
  },
  {
   "cell_type": "code",
   "execution_count": null,
   "metadata": {},
   "outputs": [],
   "source": [
    "class TestClass:\n",
    "    '''\n",
    "    This is TestClass\n",
    "    Hi there!\n",
    "    '''\n",
    "    name = 'TestClass' # 멤버 변수    "
   ]
  },
  {
   "cell_type": "code",
   "execution_count": null,
   "metadata": {},
   "outputs": [],
   "source": [
    "print(type(TestClass))"
   ]
  },
  {
   "cell_type": "markdown",
   "metadata": {},
   "source": [
    "## 인스턴스 생성하기\n",
    "\n",
    "* 인스턴스 객체는 `ClassName()`을 호출함으로써 선언된다.\n",
    "\n",
    "* **인스턴스 객체와 클래스 객체는 서로 다른 이름 공간을 가지고 있다.**\n",
    "  -> 서로가 서로에게 독립적이라는 얘기\n",
    "\n",
    "* **인스턴스 => 클래스 => 전역 순으로 탐색을 한다.**\n",
    "\n",
    "```python\n",
    "# 인스턴스 = 클래스()\n",
    "puppy = Dog()\n",
    "```\n",
    "- 클래스는 특정 개념을 표현만 할뿐 사용하려면 인스턴스를 생성해야 한다."
   ]
  },
  {
   "cell_type": "code",
   "execution_count": null,
   "metadata": {},
   "outputs": [],
   "source": [
    "# TestClass 의 인스턴스를 만들어 봅시다."
   ]
  },
  {
   "cell_type": "code",
   "execution_count": null,
   "metadata": {},
   "outputs": [],
   "source": [
    "tc = TestClass()\n",
    "print(type(tc))\n",
    "print(tc.__doc__) # docString 접근"
   ]
  },
  {
   "cell_type": "code",
   "execution_count": null,
   "metadata": {},
   "outputs": [],
   "source": [
    "# namespace..?"
   ]
  },
  {
   "cell_type": "code",
   "execution_count": null,
   "metadata": {},
   "outputs": [],
   "source": [
    "print(tc.name) # tc에는 name이 없지만 TestClass의 name을 찾아 가져옴\n",
    "tc.name = 'tc' # tc라는 독립적인 공간에 새로 name을 정의 -> 더 이상 클래스를 참조하지 않게 됨\n",
    "print(tc.name) # tc의 name을 가져오게 됨\n",
    "# 중요한 것은 그렇다고 TestClass의 name이 바뀌거나 사라지는 것은 아님(존재하는 위치 자체가 서로 다른 곳이므로)"
   ]
  },
  {
   "cell_type": "code",
   "execution_count": null,
   "metadata": {},
   "outputs": [],
   "source": [
    "# Phone 클래스를 만들어봅시다."
   ]
  },
  {
   "cell_type": "markdown",
   "metadata": {},
   "source": [
    "* 선언시 `self`는 반드시 작성해주세요! 아래에서 다시 다룹니다."
   ]
  },
  {
   "cell_type": "code",
   "execution_count": null,
   "metadata": {},
   "outputs": [],
   "source": [
    "class Phone:\n",
    "    power = False\n",
    "    number = ''\n",
    "    book = {}\n",
    "    model = 'Galaxy Note10'\n",
    "    # 위 각각은 멤버 변수임\n",
    "    \n",
    "    def on(self):\n",
    "        if not self.power:\n",
    "            self.power = True\n",
    "            print('-----------')\n",
    "            print(f'{self.model}')\n",
    "            print('-----------')\n",
    "    \n",
    "    \n",
    "    def off(self):\n",
    "        if self.power:\n",
    "            self.power = False\n",
    "            print('Good Bye')"
   ]
  },
  {
   "cell_type": "code",
   "execution_count": null,
   "metadata": {},
   "outputs": [],
   "source": [
    "p = Phone()\n",
    "print(p.model)"
   ]
  },
  {
   "cell_type": "code",
   "execution_count": null,
   "metadata": {},
   "outputs": [],
   "source": [
    "# 클래스 Phone 인스턴스 'my_phone' 를 만들어봅시다. "
   ]
  },
  {
   "cell_type": "code",
   "execution_count": null,
   "metadata": {},
   "outputs": [],
   "source": [
    "my_phone = Phone()"
   ]
  },
  {
   "cell_type": "code",
   "execution_count": null,
   "metadata": {},
   "outputs": [],
   "source": [
    "# 켜져 있나 확인해 봅시다."
   ]
  },
  {
   "cell_type": "code",
   "execution_count": null,
   "metadata": {},
   "outputs": [],
   "source": [
    "print(my_phone.power)"
   ]
  },
  {
   "cell_type": "code",
   "execution_count": null,
   "metadata": {},
   "outputs": [],
   "source": [
    "# 새 폰은 꺼져있으니 켜 봅시다."
   ]
  },
  {
   "cell_type": "code",
   "execution_count": null,
   "metadata": {},
   "outputs": [],
   "source": [
    "my_phone.on()"
   ]
  },
  {
   "cell_type": "code",
   "execution_count": null,
   "metadata": {},
   "outputs": [],
   "source": [
    "# 전원 상태를 확인해 봅시다."
   ]
  },
  {
   "cell_type": "code",
   "execution_count": null,
   "metadata": {},
   "outputs": [],
   "source": [
    "print(my_phone.power)"
   ]
  },
  {
   "cell_type": "code",
   "execution_count": null,
   "metadata": {},
   "outputs": [],
   "source": [
    "# 폰의 모델명을 확인해 봅시다."
   ]
  },
  {
   "cell_type": "code",
   "execution_count": null,
   "metadata": {},
   "outputs": [],
   "source": [
    "my_phone.model"
   ]
  },
  {
   "cell_type": "code",
   "execution_count": null,
   "metadata": {},
   "outputs": [],
   "source": [
    "# 모델을 바꿔 봅시다."
   ]
  },
  {
   "cell_type": "code",
   "execution_count": null,
   "metadata": {},
   "outputs": [],
   "source": [
    "my_phone.model = 'iPhone XS MAX'"
   ]
  },
  {
   "cell_type": "code",
   "execution_count": null,
   "metadata": {},
   "outputs": [],
   "source": [
    "# 폰 모델을 다시 확인해 봅시다."
   ]
  },
  {
   "cell_type": "code",
   "execution_count": null,
   "metadata": {},
   "outputs": [],
   "source": [
    "my_phone.model"
   ]
  },
  {
   "cell_type": "code",
   "execution_count": null,
   "metadata": {},
   "outputs": [],
   "source": [
    "# 폰을 껐다 켜 봅시다."
   ]
  },
  {
   "cell_type": "code",
   "execution_count": null,
   "metadata": {},
   "outputs": [],
   "source": [
    "my_phone.off()\n",
    "my_phone.on()"
   ]
  },
  {
   "cell_type": "code",
   "execution_count": null,
   "metadata": {},
   "outputs": [],
   "source": [
    "# my_phone 이 Phone 클래스의 인스턴스인지 확인해 봅시다."
   ]
  },
  {
   "cell_type": "code",
   "execution_count": null,
   "metadata": {},
   "outputs": [],
   "source": [
    "# isinstance(인스턴스, 클래스)\n",
    "isinstance(my_phone, Phone)"
   ]
  },
  {
   "cell_type": "code",
   "execution_count": null,
   "metadata": {},
   "outputs": [],
   "source": [
    "# 같은 질문이지만, 다르게 물어 봅시다."
   ]
  },
  {
   "cell_type": "code",
   "execution_count": null,
   "metadata": {},
   "outputs": [],
   "source": [
    "type(my_phone) == Phone"
   ]
  },
  {
   "cell_type": "code",
   "execution_count": null,
   "metadata": {},
   "outputs": [],
   "source": [
    "# type을 확인해봅시다."
   ]
  },
  {
   "cell_type": "code",
   "execution_count": null,
   "metadata": {},
   "outputs": [],
   "source": [
    "type(my_phone)"
   ]
  },
  {
   "cell_type": "code",
   "execution_count": null,
   "metadata": {},
   "outputs": [],
   "source": [
    "# my_phone 을 출력해 봅시다."
   ]
  },
  {
   "cell_type": "code",
   "execution_count": null,
   "metadata": {},
   "outputs": [],
   "source": [
    "print(my_phone)"
   ]
  },
  {
   "cell_type": "code",
   "execution_count": null,
   "metadata": {},
   "outputs": [],
   "source": [
    "# my_phone 을 다르게 볼까요?"
   ]
  },
  {
   "cell_type": "code",
   "execution_count": null,
   "metadata": {},
   "outputs": [],
   "source": [
    "my_phone"
   ]
  },
  {
   "cell_type": "markdown",
   "metadata": {},
   "source": [
    "- Python 출력의 비밀: `__str__`과 `__retr__`\n",
    "    - 특정 객체를 print() 할 때 보이는 값과 객체 자체를 보여주는 값을 임의로 바꿔줄 수 있다."
   ]
  },
  {
   "cell_type": "code",
   "execution_count": null,
   "metadata": {},
   "outputs": [],
   "source": [
    "class Phone:\n",
    "    power = False\n",
    "    number = ''\n",
    "    book = {}\n",
    "    model = 'Galaxy Note10'\n",
    "    # 위 각각은 멤버 변수임\n",
    "    \n",
    "    def on(self):\n",
    "        if not self.power:\n",
    "            self.power = True\n",
    "            print('-----------')\n",
    "            print(f'{self.model}')\n",
    "            print('-----------')\n",
    "    \n",
    "    \n",
    "    def off(self):\n",
    "        if self.power:\n",
    "            self.power = False\n",
    "            print('Good Bye')\n",
    "            \n",
    "    \n",
    "    # 아래 두 개는 실제 출력값을 바꿔주는 매직메서드\n",
    "    def __str__(self):\n",
    "        return 'print 안에 넣으면 이렇게 나오고'\n",
    "    \n",
    "    \n",
    "    def __repr__(self):\n",
    "        return '그냥 객체만 놔두면 이게 나옴'"
   ]
  },
  {
   "cell_type": "code",
   "execution_count": null,
   "metadata": {},
   "outputs": [],
   "source": [
    "p = Phone()\n",
    "print(p)"
   ]
  },
  {
   "cell_type": "code",
   "execution_count": null,
   "metadata": {},
   "outputs": [],
   "source": [
    "p"
   ]
  },
  {
   "cell_type": "markdown",
   "metadata": {},
   "source": [
    "### 인스턴스와 객체\n",
    "- 인스턴스와 객체는 같은 것을 의미한다. \n",
    "- 보통 객체만 지칭할 때는 단순히 객체(object)라고 부름. \n",
    "- 하지만 **클래스와 연관지어서 말할 때는 인스턴스(instance)**라고 부름.\n",
    "\n",
    "```python\n",
    "a = int(10)\n",
    "b = int(20)\n",
    "# a, b 는 객체\n",
    "# a, b 는 int 클래스의 인스턴스\n",
    "```"
   ]
  },
  {
   "cell_type": "markdown",
   "metadata": {},
   "source": [
    "## MyList 만들기\n",
    "\n",
    "> 이제 배운 것을 활용하여 나만의 리스트 객체를 만들 수 있습니다. \n",
    ">\n",
    "> `class MyList:`\n",
    ">\n",
    "\n",
    "```\n",
    "* 멤버 변수(클래스 변수)\n",
    "data : 비어 있는 리스트\n",
    "\n",
    "* 메서드 \n",
    "append() : 값을 받아 data 에 추가합니다. 리턴 값은 없습니다.\n",
    "pop() : 마지막에 있는 값을 삭제하고, 해당 값을 리턴합니다.\n",
    "reverse() : 제자리에서 뒤집고 리턴 값은 없습니다.\n",
    "count() : data 리스트 요소의 개수를 리턴합니다.\n",
    "clear() : 값을 모두 삭제합니다. 리턴값은 없습니다.\n",
    "\n",
    "__repr__ : ex) '내 리스트에는 [1, 2, 3] 이 담겨있다.'\n",
    "```"
   ]
  },
  {
   "cell_type": "code",
   "execution_count": null,
   "metadata": {},
   "outputs": [],
   "source": [
    "# 아래에 코드를 작성해주세요."
   ]
  },
  {
   "cell_type": "code",
   "execution_count": null,
   "metadata": {},
   "outputs": [],
   "source": [
    "class MyList:\n",
    "    data = []\n",
    "    \n",
    "    def append(self, element):\n",
    "        self.data += [element]\n",
    "    \n",
    "    \n",
    "    def pop(self):\n",
    "        out = self.data[-1]\n",
    "        self.data = self.data[:-1]\n",
    "        return out\n",
    "    \n",
    "    \n",
    "    def reverse(self):\n",
    "        self.data = self.data[::-1]       \n",
    "            \n",
    "            \n",
    "    def count(self):\n",
    "        return len(self.data)\n",
    "        \n",
    "        \n",
    "    def clear(self):\n",
    "        self.data = []\n",
    "            \n",
    "    \n",
    "    def __repr__(self):\n",
    "        return f'내 리스트에는 {self.data} 이/가 담겨 있다.'"
   ]
  },
  {
   "cell_type": "code",
   "execution_count": null,
   "metadata": {},
   "outputs": [],
   "source": [
    "# 확인해 봅시다. 각 해당 셀을 두번 이상 실행하면 이상하게 동작합니다. Python Tutor 에서 확인해 봅시다.\n",
    "# (모든 객체의 data 가 같은 리스트를 참조합니다.)"
   ]
  },
  {
   "cell_type": "code",
   "execution_count": null,
   "metadata": {},
   "outputs": [],
   "source": [
    "ml = MyList()\n",
    "ml"
   ]
  },
  {
   "cell_type": "code",
   "execution_count": null,
   "metadata": {},
   "outputs": [],
   "source": [
    "ml.append(1)\n",
    "ml"
   ]
  },
  {
   "cell_type": "code",
   "execution_count": null,
   "metadata": {},
   "outputs": [],
   "source": [
    "ml.append(2)\n",
    "ml.append(3)\n",
    "ml"
   ]
  },
  {
   "cell_type": "code",
   "execution_count": null,
   "metadata": {},
   "outputs": [],
   "source": [
    "ml.reverse()\n",
    "ml"
   ]
  },
  {
   "cell_type": "code",
   "execution_count": null,
   "metadata": {},
   "outputs": [],
   "source": [
    "ml.pop()\n",
    "ml"
   ]
  },
  {
   "cell_type": "code",
   "execution_count": null,
   "metadata": {},
   "outputs": [],
   "source": [
    "ml.count()"
   ]
  },
  {
   "cell_type": "code",
   "execution_count": null,
   "metadata": {},
   "outputs": [],
   "source": [
    "ml.clear()\n",
    "ml"
   ]
  },
  {
   "cell_type": "markdown",
   "metadata": {},
   "source": [
    "## 용어 정리\n",
    "\n",
    "```python\n",
    "class Person:                     #=> 클래스 정의(선언, 클래스 객체 생성)\n",
    "    name = 'unknown'              #=> 멤버 변수(data attribute)\n",
    "    \n",
    "    def greeting(self):           #=> 멤버 메서드\n",
    "        return f'{self.name}' \n",
    "```\n",
    "  \n",
    "  \n",
    "    \n",
    "```python\n",
    "richard = Person()      # 인스턴스 객체 생성\n",
    "tim = Person()          # 인스턴스 객체 생성\n",
    "tim.name                # 멤버 변수(클래스 변수) 호출\n",
    "tim.greeting()          # 메서드(인스턴스 메서드) 호출\n",
    "```"
   ]
  },
  {
   "cell_type": "markdown",
   "metadata": {},
   "source": [
    "### 클래스와 인스턴스 변수\n",
    "\n",
    "- 클래스 변수\n",
    "    - 그 클래스의 모든 인스턴스에서 공유되는 어트리뷰트와 메서드를 위한 것\n",
    "    - 모든 인스턴스가 공유\n",
    "    \n",
    "    \n",
    "- 인스턴스 변수\n",
    "    - 인스턴스별 데이터를 위한 것\n",
    "    - 각 인스턴스들의 고유 변수\n",
    "    \n",
    "    \n",
    "```python\n",
    "class Dog:\n",
    "\n",
    "    kind = 'tori'          # 클래스 변수 (모든 인스턴스가 공유)\n",
    "\n",
    "    def __init__(self, name):\n",
    "        self.name = name    # 인스턴스 변수 (각 인스턴스들의 고유 변수)\n",
    "```"
   ]
  },
  {
   "cell_type": "code",
   "execution_count": null,
   "metadata": {},
   "outputs": [],
   "source": [
    "# Person을 만들어봅시다."
   ]
  },
  {
   "cell_type": "code",
   "execution_count": null,
   "metadata": {},
   "outputs": [],
   "source": [
    "class Person:\n",
    "    name = 'unknown'\n",
    "    \n",
    "    def greeting(self):\n",
    "        return f'Hi {self.name}!'"
   ]
  },
  {
   "cell_type": "code",
   "execution_count": null,
   "metadata": {},
   "outputs": [],
   "source": [
    "# 클래스와 인스턴스간의 관계를 확인해 봅시다."
   ]
  },
  {
   "cell_type": "code",
   "execution_count": null,
   "metadata": {},
   "outputs": [],
   "source": [
    "p1 = Person()\n",
    "p1.greeting()"
   ]
  },
  {
   "cell_type": "code",
   "execution_count": null,
   "metadata": {},
   "outputs": [],
   "source": [
    "isinstance(p1, Person)"
   ]
  },
  {
   "cell_type": "markdown",
   "metadata": {},
   "source": [
    "##  `self` : 인스턴스 객체 자기자신\n",
    "\n",
    "* C++ 혹은 자바에서의 this 키워드와 동일함. \n",
    "\n",
    "* 특별한 상황을 제외하고는 **무조건 메서드에서 `self`를 첫번째 인자로 설정한다.**\n",
    "\n",
    "* 메서드는 인스턴스 객체가 함수의 첫번째 인자로 전달되도록 되어있다."
   ]
  },
  {
   "cell_type": "code",
   "execution_count": null,
   "metadata": {},
   "outputs": [],
   "source": [
    "# p1 의 이름을 자기 이름으로 바꾸고 다시 인사해 봅시다."
   ]
  },
  {
   "cell_type": "code",
   "execution_count": null,
   "metadata": {},
   "outputs": [],
   "source": [
    "p1.name = 'g. d. hong'\n",
    "p1.greeting()"
   ]
  },
  {
   "cell_type": "code",
   "execution_count": null,
   "metadata": {},
   "outputs": [],
   "source": [
    "# 아까부터 궁금했던, 메서드 1번 인자 self 는 어디에 있는걸까요?"
   ]
  },
  {
   "cell_type": "code",
   "execution_count": null,
   "metadata": {},
   "outputs": [],
   "source": [
    "Person.greeting(p1) # self를 쓰는 이유"
   ]
  },
  {
   "cell_type": "markdown",
   "metadata": {},
   "source": [
    "* 실제 p1 이 들어갔을 때 작업하는 방식은 아래와 같음 (클래스가 중심이 됨)\n",
    "```python\n",
    "class Person:\n",
    "    name = 'unknown'\n",
    "    \n",
    "    def greeting(p1):\n",
    "        return f'Hi {p1.name}!'\n",
    "```"
   ]
  },
  {
   "cell_type": "markdown",
   "metadata": {},
   "source": [
    "## 클래스-인스턴스간의 이름공간\n",
    "\n",
    "* 클래스를 정의하면, 클래스 객체가 생성되고 해당되는 이름 공간이 생성된다. \n",
    "\n",
    "* 인스턴스를 만들게 되면, 인스턴스 객체가 생성되고 해당되는 이름 공간이 생성된다. \n",
    "\n",
    "* 인스턴스의 어트리뷰트가 변경되면, 변경된 데이터를 인스턴스 객체 이름 공간에 저장한다.\n",
    "\n",
    "* 즉, 인스턴스에서 특정한 어트리뷰트에 접근하게 되면 인스턴스 => 클래스 순으로 탐색을 한다."
   ]
  },
  {
   "cell_type": "code",
   "execution_count": null,
   "metadata": {},
   "outputs": [],
   "source": [
    "# 클래스 선언코드에서 메서드를 정의할 때, 왜 self 를 꼭 써준걸까요?"
   ]
  },
  {
   "cell_type": "markdown",
   "metadata": {},
   "source": [
    "```python\n",
    "class Person:\n",
    "    name = 'unknown'\n",
    "    \n",
    "    def greeting(self):\n",
    "        return f'Hi {name}!'\n",
    "    \n",
    "p2 = Person()\n",
    "p2.greeting()\n",
    "```\n",
    "* 위 코드는 동작하지 않음.\n",
    "    * 생성된 객체는 method scope 안에서 name이 정의되지 않았기 때문에 모르는 것임\n",
    "    "
   ]
  },
  {
   "cell_type": "code",
   "execution_count": null,
   "metadata": {},
   "outputs": [],
   "source": [
    "class Person:\n",
    "    name = 'unknown'\n",
    "    \n",
    "    def greeting(self):\n",
    "        return f'Hi {name}!' # 함수 내에서 name을 찾으려고 하니 없어서 오류가 나는 것!\n",
    "    \n",
    "p2 = Person()\n",
    "p2.greeting()"
   ]
  },
  {
   "cell_type": "code",
   "execution_count": null,
   "metadata": {},
   "outputs": [],
   "source": [
    "# 아래에서 확인해 봅시다."
   ]
  },
  {
   "cell_type": "code",
   "execution_count": null,
   "metadata": {},
   "outputs": [],
   "source": [
    "# 함수 scope 를 다시한번 짚고 넘어갑시다.\n",
    "p2.name\n",
    "# 이것은 출력됨. 왜냐하면 instance -> class 순으로 찾다가 class에서 찾은 name 이기 때문"
   ]
  },
  {
   "cell_type": "code",
   "execution_count": null,
   "metadata": {},
   "outputs": [],
   "source": [
    "# 다시, 클래스 선언코드에서 메서드를 정의할 때, 왜 self 를 꼭 써준걸까요?"
   ]
  },
  {
   "cell_type": "code",
   "execution_count": null,
   "metadata": {},
   "outputs": [],
   "source": [
    "class Person:\n",
    "    name = 'unknown'\n",
    "    \n",
    "    def greeting(self):\n",
    "        return f'Hi {self.name}!' # 이번에는 '내 이름' 을 찾음(p2.name 찾는 방식과 같아지는 것임)"
   ]
  },
  {
   "cell_type": "code",
   "execution_count": null,
   "metadata": {},
   "outputs": [],
   "source": [
    "# 아래에서 확인해 봅시다."
   ]
  },
  {
   "cell_type": "code",
   "execution_count": null,
   "metadata": {},
   "outputs": [],
   "source": [
    "p2 = Person()\n",
    "p2.greeting()\n",
    "# 현재 출력되고 있는 것은 p2의 name 처럼 보이지만, p2는 name이 없음\n",
    "# 즉, p2.name 과 같이 자체 name 을 찾지만 없는 걸 알고 class 로 가서 name 을 찾은 것"
   ]
  },
  {
   "cell_type": "code",
   "execution_count": null,
   "metadata": {},
   "outputs": [],
   "source": [
    "# 아래에서 p2 객체에게 이름을 지어 줍시다."
   ]
  },
  {
   "cell_type": "code",
   "execution_count": null,
   "metadata": {},
   "outputs": [],
   "source": [
    "p2.name = 'jack'\n",
    "p2.name"
   ]
  },
  {
   "cell_type": "code",
   "execution_count": null,
   "metadata": {},
   "outputs": [],
   "source": [
    "# python tutor 를 통해 확인해 봅시다.\n",
    "IFrame('http://bit.do/oop_instro_00', width='100%', height='500px')"
   ]
  },
  {
   "cell_type": "markdown",
   "metadata": {},
   "source": [
    "## 생성자 / 소멸자\n",
    "\n",
    "* 생성자\n",
    "    - 인스턴스 객체가 생성될 때 호출되는 함수.\n",
    "    \n",
    "    \n",
    "* 소멸자\n",
    "    - 인스턴스 객체가 소멸(파괴)되기 직전에 호출되는 함수.\n",
    "\n",
    "\n",
    "```python\n",
    "def __init__(self):\n",
    "    print('생성될 때 자동으로 호출되는 메서드입니다.')\n",
    "    \n",
    "def __del__(self):\n",
    "    print('소멸될 때 자동으로 호출되는 메서드입니다.')\n",
    "```\n",
    "\n",
    "```\n",
    "__someting__\n",
    "```\n",
    "\n",
    "위의 형식처럼 양쪽에 언더스코어가 있는 메서드를 `스페셜 메서드` 혹은 `매직 메서드`라고 불립니다."
   ]
  },
  {
   "cell_type": "code",
   "execution_count": null,
   "metadata": {},
   "outputs": [],
   "source": [
    "# 생성자와 소멸자를 만들어봅시다."
   ]
  },
  {
   "cell_type": "code",
   "execution_count": null,
   "metadata": {},
   "outputs": [],
   "source": [
    "class Person:\n",
    "    \n",
    "    def __init__(self):\n",
    "        print('응애에요~ 아싸 호랑나비')\n",
    "    \n",
    "    \n",
    "    def __del__(self):\n",
    "        print('호랑나비가 날아갔네')"
   ]
  },
  {
   "cell_type": "code",
   "execution_count": null,
   "metadata": {},
   "outputs": [],
   "source": [
    "# 생성해 봅시다."
   ]
  },
  {
   "cell_type": "code",
   "execution_count": null,
   "metadata": {},
   "outputs": [],
   "source": [
    "p3 = Person()"
   ]
  },
  {
   "cell_type": "code",
   "execution_count": null,
   "metadata": {},
   "outputs": [],
   "source": [
    "# 소멸시켜 봅시다."
   ]
  },
  {
   "cell_type": "code",
   "execution_count": null,
   "metadata": {},
   "outputs": [],
   "source": [
    "del p3"
   ]
  },
  {
   "cell_type": "code",
   "execution_count": null,
   "metadata": {},
   "outputs": [],
   "source": [
    "# 생성자 역시 메서드(함수)기 때문에 추가인자를 받을 수 있습니다."
   ]
  },
  {
   "cell_type": "code",
   "execution_count": null,
   "metadata": {},
   "outputs": [],
   "source": [
    "class Person:\n",
    "    \n",
    "    def __init__(self, name):\n",
    "        self.name = name\n",
    "        print(f'응애에요~ 아싸 호랑나비~ {self.name} 왔어?')\n",
    "    \n",
    "    \n",
    "    def __del__(self):\n",
    "        print(f'{self.name} 이/가 갔네')"
   ]
  },
  {
   "cell_type": "code",
   "execution_count": null,
   "metadata": {},
   "outputs": [],
   "source": [
    "# 생성과 동시에 인스턴스 변수에 값을 할당합니다."
   ]
  },
  {
   "cell_type": "code",
   "execution_count": null,
   "metadata": {
    "scrolled": true
   },
   "outputs": [],
   "source": [
    "me = Person('k.d. Ko') # 일타 쌍피!\n",
    "print(me.name)\n",
    "\n",
    "print('-----------------------')\n",
    "me = Person('ssafy') # 변수를 같은 이름으로 덮어씌우면 같은 이름의 이전 것을 없애는 격이므로 소멸자가 먼저 실행되고 새롭게 생성자 실행\n",
    "print(me.name)"
   ]
  },
  {
   "cell_type": "markdown",
   "metadata": {},
   "source": [
    "```python\n",
    "a = []\n",
    "result = {}\n",
    "```\n",
    "* 모든 것이 list 또는 dictionary class로 instance를 만든 것임\n",
    "* 그리고 instance 속에서 method를 사용한 것임"
   ]
  },
  {
   "cell_type": "markdown",
   "metadata": {},
   "source": [
    "## 실습 (종합)\n",
    "\n",
    "> 사실 이전에 작성한 Mylist는 완벽하지 않았습니다. \n",
    ">\n",
    "> 한번 제대로 된 자료구조를 만들어보겠습니다. \n",
    ">\n",
    "> `Stack` 클래스를 간략하게 구현해봅시다.\n",
    "\n",
    "> [Stack](https://ko.wikipedia.org/wiki/%EC%8A%A4%ED%83%9D) : 스택은 LIFO(Last in First Out)으로 구조화된 자료구조를 뜻합니다.\n",
    "\n",
    "1. `empty()`: 스택이 비었다면 True을 주고, 그렇지 않다면 False가 된다.\n",
    "\n",
    "2. `top()`: 스택의 가장 마지막 데이터를 넘겨준다. 스택이 비었다면 None을 리턴한다.\n",
    "\n",
    "3. `pop()`: 스택의 가장 마지막 데이터의 값을 넘겨주고, 해당 데이터를 삭제한다. 스택이 비었다면 None을 리턴한다.\n",
    "\n",
    "4. `push()`: 스택의 가장 마지막 데이터 뒤에 값을 추가한다. 리턴 값은 없다.\n",
    "\n",
    "**다 작성했다면 __repr__ 을 통해 예쁘게 출력까지 해봅시다.**"
   ]
  },
  {
   "cell_type": "code",
   "execution_count": null,
   "metadata": {},
   "outputs": [],
   "source": [
    "# 여기에 코드를 작성해주세요."
   ]
  },
  {
   "cell_type": "code",
   "execution_count": null,
   "metadata": {},
   "outputs": [],
   "source": [
    "class Stack:    \n",
    "    def __init__(self):\n",
    "        self.items = []\n",
    "    \n",
    "    \n",
    "    def empty(self):\n",
    "#         if not len(self.items):\n",
    "#             return True\n",
    "#         else:\n",
    "#             return False\n",
    "        return not bool(self.items)\n",
    "\n",
    "\n",
    "    def top(self):\n",
    "        if self.items:\n",
    "            return self.items[-1]\n",
    "\n",
    "\n",
    "    def pop(self):\n",
    "#         if not len(self.items):\n",
    "#             return None\n",
    "#         else:\n",
    "#             popped = self.items[-1]\n",
    "#             self.items = self.items[:-1]\n",
    "#             return popped\n",
    "        if not self.empty():\n",
    "            return self.items.pop()\n",
    "    \n",
    "    \n",
    "    def push(self, element):\n",
    "#         self.items += [element]\n",
    "        self.items.append(element)\n",
    "        \n",
    "    \n",
    "    def __repr__(self):\n",
    "        return f'하하 성공이냐 이거 {self.items} 오다 주웠다'"
   ]
  },
  {
   "cell_type": "code",
   "execution_count": null,
   "metadata": {},
   "outputs": [],
   "source": [
    "test = Stack()\n",
    "print(test.empty())\n",
    "test"
   ]
  },
  {
   "cell_type": "code",
   "execution_count": null,
   "metadata": {},
   "outputs": [],
   "source": [
    "test.push(3)\n",
    "test.push(2)\n",
    "test.push(1)\n",
    "test.push(0)"
   ]
  },
  {
   "cell_type": "code",
   "execution_count": null,
   "metadata": {},
   "outputs": [],
   "source": [
    "print(test.pop())"
   ]
  },
  {
   "cell_type": "code",
   "execution_count": null,
   "metadata": {},
   "outputs": [],
   "source": [
    "test.empty()"
   ]
  },
  {
   "cell_type": "code",
   "execution_count": null,
   "metadata": {},
   "outputs": [],
   "source": [
    "print(test.top())\n",
    "print(test.items)\n",
    "test"
   ]
  },
  {
   "cell_type": "markdown",
   "metadata": {},
   "source": [
    "## 포켓몬 구현하기\n",
    "\n",
    "> 피카츄를 클래스-인스턴스로 구현해 봅시다. 게임을 만든다면 아래와 같이 먼저 기획을 하고 코드로 구현하게 됩니다.\n",
    "우선 아래와 같이 구현해 보고, 추가로 본인이 원하는 대로 구현 및 수정해 봅시다.\n",
    "\n",
    "모든 피카츄는 다음과 같은 속성을 갖습니다.\n",
    "* `name`: 이름\n",
    "* `level`: 레벨\n",
    "    * 레벨은 시작할 때 모두 5 입니다.\n",
    "* `hp`: 체력\n",
    "    * 체력은 `level` * 20 입니다.\n",
    "* `exp`: 경험치\n",
    "    * 상대방을 쓰러뜨리면 상대방 `level` * 15 를 획득합니다.\n",
    "    * 경험치는 `level` * 100 이 되면, 레벨이 하나 올라가고 0부터 추가 됩니다. \n",
    "\n",
    "모든 피카츄는 다음과 같은 행동(메서드)을 할 수 있습니다.\n",
    "* `bark()`: 울기. `'pikachu'` 를 출력합니다.\n",
    "* `body_attack()`: 몸통박치기. 상대방의 hp 를 내 `level` * 5 만큼 차감합니다.\n",
    "* `million_volt()`: 백만볼트. 상대방의 hp 를 내 `level` * 7 만큼 차감합니다."
   ]
  },
  {
   "cell_type": "code",
   "execution_count": null,
   "metadata": {},
   "outputs": [],
   "source": [
    "# 아래에 코드를 작성해주세요."
   ]
  },
  {
   "cell_type": "code",
   "execution_count": null,
   "metadata": {},
   "outputs": [],
   "source": [
    "class Pika():\n",
    "    def __init__(self, name='Pikachu'):\n",
    "        self.name = name\n",
    "        self.level = 5\n",
    "        self.hp = self.level * 20\n",
    "    \n",
    "#     if not opponent.hp:\n",
    "#         self.exp += opponent.level * 15\n",
    "        \n",
    "#     if self.exp >= level*100:\n",
    "#         self.level += 1\n",
    "#         self.exp = 0\n",
    "        \n",
    "    \n",
    "    def bark(self):\n",
    "        return 'pikachu'\n",
    "    \n",
    "    \n",
    "    def body_attack(self, opponent):\n",
    "        damage = self.level * 5\n",
    "        opponent.hp -= damage\n",
    "        return f'상대에게 {damage} 만큼의 피해를 입혔다.'\n",
    "    \n",
    "    \n",
    "    def million_volt(self, opponent):\n",
    "        damage = self.level * 7\n",
    "        opponent.hp -= damage\n",
    "        return f'상대에게 {damage} 만큼의 피해를 입혔다.'\n",
    "    \n",
    "    \n",
    "    def __repr__(self):\n",
    "        return f'lv: {self.level}, hp: {self.hp}'"
   ]
  },
  {
   "cell_type": "code",
   "execution_count": null,
   "metadata": {},
   "outputs": [],
   "source": [
    "p1 = Pika()\n",
    "p2 = Pika('Mewtwo')"
   ]
  },
  {
   "cell_type": "code",
   "execution_count": null,
   "metadata": {},
   "outputs": [],
   "source": [
    "p1.bark()\n",
    "p2.bark()"
   ]
  },
  {
   "cell_type": "code",
   "execution_count": null,
   "metadata": {},
   "outputs": [],
   "source": [
    "print(p1.body_attack(p2))"
   ]
  },
  {
   "cell_type": "code",
   "execution_count": null,
   "metadata": {},
   "outputs": [],
   "source": [
    "print(p2.hp)"
   ]
  },
  {
   "cell_type": "code",
   "execution_count": null,
   "metadata": {},
   "outputs": [],
   "source": [
    "p2.million_volt(p1)"
   ]
  },
  {
   "cell_type": "code",
   "execution_count": null,
   "metadata": {},
   "outputs": [],
   "source": [
    "p1.hp"
   ]
  },
  {
   "cell_type": "code",
   "execution_count": null,
   "metadata": {},
   "outputs": [],
   "source": [
    "p1"
   ]
  },
  {
   "cell_type": "code",
   "execution_count": null,
   "metadata": {},
   "outputs": [],
   "source": [
    "#참고 코드\n",
    "class Pikachu:\n",
    "    def __init__(self,name):\n",
    "        self.name = name\n",
    "        self.level = 5\n",
    "        self.hp = self.level * 20\n",
    "        self.exp = 0\n",
    "        \n",
    "    def get_exp(self,level):\n",
    "        # 만약 500이 필요한데 얻어서 515가 됬다면,\n",
    "        # 레벨업 하고, 515 - 500 만큼이 다음 경험치가 되어야겠다\n",
    "        \n",
    "        self.exp += level * 15\n",
    "        print(f\"🎉 {level*15}의 경험치를 획득했다!🎉\")\n",
    "        print(f\"📊 남은 경험치 {self.exp} / {self.level*100}\")\n",
    "        if self.exp >= self.level * 100 :\n",
    "            self.level +=1\n",
    "            self.exp = self.exp - (self.level * 100)\n",
    "            print(\"\\n\")\n",
    "            print(f\"🌟🌟🌟🌟🌟🌟🌟🌟🌟\")\n",
    "            print(f\"🎊 레벨이 {self.level}이 되었다! 🎊\")\n",
    "            print(f\"🌟🌟🌟🌟🌟🌟🌟🌟🌟\\n\")\n",
    "        \n",
    "    def bark(self):\n",
    "        print(f\"{self.name} : 왈왈 피카츄\")\n",
    "        print(\"🍃효과는 미미했다..\")\n",
    "        \n",
    "    def print_damage(self,enemy,damage):\n",
    "         print(f\"💥 {self.name}(이)가 {enemy.name}에게 {damage}의 피해를 줬다!\")\n",
    "    \n",
    "    def print_died_pikachu(self,enemy):\n",
    "        print(f\"💀 이미 먼지가 된 {enemy.name}을(를) 공격할 수 없습니다..\")\n",
    "    \n",
    "    def isCorrectPikachu(self,enemy):\n",
    "        if type(enemy) == type(self):\n",
    "            return True\n",
    "        else:\n",
    "            return False\n",
    "    \n",
    "    def body_attack(self,enemy):\n",
    "        if self.isCorrectPikachu(enemy):\n",
    "            if enemy.hp > 0:\n",
    "                print(f\"{self.name} : 몸통박치기!!💨💨\")\n",
    "                damage = self.level * 5\n",
    "                enemy.hp -= damage\n",
    "                \n",
    "                #츌력\n",
    "                self.print_damage(enemy,damage)\n",
    "                self.check_enemy_hp(enemy)\n",
    "                \n",
    "            else:\n",
    "                self.print_died_pikachu(enemy)\n",
    "        else:\n",
    "            print(\"올바른 피카츄를 넣어주세요\")\n",
    "    \n",
    "    def thousond_volt(self,enemy):\n",
    "        if self.isCorrectPikachu(enemy):\n",
    "            if enemy.hp > 0:\n",
    "                print(f\"{self.name} : ⚡ 천만볼트!!! ⚡\")\n",
    "                damage = self.level * 7\n",
    "                enemy.hp -= damage\n",
    "                \n",
    "                # 출력\n",
    "                self.print_damage(enemy,damage)\n",
    "                self.check_enemy_hp(enemy)\n",
    "                \n",
    "            else:\n",
    "                self.print_died_pikachu(enemy)\n",
    "        else:\n",
    "            print(\"올바른 피카츄를 넣어주세요\")\n",
    "    \n",
    "    def check_enemy_hp(self,enemy):\n",
    "        if enemy.hp <= 0:\n",
    "            print(f\"👻 {enemy.name}(을)를 쓰러뜨렸다!\")\n",
    "            self.get_exp(enemy.level)\n",
    "​\n",
    "# 전투\n",
    "import random\n",
    "​\n",
    "pika1 = Pikachu(\"골든피카츄\")\n",
    "pika2 = Pikachu(\"동네피카츄\")\n",
    "​\n",
    "players = [pika1,pika2]\n",
    "​\n",
    "cnt = 0\n",
    "while players[0].hp >= 0 and players[1].hp >= 0:\n",
    "    print(f\"####라운드 {cnt}####\")\n",
    "    print(f\"{players[0].name}의 체력 : {players[0].hp}\")\n",
    "    print(f\"{players[1].name}의 체력 : {players[1].hp}\")\n",
    "    print(\"---------------------------\")\n",
    "    \n",
    "    attacker = random.choice(players)\n",
    "    defencer = players[1] if attacker == players[0] else players[0]\n",
    "    \n",
    "​\n",
    "    skill_number = random.randint(0,2)\n",
    "    \n",
    "    if skill_number == 0:\n",
    "        attacker.bark()\n",
    "    elif skill_number == 1:\n",
    "        attacker.body_attack(defencer)\n",
    "    else:\n",
    "        attacker.thousond_volt(defencer)\n",
    "    \n",
    "    cnt +=1\n",
    "    print(\"\\n\")"
   ]
  },
  {
   "cell_type": "markdown",
   "metadata": {},
   "source": [
    "### Workshop\n",
    "> 다음 조건에 맞는 Circle 클래스를 만들어 보세요.\n",
    "\n",
    "클래스 속성\n",
    "* `pi`: 3.14\n",
    "\n",
    "인스턴스 속성 (초기화 시 필요한 값들)\n",
    "* `r`: 원의 반지름 (필수 입력)\n",
    "* `x`: x좌표 (default 0)\n",
    "* `y`: y좌표 (default 0)\n",
    "\n",
    "인스턴스 메서드\n",
    "* `area()`: 원의 넓이를 반환\n",
    "* `circumference()`: 원의 둘레를 반환\n",
    "* `center()`: 원의 중심인 (x, y) 좌표를 튜플로 반환\n",
    "* `move(x, y)`: 원의 중심인 (x, y) 좌표를 입력받은 값으로 변경하고 변경된 좌표값을 튜플로 반환"
   ]
  },
  {
   "cell_type": "code",
   "execution_count": null,
   "metadata": {},
   "outputs": [],
   "source": [
    "# 여기에 클래스를 정의하세요"
   ]
  },
  {
   "cell_type": "code",
   "execution_count": null,
   "metadata": {},
   "outputs": [],
   "source": [
    "class Circle:\n",
    "    pi = 3.14\n",
    "    \n",
    "    def __init__(self, r, x=0, y=0):\n",
    "        self.r = r        \n",
    "        self.x = x\n",
    "        self.y = y        \n",
    "    \n",
    "    \n",
    "    def area(self):\n",
    "        return self.r**2 * self.pi # Circle.pi\n",
    "    \n",
    "    \n",
    "    def circumference(self):\n",
    "        return 2 * self.r * self.pi # Circle.pi\n",
    "    \n",
    "    \n",
    "    def center(self):\n",
    "        return self.x, self.y\n",
    "    \n",
    "    \n",
    "    def move(self, x, y):\n",
    "        self.x = x\n",
    "        self.y = y\n",
    "        return self.x, self.y"
   ]
  },
  {
   "cell_type": "code",
   "execution_count": null,
   "metadata": {},
   "outputs": [],
   "source": [
    "c1 = Circle(3)\n",
    "c1.center()  # (0, 0)"
   ]
  },
  {
   "cell_type": "code",
   "execution_count": null,
   "metadata": {},
   "outputs": [],
   "source": [
    "c1.move(3, 3)  # (3, 3) 혹은 더 친절한 메세지"
   ]
  },
  {
   "cell_type": "code",
   "execution_count": null,
   "metadata": {},
   "outputs": [],
   "source": [
    "c1.area()"
   ]
  },
  {
   "cell_type": "code",
   "execution_count": null,
   "metadata": {},
   "outputs": [],
   "source": [
    "c2 = Circle(1, 5, 5)\n",
    "c2.center()"
   ]
  },
  {
   "cell_type": "code",
   "execution_count": null,
   "metadata": {},
   "outputs": [],
   "source": [
    "c2.circumference()"
   ]
  },
  {
   "cell_type": "code",
   "execution_count": null,
   "metadata": {},
   "outputs": [],
   "source": [
    "c2.area()"
   ]
  }
 ],
 "metadata": {
  "kernelspec": {
   "display_name": "Python 3",
   "language": "python",
   "name": "python3"
  },
  "language_info": {
   "codemirror_mode": {
    "name": "ipython",
    "version": 3
   },
   "file_extension": ".py",
   "mimetype": "text/x-python",
   "name": "python",
   "nbconvert_exporter": "python",
   "pygments_lexer": "ipython3",
   "version": "3.7.3"
  },
  "latex_envs": {
   "LaTeX_envs_menu_present": true,
   "autoclose": false,
   "autocomplete": true,
   "bibliofile": "biblio.bib",
   "cite_by": "apalike",
   "current_citInitial": 1,
   "eqLabelWithNumbers": true,
   "eqNumInitial": 1,
   "hotkeys": {
    "equation": "Ctrl-E",
    "itemize": "Ctrl-I"
   },
   "labels_anchors": false,
   "latex_user_defs": false,
   "report_style_numbering": false,
   "user_envs_cfg": false
  },
  "toc": {
   "base_numbering": 1,
   "nav_menu": {},
   "number_sections": true,
   "sideBar": true,
   "skip_h1_title": false,
   "title_cell": "Table of Contents",
   "title_sidebar": "Contents",
   "toc_cell": false,
   "toc_position": {
    "height": "calc(100% - 180px)",
    "left": "10px",
    "top": "150px",
    "width": "276.797px"
   },
   "toc_section_display": true,
   "toc_window_display": false
  }
 },
 "nbformat": 4,
 "nbformat_minor": 2
}
