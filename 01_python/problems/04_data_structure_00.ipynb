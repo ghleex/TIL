{
 "cells": [
  {
   "cell_type": "markdown",
   "metadata": {},
   "source": [
    "# 최대공약수, 최소공배수 구하기\n",
    "\n",
    "> 두 수를 입력받아 두 수의 최대공약수와 최소공배수를 반환하는 함수, gcdlcm을 완성해 보세요.\n",
    ">\n",
    "> 배열의 맨 앞에 최대공약수, 그다음 최소공배수를 넣어 반환하면 됩니다. \n",
    ">\n",
    "> 예를 들어 두 수 3, 12의 최대공약수는 3, 최소공배수는 12이므로 `gcdlcm(3, 12)`는 `(3, 12)`를 반환해야 합니다. \n",
    "\n",
    "예시)\n",
    "\n",
    "```python\n",
    "print(gcdlcm(3, 12)) #=> (3, 12)\n",
    "print(gcdlcm(1071, 1029)) #=> (21, 52479)\n",
    "```"
   ]
  },
  {
   "cell_type": "code",
   "execution_count": null,
   "metadata": {},
   "outputs": [],
   "source": [
    "# 여기에 코드를 작성하세요."
   ]
  },
  {
   "cell_type": "code",
   "execution_count": null,
   "metadata": {},
   "outputs": [],
   "source": [
    "# comprehension 사용 x\n",
    "def gcdlcm(x, y):\n",
    "    x, y = min(x, y), max(x, y)\n",
    "    mod = x % y   \n",
    "    for i in range(1, y+1):\n",
    "        if mod > 0:\n",
    "            m = y\n",
    "            n = mod\n",
    "            mod = m % n\n",
    "    gcd = n\n",
    "    lcm = x*y//gcd\n",
    "    return(gcd, lcm)"
   ]
  },
  {
   "cell_type": "code",
   "execution_count": null,
   "metadata": {},
   "outputs": [],
   "source": [
    "print(gcdlcm(3, 12))\n",
    "print(gcdlcm(1029, 1071))"
   ]
  },
  {
   "cell_type": "code",
   "execution_count": null,
   "metadata": {},
   "outputs": [],
   "source": [
    "# lecturer's\n",
    "# 최소공배수 = 두 수의 곱 / 최대공약수\n",
    "# 둘 중 큰 수를 찾아서 작은 수로 나눠나가야 함. 이후 더 이상 큰 수를 나눌 수 없을 때 최대공약수 나옴\n",
    "def gcdlcm_b(m, n):\n",
    "    a, b = max(m, n), min(m, n)    \n",
    "    while b > 0:\n",
    "        a, b = b, a%b    \n",
    "    return (a, int(m*n/a))"
   ]
  },
  {
   "cell_type": "code",
   "execution_count": null,
   "metadata": {},
   "outputs": [],
   "source": [
    "print(gcdlcm_b(12, 3))\n",
    "print(gcdlcm_b(1071, 1029))"
   ]
  },
  {
   "cell_type": "markdown",
   "metadata": {},
   "source": [
    "# 불쌍한 달팽이 - 고전 수학문제\n",
    "\n",
    ">달팽이는 낮 시간 동안에 기둥을 올라갑니다. 하지만 밤에는 잠을 자면서 어느 정도의 거리만큼미끄러집니다. (낮 시간 동안 올라간 거리보다는 적게 미끄러집니다) 달팽이가 기둥의 꼭대기에 도달하는 날까지 걸리는 시간을 계산하면 됩니다.\n",
    "\n",
    "> 당신의 함수에 들어가야 하는 3개의 인자는 다음과 같습니다.\n",
    "- 기둥의 높이(미터)\n",
    "- 낮 시간 동안 달팽이가 올라가는 거리(미터)\n",
    "- 달팽이가 야간에 잠을 자는 동안 미끄러지는 거리(미터)\n",
    "\n",
    "```python\n",
    "snail(100, 5, 2)\n",
    "# => 33\n",
    "```"
   ]
  },
  {
   "cell_type": "code",
   "execution_count": null,
   "metadata": {},
   "outputs": [],
   "source": [
    "# 여기에 코드를 작성하세요"
   ]
  },
  {
   "cell_type": "code",
   "execution_count": null,
   "metadata": {},
   "outputs": [],
   "source": [
    "def snail(height, climb, slip):\n",
    "    if climb < slip:\n",
    "        return '올라간 거리와 미끄러진 거리를 다시 확인하세요'\n",
    "    else:\n",
    "        return height // (climb-slip)"
   ]
  },
  {
   "cell_type": "code",
   "execution_count": null,
   "metadata": {},
   "outputs": [],
   "source": [
    "print(snail(100, 2, 5))"
   ]
  },
  {
   "cell_type": "code",
   "execution_count": null,
   "metadata": {},
   "outputs": [],
   "source": [
    "print(snail(100, 5, 2))"
   ]
  },
  {
   "cell_type": "code",
   "execution_count": null,
   "metadata": {},
   "outputs": [],
   "source": [
    "# lecturer's\n",
    "# 높이를 기준으로 낮시간 값은 높이-낮시간 / 밤시간 값은 높이+밤시간\n",
    "def snail2(height, day, night):\n",
    "    count = 0\n",
    "    # 남은 높이가 0이되거나 0보다 작아지는 순간 반복문이 종료.\n",
    "    while True:\n",
    "        count += 1\n",
    "        height -= day\n",
    "        if height <= 0:\n",
    "            return count\n",
    "        height += night"
   ]
  },
  {
   "cell_type": "code",
   "execution_count": null,
   "metadata": {},
   "outputs": [],
   "source": [
    "print(snail2(100, 5, 2))"
   ]
  },
  {
   "cell_type": "markdown",
   "metadata": {},
   "source": [
    "# 무엇이 중복일까\n",
    "\n",
    "> 다음 리스트에서 중복되는 요소만 뽑아서 새로운 리스트에 옮기시오. \n",
    "\n",
    "```python\n",
    "# 입력)\n",
    "duplicated(['a', 'b', 'c', 'b', 'd', 'm', 'n', 'n', 'b'])\n",
    "\n",
    "# 출력)\n",
    "['b', 'n']\n",
    "```"
   ]
  },
  {
   "cell_type": "code",
   "execution_count": null,
   "metadata": {
    "scrolled": false
   },
   "outputs": [],
   "source": [
    "# 여기에 코드를 작성하시오."
   ]
  },
  {
   "cell_type": "code",
   "execution_count": null,
   "metadata": {},
   "outputs": [],
   "source": [
    "def duplicated(lists):    \n",
    "    result = []\n",
    "    for i in lists:\n",
    "        count = 0\n",
    "        for j in range(len(lists)):\n",
    "            if i == lists[j]:\n",
    "                count += 1                \n",
    "        if count > 1 and i not in result:\n",
    "            result.append(i)\n",
    "                \n",
    "    return result"
   ]
  },
  {
   "cell_type": "code",
   "execution_count": null,
   "metadata": {},
   "outputs": [],
   "source": [
    "duplicated(['a', 'b', 'c', 'b', 'd', 'm', 'n', 'n', 'b'])"
   ]
  },
  {
   "cell_type": "code",
   "execution_count": null,
   "metadata": {},
   "outputs": [],
   "source": [
    "# .count()\n",
    "# 특정 리스트 내 괄호 안에 있는 녀석이 몇 개 있는지\n",
    "def duplicated2(words):\n",
    "    duplicates = []\n",
    "    for word in words:\n",
    "        # 만약 1. 현재 단어가 리스트에 2개 이상 있으면서\n",
    "        # 2. duplicates에 없다면\n",
    "        # duplicates에 값 추가!!\n",
    "        if words.count(word) > 1 and word not in duplicates:\n",
    "            duplicates.append(word)\n",
    "    return duplicates"
   ]
  },
  {
   "cell_type": "code",
   "execution_count": null,
   "metadata": {},
   "outputs": [],
   "source": [
    "duplicated2(['a', 'b', 'c', 'b', 'd', 'm', 'n', 'n', 'b'])"
   ]
  },
  {
   "cell_type": "code",
   "execution_count": null,
   "metadata": {},
   "outputs": [],
   "source": [
    "# .set()\n",
    "def duplicated3(words):\n",
    "    return list({word for word in words if words.count(word) > 1})"
   ]
  },
  {
   "cell_type": "code",
   "execution_count": null,
   "metadata": {},
   "outputs": [],
   "source": [
    "duplicated3(['a', 'b', 'c', 'b', 'd', 'm', 'n', 'n', 'b'])"
   ]
  },
  {
   "cell_type": "markdown",
   "metadata": {},
   "source": [
    "# 알파벳만 남기고 뒤집기\n",
    "\n",
    "> 문자열이 주어지면, 해당 문자열 중에서 알파벳이 아닌 문자는 전부 빼고 거꾸로 뒤집어 반환하는 함수를 작성하세요.\n",
    "\n",
    "```python\n",
    "# 예시) \n",
    "reverse_letter('krishan')\n",
    "'nahsirk'\n",
    "\n",
    "reverse_letter('ultr53o?n')\n",
    "'nortlu'\n",
    "```"
   ]
  },
  {
   "cell_type": "code",
   "execution_count": null,
   "metadata": {},
   "outputs": [],
   "source": [
    "# 여기에 코드를 작성하세요"
   ]
  },
  {
   "cell_type": "code",
   "execution_count": null,
   "metadata": {},
   "outputs": [],
   "source": [
    "def reverse_letter(strings):\n",
    "    result = []\n",
    "    for i in strings[-1::-1]:\n",
    "        if 65<=ord(i)<=90 or 97<=ord(i)<=122:\n",
    "            result.append(i)\n",
    "    return ''.join(result)"
   ]
  },
  {
   "cell_type": "code",
   "execution_count": null,
   "metadata": {
    "scrolled": true
   },
   "outputs": [],
   "source": [
    "print(reverse_letter('krishan'))\n",
    "print(reverse_letter('ultr53o?n'))"
   ]
  },
  {
   "cell_type": "code",
   "execution_count": null,
   "metadata": {},
   "outputs": [],
   "source": [
    "def reverse_letter_comp(strings):\n",
    "    return ''.join([i for i in strings[-1::-1] if 65<=ord(i)<=90 or 97<=ord(i)<=122 ])"
   ]
  },
  {
   "cell_type": "code",
   "execution_count": null,
   "metadata": {},
   "outputs": [],
   "source": [
    "print(reverse_letter_comp('krishan'))\n",
    "print(reverse_letter_comp('ultr53o?n'))"
   ]
  },
  {
   "cell_type": "code",
   "execution_count": null,
   "metadata": {},
   "outputs": [],
   "source": [
    "# lecturer's 1.\n",
    "def reverse_letter_2(strings):\n",
    "    result = []\n",
    "    for word in strings:\n",
    "        if word.isalpha():\n",
    "            result.append(word)\n",
    "    return ''.join(result[::-1])"
   ]
  },
  {
   "cell_type": "code",
   "execution_count": null,
   "metadata": {},
   "outputs": [],
   "source": [
    "print(reverse_letter_2('krishan'))\n",
    "print(reverse_letter_2('ultr53o?n'))"
   ]
  },
  {
   "cell_type": "code",
   "execution_count": null,
   "metadata": {},
   "outputs": [],
   "source": [
    "def reverse_letter_3(strings):\n",
    "    result = ''.join([word for word in strings if word.isalpha()])\n",
    "    return result[::-1]"
   ]
  },
  {
   "cell_type": "code",
   "execution_count": null,
   "metadata": {},
   "outputs": [],
   "source": [
    "print(reverse_letter_3('krishan'))\n",
    "print(reverse_letter_3('ultr53o?n'))"
   ]
  },
  {
   "cell_type": "code",
   "execution_count": null,
   "metadata": {},
   "outputs": [],
   "source": [
    "def reverse_letter_4(strings):\n",
    "    result=''\n",
    "    for word in strings:\n",
    "        if word.isalpha():\n",
    "            result += word\n",
    "    return result[::-1]"
   ]
  },
  {
   "cell_type": "code",
   "execution_count": null,
   "metadata": {},
   "outputs": [],
   "source": [
    "print(reverse_letter_4('krishan'))\n",
    "print(reverse_letter_4('ultr53o?n'))"
   ]
  },
  {
   "cell_type": "markdown",
   "metadata": {},
   "source": [
    "# 편-안한 단어\n",
    "\n",
    "> (QWERTY 키보드를 사용하여 타이핑을 한다고 가정할 때) '편안한 단어'는 타이핑 할 때 **손을 번갈아 칠 수 있는 단어**를 말합니다.\n",
    ">\n",
    "> 단어를 인자로 받아 그것이 '편안한 단어'인지 여부를 True/False로 반환하는 함수를 만드세요.(모든 단어는 a ~ z까지 오름차순으로 구성된 문자열입니다.)\n",
    "\n",
    "> 문자 목록\n",
    "- 왼손: q, w, e, r, t, a, s, s, d, f, g, z, x, c, v, b\n",
    "- 오른손: y, u, i, o, p, h, j, k, l, n, m"
   ]
  },
  {
   "cell_type": "code",
   "execution_count": null,
   "metadata": {},
   "outputs": [],
   "source": [
    "# 여기에 코드를 작성하세요."
   ]
  },
  {
   "cell_type": "code",
   "execution_count": null,
   "metadata": {},
   "outputs": [],
   "source": [
    "def comfortable_word(word):\n",
    "    left = 'qwertasdfgzxcvb'\n",
    "    right = 'yuiophjklnm'\n",
    "    for i in range(len(word)-1):\n",
    "        if word[i] in left:\n",
    "            if word[i+1] in right:\n",
    "                ret = True\n",
    "            else:\n",
    "                ret = False\n",
    "                break\n",
    "        else:\n",
    "            if word[i+1] in left:\n",
    "                ret = True\n",
    "            else:\n",
    "                ret = False\n",
    "                break        \n",
    "    return ret"
   ]
  },
  {
   "cell_type": "code",
   "execution_count": null,
   "metadata": {},
   "outputs": [],
   "source": [
    "print(comfortable_word('qywu'))\n",
    "print(comfortable_word('apple'))"
   ]
  },
  {
   "cell_type": "code",
   "execution_count": null,
   "metadata": {},
   "outputs": [],
   "source": [
    "# lecturer's\n",
    "def comfortable_word_2(words):\n",
    "    left_word, right_word = 'qwertasdfgzxcvb', 'yuiophjklnm'\n",
    "    # 왼손이면 True\n",
    "    left = True if words[0] in left_word else False\n",
    "    \n",
    "    # 두 번째부터 비교 시작\n",
    "    for word in words[1:]:\n",
    "        # 두 번째 글자가 왼손이면서 앞 글자도 왼손이면 False\n",
    "        if word in left_word and left:\n",
    "            return False\n",
    "        # 두 번째 글자가 오른손이면서 앞 글자도 오른손이면 False\n",
    "        if word in right_word and not left:\n",
    "            return False\n",
    "        # 위 두 개 조건을 모두 만족 못하면 편안한 단어이므로 좌우 변경\n",
    "        left = not left\n",
    "    return True"
   ]
  },
  {
   "cell_type": "code",
   "execution_count": null,
   "metadata": {},
   "outputs": [],
   "source": [
    "print(comfortable_word_2('qywu'))\n",
    "print(comfortable_word_2('apple'))"
   ]
  },
  {
   "cell_type": "markdown",
   "metadata": {},
   "source": [
    "# 숫자패턴\n",
    "\n",
    ">원하는 행까지 아래의 패턴을 생성하는 함수를 작성하세요. 만약 인자가 0이나 음의 정수인 경우 빈 문자열('')로 반환하세요.\n",
    "> \n",
    "> 짝수가 인수로 전달되면 패턴은 통과된 짝수보다 작은 최대 홀수까지 계속되어야 합니다.\n",
    "\n",
    "```python\n",
    "# 예시 \n",
    "print(pattern(9)):\n",
    "\n",
    "1\n",
    "333\n",
    "55555\n",
    "7777777\n",
    "999999999\n",
    "\n",
    "print(pattern(6))\n",
    "1\n",
    "333\n",
    "55555\n",
    "```\n",
    "**유의\n",
    "패턴에 공백은 없습니다.**"
   ]
  },
  {
   "cell_type": "code",
   "execution_count": null,
   "metadata": {},
   "outputs": [],
   "source": [
    "# 여기에 코드를 작성하세요"
   ]
  },
  {
   "cell_type": "code",
   "execution_count": null,
   "metadata": {},
   "outputs": [],
   "source": [
    "def pattern(n):\n",
    "    result = ''\n",
    "    if n <= 0:\n",
    "        return 'unvalid number, 0'\n",
    "    else:\n",
    "        if n%2:            \n",
    "            for i in range(1, n+1, 2):\n",
    "                result += '%s'%i * i + '\\n'\n",
    "        else:\n",
    "            for i in range(1, n, 2):\n",
    "                result += '%s'%i * i + '\\n'\n",
    "    return result"
   ]
  },
  {
   "cell_type": "code",
   "execution_count": null,
   "metadata": {
    "scrolled": false
   },
   "outputs": [],
   "source": [
    "# 해당 코드를 통해 올바른 결과가 나오는지 확인하세요.\n",
    "print(pattern(9))\n",
    "print(pattern(6))\n",
    "print(pattern(0))"
   ]
  },
  {
   "cell_type": "code",
   "execution_count": null,
   "metadata": {},
   "outputs": [],
   "source": [
    "# lecturer's 1.\n",
    "def pattern2(n):\n",
    "    result = ''\n",
    "    # n이 짝수\n",
    "    if n % 2 == 0:\n",
    "        n -= 1\n",
    "    for x in range(1, n+1):\n",
    "        if x % 2:\n",
    "            result += str(x) * x\n",
    "            if x != n:\n",
    "                result += '\\n'\n",
    "    return result"
   ]
  },
  {
   "cell_type": "code",
   "execution_count": null,
   "metadata": {},
   "outputs": [],
   "source": [
    "print(pattern2(9))\n",
    "print(pattern2(6))"
   ]
  },
  {
   "cell_type": "code",
   "execution_count": null,
   "metadata": {},
   "outputs": [],
   "source": [
    "# lecturer's 2.\n",
    "def pattern3(n):\n",
    "    # 1부터 n까지 홀수로 된 리스트 만들기\n",
    "    result = ''\n",
    "    odd = [x for x in range(1, n+1) if x%2]\n",
    "    for i in odd:\n",
    "        result += str(i)*i + '\\n'\n",
    "    return result    "
   ]
  },
  {
   "cell_type": "code",
   "execution_count": null,
   "metadata": {},
   "outputs": [],
   "source": [
    "print(pattern3(9))\n",
    "print(pattern3(6))"
   ]
  },
  {
   "cell_type": "code",
   "execution_count": null,
   "metadata": {},
   "outputs": [],
   "source": [
    "# lecturer's 3.\n",
    "def pattern4(n):\n",
    "    result = [str(x)*x for x in range(1, n+1) if x%2]\n",
    "    return '\\n'.join(result)"
   ]
  },
  {
   "cell_type": "code",
   "execution_count": null,
   "metadata": {},
   "outputs": [],
   "source": [
    "print(pattern4(9))\n",
    "print(pattern4(6))"
   ]
  },
  {
   "cell_type": "markdown",
   "metadata": {},
   "source": [
    "# 숫자가 좋아\n",
    "\n",
    "> 섞여있는 문자열 속에서 정수만 뽑아내 합을 반환하는 함수 `pick_and_sum`를 작성하세요.\n",
    "\n",
    "예시)\n",
    "```python\n",
    "print(pick_and_sum('The30quick20brown10f0x1203jumps914ov3r1349the102l4zy dog')) #=> 3635\n",
    "```"
   ]
  },
  {
   "cell_type": "code",
   "execution_count": null,
   "metadata": {},
   "outputs": [],
   "source": [
    "# 여기에 코드를 작성하세요."
   ]
  },
  {
   "cell_type": "code",
   "execution_count": null,
   "metadata": {},
   "outputs": [],
   "source": [
    "# 숫자 받기 isdecimal isnumeric isdigit isalpha\n",
    "# 다음에 문자 나오면 그 이전까지 숫자는 하나로 묶어 새로 넣기\n",
    "# 새로 넣은 수들 합하기\n",
    "\n",
    "def pick_and_sum(lazy_dog):\n",
    "    figure = ''\n",
    "    total = 0\n",
    "    for i in lazy_dog:\n",
    "        if i.isdigit():\n",
    "            figure += i\n",
    "            #print(figure)\n",
    "        else:\n",
    "            if figure != '':\n",
    "                total += int(figure)\n",
    "                figure = ''\n",
    "            \n",
    "    return total"
   ]
  },
  {
   "cell_type": "code",
   "execution_count": null,
   "metadata": {},
   "outputs": [],
   "source": [
    "# 해당 코드를 통해 올바른 결과가 나오는지 확인하세요.\n",
    "print(pick_and_sum('The30quick20brown10f0x1203jumps914ov3r1349the102l4zy dog'))"
   ]
  },
  {
   "cell_type": "code",
   "execution_count": null,
   "metadata": {},
   "outputs": [],
   "source": [
    "# lecturer's 1.\n",
    "# .isdecimal() 사용\n",
    "# 결과를 낼 result 정수\n",
    "# 잠시 저장할 num 문자열 하나\n",
    "def pick_and_sum2(words):\n",
    "    result = 0\n",
    "    num = ''\n",
    "    for word in words:\n",
    "        if word.isdecimal():\n",
    "            num += word\n",
    "        elif num:\n",
    "            result += int(num)\n",
    "            num = ''\n",
    "    return result"
   ]
  },
  {
   "cell_type": "code",
   "execution_count": null,
   "metadata": {},
   "outputs": [],
   "source": [
    "print(pick_and_sum2('The30quick20brown10f0x1203jumps914ov3r1349the102l4zy dog'))"
   ]
  },
  {
   "cell_type": "code",
   "execution_count": null,
   "metadata": {},
   "outputs": [],
   "source": [
    "# lecturer's 2.\n",
    "# .replace() 로 정수가 아닌 아이들을 모두 공백 처리\n",
    "\n",
    "def pick_and_sum3(words):\n",
    "    for word in words:\n",
    "        if not word.isdecimal():\n",
    "            words = words.replace(word, ' ')\n",
    "    total = sum(map(int, words.split()))\n",
    "    return total"
   ]
  },
  {
   "cell_type": "code",
   "execution_count": null,
   "metadata": {},
   "outputs": [],
   "source": [
    "print(pick_and_sum3('The30quick20brown10f0x1203jumps914ov3r1349the102l4zy dog'))"
   ]
  }
 ],
 "metadata": {
  "kernelspec": {
   "display_name": "Python 3",
   "language": "python",
   "name": "python3"
  },
  "language_info": {
   "codemirror_mode": {
    "name": "ipython",
    "version": 3
   },
   "file_extension": ".py",
   "mimetype": "text/x-python",
   "name": "python",
   "nbconvert_exporter": "python",
   "pygments_lexer": "ipython3",
   "version": "3.7.3"
  },
  "latex_envs": {
   "LaTeX_envs_menu_present": true,
   "autoclose": false,
   "autocomplete": true,
   "bibliofile": "biblio.bib",
   "cite_by": "apalike",
   "current_citInitial": 1,
   "eqLabelWithNumbers": true,
   "eqNumInitial": 1,
   "hotkeys": {
    "equation": "Ctrl-E",
    "itemize": "Ctrl-I"
   },
   "labels_anchors": false,
   "latex_user_defs": false,
   "report_style_numbering": false,
   "user_envs_cfg": false
  },
  "toc": {
   "base_numbering": 1,
   "nav_menu": {},
   "number_sections": true,
   "sideBar": true,
   "skip_h1_title": false,
   "title_cell": "Table of Contents",
   "title_sidebar": "Contents",
   "toc_cell": false,
   "toc_position": {},
   "toc_section_display": true,
   "toc_window_display": false
  }
 },
 "nbformat": 4,
 "nbformat_minor": 2
}
