{
 "metadata": {
  "language_info": {
   "codemirror_mode": {
    "name": "ipython",
    "version": 3
   },
   "file_extension": ".py",
   "mimetype": "text/x-python",
   "name": "python",
   "nbconvert_exporter": "python",
   "pygments_lexer": "ipython3",
   "version": "3.8.5-final"
  },
  "orig_nbformat": 2,
  "kernelspec": {
   "name": "python3",
   "display_name": "Python 3"
  }
 },
 "nbformat": 4,
 "nbformat_minor": 2,
 "cells": [
  {
   "source": [
    "# Pandas\n",
    "* 인덱스(Index)에 따라 데이터를 나열하므로 Dictionary 자료형에 가까움\n",
    "* 시리즈(Series)를 기본 자료형으로 사용"
   ],
   "cell_type": "markdown",
   "metadata": {}
  },
  {
   "source": [
    "## Series\n",
    "* \"인덱스\"와 \"값\"으로 구성"
   ],
   "cell_type": "markdown",
   "metadata": {}
  },
  {
   "source": [
    "import pandas as pd"
   ],
   "cell_type": "code",
   "metadata": {},
   "execution_count": 2,
   "outputs": []
  },
  {
   "cell_type": "code",
   "execution_count": 4,
   "metadata": {},
   "outputs": [
    {
     "output_type": "stream",
     "name": "stdout",
     "text": [
      "a     사과\nb    바나나\nc     당근\ndtype: object\n사과\n"
     ]
    }
   ],
   "source": [
    "arr = pd.Series(['사과', '바나나', '당근'], index=['a', 'b', 'c'])\n",
    "\n",
    "print(arr)\n",
    "print(arr['a'])"
   ]
  },
  {
   "cell_type": "code",
   "execution_count": 5,
   "metadata": {},
   "outputs": [
    {
     "output_type": "stream",
     "name": "stdout",
     "text": [
      "사과\n"
     ]
    }
   ],
   "source": [
    "data = {\n",
    "    'a': '사과',\n",
    "    'b': '바나나',\n",
    "    'c': '당근',\n",
    "}\n",
    "\n",
    "arr = pd.Series(data)\n",
    "print(arr['a'])"
   ]
  },
  {
   "source": [
    "## DataFrame\n",
    "* 다수의 시리즈(Series)를 모아 처리하기 위한 목적으로 사용\n",
    "* 표 형태로 데이터를 손쉽게 출력하고자 할 때 사용 가능"
   ],
   "cell_type": "markdown",
   "metadata": {}
  },
  {
   "cell_type": "code",
   "execution_count": 8,
   "metadata": {},
   "outputs": [
    {
     "output_type": "stream",
     "name": "stdout",
     "text": [
      "       word  frequency\nApple    사과          3\nBanana  바나나          5\nCarrot   당근          7\n"
     ]
    }
   ],
   "source": [
    "word_dict = {\n",
    "    'Apple': '사과',\n",
    "    'Banana': '바나나',\n",
    "    'Carrot': '당근'\n",
    "}\n",
    "\n",
    "freq_dict = {\n",
    "    'Apple': 3,\n",
    "    'Banana': 5,\n",
    "    'Carrot': 7\n",
    "}\n",
    "\n",
    "word = pd.Series(word_dict)\n",
    "freq = pd.Series(freq_dict)\n",
    "\n",
    "summary = pd.DataFrame({\n",
    "    'word': word,\n",
    "    'frequency': freq\n",
    "})\n",
    "\n",
    "print(summary)"
   ]
  },
  {
   "source": [
    "## 시리즈의 연산\n",
    "* 시리즈는 연산을 통해 새로운 시리즈를 만들 수 있음"
   ],
   "cell_type": "markdown",
   "metadata": {}
  },
  {
   "cell_type": "code",
   "execution_count": 12,
   "metadata": {},
   "outputs": [
    {
     "output_type": "stream",
     "name": "stdout",
     "text": [
      "       word  frequency  importance  score\nApple    사과          3           3      9\nBanana  바나나          5           2     10\nCarrot   당근          7           1      7\n===========\n        importance  score\nBanana           2     10\nCarrot           1      7\n===========\nBanana    2\nCarrot    1\nName: importance, dtype: int64\n"
     ]
    }
   ],
   "source": [
    "word_dict = {\n",
    "    'Apple': '사과',\n",
    "    'Banana': '바나나',\n",
    "    'Carrot': '당근'\n",
    "}\n",
    "\n",
    "freq_dict = {\n",
    "    'Apple': 3,\n",
    "    'Banana': 5,\n",
    "    'Carrot': 7\n",
    "}\n",
    "\n",
    "importance_dict = {\n",
    "    'Apple': 3,\n",
    "    'Banana': 2,\n",
    "    'Carrot': 1\n",
    "}\n",
    "\n",
    "word = pd.Series(word_dict)\n",
    "freq = pd.Series(freq_dict)\n",
    "importance = pd.Series(importance_dict)\n",
    "\n",
    "summary = pd.DataFrame({\n",
    "    'word': word,\n",
    "    'frequency': freq,\n",
    "    'importance': importance\n",
    "})\n",
    "\n",
    "score = summary['frequency'] * summary['importance']\n",
    "summary['score'] = score\n",
    "\n",
    "print(summary)\n",
    "\n",
    "print('===========')\n",
    "# 이름을 기준으로 슬라이싱\n",
    "print(summary.loc['Banana': 'Carrot', 'importance':])\n",
    "\n",
    "print('===========')\n",
    "# 인덱스 기준으로 슬라이싱\n",
    "print(summary.iloc[1:3, 2])"
   ]
  },
  {
   "source": [
    "## DataFrame의 슬라이싱"
   ],
   "cell_type": "markdown",
   "metadata": {}
  },
  {
   "cell_type": "code",
   "execution_count": 15,
   "metadata": {},
   "outputs": [
    {
     "output_type": "stream",
     "name": "stdout",
     "text": [
      "       word  frequency  importance\nApple    사과          3           3\nBanana  바나나          5           2\nCarrot   당근          7           1\nDurian  두리안          2           1\n===========\n        importance\nBanana           2\nCarrot           1\n===========\nBanana    2\nCarrot    1\nName: importance, dtype: int64\n"
     ]
    }
   ],
   "source": [
    "word_dict = {\n",
    "    'Apple': '사과',\n",
    "    'Banana': '바나나',\n",
    "    'Carrot': '당근',\n",
    "    'Durian': '두리안'\n",
    "}\n",
    "\n",
    "freq_dict = {\n",
    "    'Apple': 3,\n",
    "    'Banana': 5,\n",
    "    'Carrot': 7,\n",
    "    'Durian': 2\n",
    "}\n",
    "\n",
    "importance_dict = {\n",
    "    'Apple': 3,\n",
    "    'Banana': 2,\n",
    "    'Carrot': 1,\n",
    "    'Durian': 1\n",
    "}\n",
    "\n",
    "word = pd.Series(word_dict)\n",
    "freq = pd.Series(freq_dict)\n",
    "importance = pd.Series(importance_dict)\n",
    "\n",
    "summary = pd.DataFrame({\n",
    "    'word': word,\n",
    "    'frequency': freq,\n",
    "    'importance': importance\n",
    "})\n",
    "\n",
    "print(summary)\n",
    "\n",
    "print('===========')\n",
    "# 이름을 기준으로 슬라이싱\n",
    "print(summary.loc['Banana': 'Carrot', 'importance':])\n",
    "\n",
    "print('===========')\n",
    "# 인덱스 기준으로 슬라이싱\n",
    "print(summary.iloc[1:3, 2])"
   ]
  },
  {
   "source": [
    "## 엑셀로 내보내기/불러오기"
   ],
   "cell_type": "markdown",
   "metadata": {}
  },
  {
   "cell_type": "code",
   "execution_count": 16,
   "metadata": {},
   "outputs": [
    {
     "output_type": "stream",
     "name": "stdout",
     "text": [
      "       word  frequency\nApple    사과          3\nBanana  바나나          5\nCarrot   당근          7\n"
     ]
    }
   ],
   "source": [
    "word_dict = {\n",
    "    'Apple': '사과',\n",
    "    'Banana': '바나나',\n",
    "    'Carrot': '당근'\n",
    "}\n",
    "\n",
    "freq_dict = {\n",
    "    'Apple': 3,\n",
    "    'Banana': 5,\n",
    "    'Carrot': 7\n",
    "}\n",
    "\n",
    "word = pd.Series(word_dict)\n",
    "freq = pd.Series(freq_dict)\n",
    "\n",
    "summary = pd.DataFrame({\n",
    "    'word': word,\n",
    "    'frequency': freq\n",
    "})\n",
    "\n",
    "summary.to_csv('summary.csv', encoding='UTF-8-SIG')\n",
    "saved = pd.read_csv('summary.csv', index_col=0)\n",
    "print(saved)"
   ]
  }
 ]
}